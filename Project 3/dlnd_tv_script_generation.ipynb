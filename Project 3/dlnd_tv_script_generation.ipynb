{
 "cells": [
  {
   "cell_type": "markdown",
   "metadata": {
    "deletable": true,
    "editable": true
   },
   "source": [
    "# TV Script Generation\n",
    "In this project, you'll generate your own [Simpsons](https://en.wikipedia.org/wiki/The_Simpsons) TV scripts using RNNs.  You'll be using part of the [Simpsons dataset](https://www.kaggle.com/wcukierski/the-simpsons-by-the-data) of scripts from 27 seasons.  The Neural Network you'll build will generate a new TV script for a scene at [Moe's Tavern](https://simpsonswiki.com/wiki/Moe's_Tavern).\n",
    "## Get the Data\n",
    "The data is already provided for you.  You'll be using a subset of the original dataset.  It consists of only the scenes in Moe's Tavern.  This doesn't include other versions of the tavern, like \"Moe's Cavern\", \"Flaming Moe's\", \"Uncle Moe's Family Feed-Bag\", etc.."
   ]
  },
  {
   "cell_type": "code",
   "execution_count": 1,
   "metadata": {
    "collapsed": false,
    "deletable": true,
    "editable": true
   },
   "outputs": [],
   "source": [
    "\"\"\"\n",
    "DON'T MODIFY ANYTHING IN THIS CELL\n",
    "\"\"\"\n",
    "import helper\n",
    "\n",
    "data_dir = './data/simpsons/moes_tavern_lines.txt'\n",
    "text = helper.load_data(data_dir)\n",
    "# Ignore notice, since we don't use it for analysing the data\n",
    "text = text[81:]"
   ]
  },
  {
   "cell_type": "markdown",
   "metadata": {
    "deletable": true,
    "editable": true
   },
   "source": [
    "## Explore the Data\n",
    "Play around with `view_sentence_range` to view different parts of the data."
   ]
  },
  {
   "cell_type": "code",
   "execution_count": 2,
   "metadata": {
    "collapsed": false,
    "deletable": true,
    "editable": true
   },
   "outputs": [
    {
     "name": "stdout",
     "output_type": "stream",
     "text": [
      "Dataset Stats\n",
      "Roughly the number of unique words: 11492\n",
      "Number of scenes: 262\n",
      "Average number of sentences in each scene: 15.248091603053435\n",
      "Number of lines: 4257\n",
      "Average number of words in each line: 11.50434578341555\n",
      "\n",
      "The sentences 0 to 10:\n",
      "Moe_Szyslak: (INTO PHONE) Moe's Tavern. Where the elite meet to drink.\n",
      "Bart_Simpson: Eh, yeah, hello, is Mike there? Last name, Rotch.\n",
      "Moe_Szyslak: (INTO PHONE) Hold on, I'll check. (TO BARFLIES) Mike Rotch. Mike Rotch. Hey, has anybody seen Mike Rotch, lately?\n",
      "Moe_Szyslak: (INTO PHONE) Listen you little puke. One of these days I'm gonna catch you, and I'm gonna carve my name on your back with an ice pick.\n",
      "Moe_Szyslak: What's the matter Homer? You're not your normal effervescent self.\n",
      "Homer_Simpson: I got my problems, Moe. Give me another one.\n",
      "Moe_Szyslak: Homer, hey, you should not drink to forget your problems.\n",
      "Barney_Gumble: Yeah, you should only drink to enhance your social skills.\n",
      "\n",
      "\n"
     ]
    }
   ],
   "source": [
    "view_sentence_range = (0, 10)\n",
    "\n",
    "\"\"\"\n",
    "DON'T MODIFY ANYTHING IN THIS CELL\n",
    "\"\"\"\n",
    "import numpy as np\n",
    "\n",
    "print('Dataset Stats')\n",
    "print('Roughly the number of unique words: {}'.format(len({word: None for word in text.split()})))\n",
    "scenes = text.split('\\n\\n')\n",
    "print('Number of scenes: {}'.format(len(scenes)))\n",
    "sentence_count_scene = [scene.count('\\n') for scene in scenes]\n",
    "print('Average number of sentences in each scene: {}'.format(np.average(sentence_count_scene)))\n",
    "\n",
    "sentences = [sentence for scene in scenes for sentence in scene.split('\\n')]\n",
    "print('Number of lines: {}'.format(len(sentences)))\n",
    "word_count_sentence = [len(sentence.split()) for sentence in sentences]\n",
    "print('Average number of words in each line: {}'.format(np.average(word_count_sentence)))\n",
    "\n",
    "print()\n",
    "print('The sentences {} to {}:'.format(*view_sentence_range))\n",
    "print('\\n'.join(text.split('\\n')[view_sentence_range[0]:view_sentence_range[1]]))"
   ]
  },
  {
   "cell_type": "markdown",
   "metadata": {
    "deletable": true,
    "editable": true
   },
   "source": [
    "## Implement Preprocessing Functions\n",
    "The first thing to do to any dataset is preprocessing.  Implement the following preprocessing functions below:\n",
    "- Lookup Table\n",
    "- Tokenize Punctuation\n",
    "\n",
    "### Lookup Table\n",
    "To create a word embedding, you first need to transform the words to ids.  In this function, create two dictionaries:\n",
    "- Dictionary to go from the words to an id, we'll call `vocab_to_int`\n",
    "- Dictionary to go from the id to word, we'll call `int_to_vocab`\n",
    "\n",
    "Return these dictionaries in the following tuple `(vocab_to_int, int_to_vocab)`"
   ]
  },
  {
   "cell_type": "code",
   "execution_count": 3,
   "metadata": {
    "collapsed": false,
    "deletable": true,
    "editable": true
   },
   "outputs": [
    {
     "name": "stdout",
     "output_type": "stream",
     "text": [
      "{0: 'social', 1: 'your', 2: 'ice', 3: 'me', 4: 'another', 5: 'got', 6: 'check', 7: 'normal', 8: 'has', 9: 'back', 10: 'these', 11: 'i', 12: 'skills', 13: \"i'll\", 14: 'one', 15: 'you', 16: 'little', 17: 'lately', 18: 'barney_gumble', 19: 'on', 20: 'catch', 21: 'the', 22: 'tavern', 23: 'puke', 24: 'an', 25: 'meet', 26: 'of', 27: \"i'm\", 28: 'moe_szyslak', 29: 'matter', 30: \"you're\", 31: 'self', 32: 'give', 33: 'there', 34: 'bart_simpson', 35: 'is', 36: 'enhance', 37: 'where', 38: 'seen', 39: 'hey', 40: 'hold', 41: 'listen', 42: 'homer', 43: 'days', 44: 'yeah', 45: 'drink', 46: 'carve', 47: 'hello', 48: 'whats', 49: 'not', 50: 'should', 51: 'elite', 52: 'only', 53: 'name', 54: 'last', 55: 'to', 56: 'mike', 57: 'effervescent', 58: 'with', 59: \"moe's\", 60: 'eh', 61: 'rotch', 62: 'gonna', 63: 'and', 64: 'homer_simpson', 65: 'forget', 66: 'anybody', 67: 'my', 68: 'moe', 69: 'pick', 70: 'problems'}\n",
      "Tests Passed\n"
     ]
    }
   ],
   "source": [
    "import numpy as np\n",
    "import problem_unittests as tests\n",
    "\n",
    "def create_lookup_tables(text):\n",
    "    \"\"\"\n",
    "    Create lookup tables for vocabulary\n",
    "    :param text: The text of tv scripts split into words\n",
    "    :return: A tuple of dicts (vocab_to_int, int_to_vocab)\n",
    "    \"\"\"\n",
    "    # TODO: Implement Function\n",
    "\n",
    "\n",
    "    vocab = set(text)\n",
    "    vocab_to_int = {c: i for i, c in enumerate(vocab)}\n",
    "    int_to_vocab = dict(enumerate(vocab))\n",
    "    \n",
    "    return (vocab_to_int, int_to_vocab)\n",
    "\n",
    "\n",
    "\"\"\"\n",
    "DON'T MODIFY ANYTHING IN THIS CELL THAT IS BELOW THIS LINE\n",
    "\"\"\"\n",
    "tests.test_create_lookup_tables(create_lookup_tables)"
   ]
  },
  {
   "cell_type": "markdown",
   "metadata": {
    "deletable": true,
    "editable": true
   },
   "source": [
    "### Tokenize Punctuation\n",
    "We'll be splitting the script into a word array using spaces as delimiters.  However, punctuations like periods and exclamation marks make it hard for the neural network to distinguish between the word \"bye\" and \"bye!\".\n",
    "\n",
    "Implement the function `token_lookup` to return a dict that will be used to tokenize symbols like \"!\" into \"||Exclamation_Mark||\".  Create a dictionary for the following symbols where the symbol is the key and value is the token:\n",
    "- Period ( . )\n",
    "- Comma ( , )\n",
    "- Quotation Mark ( \" )\n",
    "- Semicolon ( ; )\n",
    "- Exclamation mark ( ! )\n",
    "- Question mark ( ? )\n",
    "- Left Parentheses ( ( )\n",
    "- Right Parentheses ( ) )\n",
    "- Dash ( -- )\n",
    "- Return ( \\n )\n",
    "\n",
    "This dictionary will be used to token the symbols and add the delimiter (space) around it.  This separates the symbols as it's own word, making it easier for the neural network to predict on the next word. Make sure you don't use a token that could be confused as a word. Instead of using the token \"dash\", try using something like \"||dash||\"."
   ]
  },
  {
   "cell_type": "code",
   "execution_count": 4,
   "metadata": {
    "collapsed": false,
    "deletable": true,
    "editable": true
   },
   "outputs": [
    {
     "name": "stdout",
     "output_type": "stream",
     "text": [
      "Tests Passed\n"
     ]
    }
   ],
   "source": [
    "def token_lookup():\n",
    "    \"\"\"\n",
    "    Generate a dict to turn punctuation into a token.\n",
    "    :return: Tokenize dictionary where the key is the punctuation and the value is the token\n",
    "    \"\"\"\n",
    "    # TODO: Implement Function\n",
    "    \n",
    "    tokens = {\n",
    "        '.': '||PERIOD||',\n",
    "        ',': '||COMMA||',\n",
    "        '\"': '||QUOTATION-MARK||',\n",
    "        ';': '||SEMICOLON||',\n",
    "        '!': '||EXCLAMATION-MARK||',\n",
    "        '?': '||QUESTION-MARK||',\n",
    "        '(': '||LEFT-PAR||',\n",
    "        ')': '||RIGHT-PAR||',\n",
    "        '--': '||DASH||',\n",
    "        '\\n': '||RETURN||'\n",
    "    }\n",
    "    return tokens\n",
    "\n",
    "\"\"\"\n",
    "DON'T MODIFY ANYTHING IN THIS CELL THAT IS BELOW THIS LINE\n",
    "\"\"\"\n",
    "tests.test_tokenize(token_lookup)"
   ]
  },
  {
   "cell_type": "markdown",
   "metadata": {
    "deletable": true,
    "editable": true
   },
   "source": [
    "## Preprocess all the data and save it\n",
    "Running the code cell below will preprocess all the data and save it to file."
   ]
  },
  {
   "cell_type": "code",
   "execution_count": 5,
   "metadata": {
    "collapsed": false,
    "deletable": true,
    "editable": true
   },
   "outputs": [
    {
     "name": "stdout",
     "output_type": "stream",
     "text": [
      "{0: 'tv_husband:', 1: \"watchin'\", 2: 'thousands', 3: 'attractive_woman_#1:', 4: 'gig', 5: 'innocuous', 6: 'juke', 7: 'month', 8: 'doy', 9: 'awed', 10: 'clips', 11: '_marvin_monroe:', 12: 'ireland', 13: 'can', 14: 'choose', 15: 'brainheaded', 16: 'blame', 17: 'hall', 18: 'hidden', 19: 'schorr', 20: 'wednesday', 21: 'sunday', 22: 'hugh', 23: 'room', 24: 'raising', 25: 'stamp', 26: 'jukebox_record:', 27: 'change', 28: 'crestfallen', 29: 'gregor', 30: 'eddie:', 31: 'omigod', 32: 'rainier_wolfcastle:', 33: 'small_boy:', 34: 'water', 35: 'dropped', 36: 'how', 37: 'tease', 38: 'finally', 39: 'money', 40: 'connection', 41: 'briefly', 42: 'listen', 43: 'dreamily', 44: 'horrified', 45: 'index', 46: 'lowers', 47: 'nevada', 48: 'gumbel', 49: 'consciousness', 50: \"chewin'\", 51: 'nigel_bakerbutcher:', 52: 'problems', 53: 'notch', 54: 'slaps', 55: 'found', 56: 'desperately', 57: 'slays', 58: 'buzziness', 59: 'starla', 60: \"betsy'll\", 61: 'tonight', 62: 'hero-phobia', 63: \"ma's\", 64: 'nature', 65: 'wolverines', 66: 'set', 67: 'recorder', 68: 'giant', 69: 'someplace', 70: 'support', 71: 'movie', 72: 'self-centered', 73: 'capitalists', 74: 'design', 75: 'blows', 76: 'blessing', 77: 'north', 78: 'agh', 79: 'people', 80: 'microwave', 81: 'eager', 82: 'hears', 83: \"hell's\", 84: 'wayne', 85: 'teams', 86: 'ferry', 87: 'cares', 88: 'gabriel', 89: 'recorded', 90: 'furiously', 91: 'own', 92: 'mmm-hmm', 93: \"fallin'\", 94: 'tapestry', 95: 'steamed', 96: 'traitor', 97: 'minister', 98: 'ad', 99: 'lives', 100: 'rods', 101: 'control', 102: 'launch', 103: 'lear', 104: 'sexual', 105: \"talkin'\", 106: 'co-sign', 107: 'buddy', 108: 'least', 109: 'spot', 110: 'girl', 111: 'abcs', 112: 'dictator', 113: 'somewhere', 114: 'fbi_agent:', 115: 'club', 116: 'coffee', 117: 'truck', 118: 'low', 119: 'scientists', 120: 'hockey-fight', 121: 'ding-a-ding-ding-ding-ding-ding-ding', 122: 'keys', 123: 'ran', 124: 'son', 125: 'protestantism', 126: 'four-drink', 127: 'sweetest', 128: 'protesting', 129: 'y-you', 130: \"challengin'\", 131: 'discuss', 132: 'wounds', 133: 'admit', 134: 'basement', 135: 'sell', 136: 'sugar-free', 137: 'gamble', 138: 'i/you', 139: 'chief_wiggum:', 140: 'england', 141: 'dispenser', 142: 'duff_announcer:', 143: 'moving', 144: 'nelson_muntz:', 145: \"cat's\", 146: 'promise', 147: 'mayor', 148: 'put', 149: 'whaaaa', 150: 'riveting', 151: 'drunk', 152: 'derisive', 153: 'devastated', 154: 'represents', 155: 'somehow', 156: 'laid', 157: 'brow', 158: 'steinbrenner', 159: 'terminated', 160: 'eyeballs', 161: 'then:', 162: 'sports_announcer:', 163: 'infestation', 164: 'heh-heh', 165: 'lis', 166: 'cheered', 167: 'tony', 168: 'exciting', 169: 'permanent', 170: 'mmm', 171: 'harder', 172: 'jimmy', 173: 'dana_scully:', 174: 'milhouse_van_houten:', 175: 'cap', 176: 'joey', 177: 'doppler', 178: 'science', 179: 'pointing', 180: 'theory', 181: 'given', 182: 'sistine', 183: 'all-star', 184: 'mini-beret', 185: 'soaking', 186: '10:15', 187: 'drinks', 188: 'way', 189: 'orifice', 190: \"drinkin'\", 191: 'smelly', 192: 'smooth', 193: 'voice:', 194: 'arm-pittish', 195: 'hurt', 196: 'of', 197: \"pullin'\", 198: 'after', 199: 'watching', 200: 'joined', 201: 'eats', 202: 'clean', 203: 'drove', 204: 'man_with_tree_hat:', 205: 'heartily', 206: 'pajamas', 207: 'dropping', 208: 'rug', 209: 'badge', 210: 'five-fifteen', 211: 'warranty', 212: 'tenuous', 213: 'angrily', 214: 'fortress', 215: 'toss', 216: 'cheapskates', 217: 'consulting', 218: \"springfield's\", 219: 'eggshell', 220: 'nods', 221: \"grandmother's\", 222: 'holds', 223: 'christian', 224: 'elite', 225: 'carny:', 226: 'acting', 227: 'worldview', 228: 'anyhoo', 229: 'chuckle', 230: 'patterns', 231: 'writing', 232: \"heat's\", 233: 'civilization', 234: \"santa's\", 235: 'products', 236: \"year's\", 237: 'chicken', 238: \"i'll\", 239: 'methinks', 240: 'regulars', 241: 'simplest', 242: 'space-time', 243: 'sensible', 244: 'partner', 245: 'winnings', 246: 'value', 247: 'henry', 248: 'local', 249: 'begging', 250: 'teenage_bart:', 251: 'winning', 252: 'months', 253: 'boyhood', 254: '||comma||', 255: 'grow', 256: 'cuddling', 257: 'explain', 258: 'sly', 259: 'coney', 260: 'pepper', 261: 'cigars', 262: 'ga', 263: 'dash', 264: 'shipment', 265: '||dash||', 266: 'shill', 267: 'tanking', 268: 'used', 269: \"playin'\", 270: 'beer:', 271: 'trashed', 272: 'passports', 273: 'sheet', 274: 'belch', 275: 'painted', 276: 'wangs', 277: 'reaction', 278: 'pussycat', 279: 'mexican', 280: 'floating', 281: 'vegas', 282: 'when', 283: 'lincoln', 284: 'sexton', 285: 'feels', 286: 'fastest', 287: 'odor', 288: 'frankie', 289: 'aristotle:', 290: 'race', 291: 'taste', 292: 'clock', 293: 'pas', 294: 'judge_snyder:', 295: 'hank_williams_jr', 296: 'cats', 297: 'distinct', 298: 'lloyd:', 299: 'compressions', 300: 'sweetly', 301: 'post-suicide', 302: \"someone's\", 303: 'exception:', 304: 'ads', 305: 'hated', 306: 'influence', 307: 'shout', 308: 'insured', 309: \"professor's\", 310: 'novel', 311: 'pills', 312: 'chinua', 313: 'correct', 314: 'spit', 315: 'generally', 316: 'buy', 317: 'good', 318: 'nein', 319: 'absolutely', 320: 'managed', 321: 'overstressed', 322: 'special', 323: 'hippies', 324: \"i-i'll\", 325: 'designated', 326: 'bible', 327: 'lay', 328: 'record', 329: 'sixty-nine', 330: 'bathtub', 331: 'fustigate', 332: 'lie', 333: 'diablo', 334: 'hardy', 335: 'here-here-here', 336: 'liven', 337: 'murmurs', 338: 'reserve', 339: 'roses', 340: 'guinea', 341: 'wasted', 342: 'milks', 343: 'plans', 344: 'sanitary', 345: 'football_announcer:', 346: \"listenin'\", 347: 'come', 348: 'cheaped', 349: 'weary', 350: 'koi', 351: 'lot', 352: 'thrust', 353: 'signed', 354: 'aging', 355: 'knit', 356: 'coy', 357: 'wildest', 358: 'forbidden', 359: 'filthy', 360: 'bubble', 361: 'paint', 362: 'assassination', 363: 'shop', 364: 'brunswick', 365: 'positive', 366: 'flea:', 367: 'hundred', 368: 'groveling', 369: \"enjoyin'\", 370: 'aunt', 371: 'government', 372: 'bashir', 373: 'jay', 374: 'boat', 375: 'xx', 376: 'excellent', 377: 'yap', 378: 'effervescent', 379: \"liftin'\", 380: 'mmmm', 381: 'darkest', 382: 'laughter', 383: 'mushy', 384: 'wiggum', 385: 'irishman', 386: 'sympathizer', 387: 'sissy', 388: 'chub', 389: 'e', 390: 'engraved', 391: 'stagy', 392: 'mine', 393: 'dum-dum', 394: 'lenses', 395: 'cents', 396: 'orders', 397: \"hangin'\", 398: 'beligerent', 399: 'complaint', 400: 'gibson', 401: 'clincher', 402: 'moe_szyslak:', 403: 'sue', 404: 'fwooof', 405: 'polygon', 406: 'schedule', 407: 'sooo', 408: 'states', 409: 'pushes', 410: 'move', 411: 'fixed', 412: 'loafers', 413: 'prices', 414: 'perfect', 415: 'soft', 416: 'vacuum', 417: 'irish', 418: 'eight-year-old', 419: 'serum', 420: 'contest', 421: 'woooooo', 422: 'ow', 423: 'squirrel', 424: 'anti-crime', 425: \"thinkin'\", 426: \"kiddin'\", 427: 'incriminating', 428: 'done:', 429: 'poetry', 430: 'hangover', 431: 'hurry', 432: 'items', 433: 'rip', 434: 'assistant', 435: 'pinchpenny', 436: 'forever', 437: 'keep', 438: 'marry', 439: 'husband', 440: 'writers', 441: 'appropriate', 442: 'rule', 443: 'bits', 444: 'pipes', 445: 'unjustly', 446: 'curse', 447: \"spaghetti-o's\", 448: 'complete', 449: 'explaining', 450: \"beggin'\", 451: 'tokens', 452: \"now's\", 453: 'windelle', 454: 'taxes', 455: 'arrange', 456: 'eating', 457: 'south', 458: 'material', 459: 'luv', 460: 'richer', 461: 'indigenous', 462: 'happened', 463: 'rid', 464: 'whose', 465: 'dog', 466: 'knowingly', 467: 'social', 468: 'spend', 469: 'supermarket', 470: 'ebullient', 471: 'rainier', 472: 'harvesting', 473: 'please', 474: 'dryer', 475: 'comedies', 476: 'musses', 477: 'lenford', 478: 'quickly', 479: 'misfire', 480: 'lovely', 481: 'talked', 482: 'self-esteem', 483: 'lovejoy', 484: 'businessman_#1:', 485: 'railroads', 486: 'gimme', 487: 'grudgingly', 488: 'gonna', 489: \"ol'\", 490: \"swishifyin'\", 491: 'fury', 492: 'percent', 493: 'theme', 494: 'kicks', 495: 'fictional', 496: ':', 497: 'inning', 498: 'memory', 499: 'bears', 500: 'grieving', 501: 'killed', 502: 'hour', 503: 'wacky', 504: 'face', 505: 'you-need-man', 506: 'powered', 507: 'teddy', 508: 'feeling', 509: 'life', 510: 'reluctant', 511: \"sittin'\", 512: 'twentieth', 513: \"cleanin'\", 514: 'daaaaad', 515: 'bellyaching', 516: 'swill', 517: 'yourse', 518: 'slipped', 519: 'blank', 520: 'glummy', 521: 'run', 522: 'fry', 523: 'cold', 524: 'listening', 525: 'oils', 526: 'annus', 527: 'jubilant', 528: \"dolph's_dad:\", 529: 'community', 530: 'indeedy', 531: 'present', 532: 'sunny', 533: \"smokin'\", 534: 'blind', 535: 'sweetie', 536: 'confidential', 537: 'ambrose', 538: 'points', 539: 'copy', 540: 'followed', 541: 'six', 542: 'there', 543: 'willy', 544: 'lou', 545: 'presumir', 546: 'subscriptions', 547: 'eyes', 548: 'stealings', 549: 'splendid', 550: 'am', 551: 'ninth', 552: 'since', 553: 'advice', 554: 'enterprising', 555: 'banned', 556: 'prizefighters', 557: 'pickle', 558: 'alright', 559: 'minute', 560: 'delays', 561: 'played', 562: 'rolls', 563: 'snap', 564: 'schnapps', 565: 'trusted', 566: 'snitch', 567: 'glad', 568: 'cronies', 569: 'pizza', 570: 'brunch', 571: 'rope', 572: 'stand', 573: 'words', 574: 'badges', 575: 'called', 576: 'arse', 577: 'fortune', 578: 'slyly', 579: 'resenting', 580: 'contemptuous', 581: 'ninety-seven', 582: 'ticket', 583: 'togetherness', 584: 'bothered', 585: 'spit-backs', 586: 'rage', 587: 'six-barrel', 588: 'alien', 589: 'american', 590: 'tinkle', 591: 'birth', 592: 'freely', 593: 'chase', 594: 'hollye', 595: 'gang', 596: 'explanation', 597: 'toms', 598: 'dad', 599: 'stillwater:', 600: 'proudly', 601: 'deer', 602: \"she'd\", 603: 'every', 604: 'twenty-five', 605: 'fiiiiile', 606: 'blobbo', 607: 'heh', 608: 'saget', 609: 'goldarnit', 610: 'wish-meat', 611: 'began', 612: 'bust', 613: 'nahasapeemapetilon', 614: 'bold', 615: 'high-definition', 616: 'prettiest', 617: 'ten', 618: 'care', 619: 'kazoo', 620: 'ing', 621: 'went', 622: 'declare', 623: 'football', 624: 'running', 625: 'male_singers:', 626: 'woe:', 627: 'sugar', 628: 'accusing', 629: 'bag', 630: 'leans', 631: 'phony', 632: 'meaningless', 633: 'sassy', 634: 'buddha', 635: 'effects', 636: 'platinum', 637: 'professional', 638: 'politicians', 639: 'aah', 640: \"'s\", 641: 'poisoning', 642: 'ivanna', 643: 'golden', 644: 'couch', 645: 'end', 646: 'pull', 647: 'decency', 648: 'heather', 649: \"wearin'\", 650: 'rafter', 651: 'championship', 652: 'had', 653: 'noooooooooo', 654: 'gel', 655: 'video', 656: 'cheers', 657: 'chunk', 658: 'ladder', 659: 'simp-sonnnn', 660: 'kidneys', 661: 'inexorable', 662: 'city', 663: 'know', 664: 'sisters', 665: 'ideal', 666: 'instead', 667: 'reads', 668: '3', 669: 'easygoing', 670: 'cannot', 671: 'cousin', 672: 'until', 673: 'convinced', 674: 'actress', 675: 'i', 676: \"sippin'\", 677: 'guiltily', 678: 'tied', 679: 'language', 680: 're-al', 681: 'aer', 682: 'burnside', 683: 'dramatically', 684: \"ball's\", 685: 'puke-holes', 686: \"depressin'\", 687: 'scared', 688: 'knocked', 689: 'ideas', 690: 'games', 691: 'eleven', 692: 'schmoe', 693: 'extract', 694: 'sketching', 695: 'expensive', 696: 'temporarily', 697: 'indignant', 698: 'source', 699: 'friction', 700: 'sperm', 701: 'campaign', 702: '||right-par||', 703: 'handle', 704: 'example', 705: 'notably', 706: 'coward', 707: 'kids', 708: 'fire', 709: 'diddilies', 710: 'tonic', 711: 'doubt', 712: 'delts', 713: 'hits', 714: 'pulling', 715: 'moon-bounce', 716: 'application', 717: 'delete', 718: 'seething', 719: 'hmf', 720: 'jebediah', 721: 'feisty', 722: 'walked', 723: 'palmerston', 724: 'weep', 725: 'year', 726: 'bread', 727: 'refreshment', 728: 'boozy', 729: 'cockroaches', 730: 'kid', 731: 'proof', 732: 'bursts', 733: 'senator', 734: 'frink', 735: 'prohibit', 736: \"liberty's\", 737: 'shareholder', 738: 'supermodel', 739: 'along', 740: 'blackjack', 741: 'pews', 742: 'accurate', 743: 'detail', 744: 'classy', 745: 'massive', 746: 'older', 747: 'clothes', 748: 'sneering', 749: 'sponsor', 750: 'only', 751: 'insulted', 752: 'groan', 753: 'lugs', 754: 'gheet', 755: 'freaking', 756: 'seamstress', 757: 'jobless', 758: 'superior', 759: 'huh', 760: 'washer', 761: 'disposal', 762: \"g'night\", 763: 'repressed', 764: 'assume', 765: 'ape-like', 766: 'catch', 767: 'crowd:', 768: 'shutup', 769: 'pure', 770: 'eight', 771: 'helped', 772: \"homer'll\", 773: \"we've\", 774: 'marshmallow', 775: 'uniforms', 776: 'quick', 777: 'binoculars', 778: 'terrific', 779: 'goal', 780: \"treatin'\", 781: 'chauffeur', 782: 'mole', 783: 'disgraceful', 784: 'frogs', 785: 'ned', 786: 'bart_simpson:', 787: 'guys', 788: 'arm', 789: 'th', 790: 'degradation', 791: 'uh-huh', 792: \"children's\", 793: 'truth', 794: 'reminds', 795: \"fendin'\", 796: 'ninety-eight', 797: 'packets', 798: 'hang', 799: 'cab', 800: 'atari', 801: 'appeals', 802: 'build', 803: 'installed', 804: 'planted', 805: \"ladies'\", 806: 'really', 807: 'prepared', 808: 'paris', 809: 'bunion', 810: 'boxcars', 811: 'price', 812: 'itself', 813: 'lend', 814: 'charged', 815: 'warmth', 816: 'swear', 817: 'lushmore', 818: 'hillary', 819: 'joining', 820: 'sound', 821: 'hitchhike', 822: 'smuggled', 823: 'ignorant', 824: 'center', 825: 'lenny:', 826: 'characteristic', 827: 'routine', 828: 'laramie', 829: 'chick', 830: 'driveability', 831: 'sucker', 832: 'clown-like', 833: 'weirded-out', 834: 'beginning', 835: 'biggest', 836: \"must've\", 837: 'ineffective', 838: 'beard', 839: 'quarterback', 840: 'thighs', 841: 'perch', 842: 'al_gore:', 843: 'grabs', 844: 'kinderhook', 845: 'catching', 846: 'knock-up', 847: 'quality', 848: 'kills', 849: 'tobacky', 850: 'unattractive', 851: \"son's\", 852: 'seductive', 853: 'gift', 854: 'morning', 855: 'puke-pail', 856: 'na', 857: 'bit', 858: 'cockroach', 859: 'apartment', 860: 'childless', 861: 'weak', 862: 'exchange', 863: 'backbone', 864: 'guns', 865: 'accidents', 866: 'upon', 867: \"tv's\", 868: \"bar's\", 869: 'geez', 870: 'mines', 871: 'prank', 872: \"renovatin'\", 873: 'sigh', 874: 'stores', 875: 'surgery', 876: 'designer', 877: 'booger', 878: 'cent', 879: 'who-o-oa', 880: 'gave', 881: 'crazy', 882: 'appalled', 883: 'audience:', 884: \"it's\", 885: 'undies', 886: 'j', 887: 'yawns', 888: 'traitors', 889: 'sloppy', 890: 'anywhere', 891: 'rig', 892: 'examples', 893: 'crooks', 894: 'tanked-up', 895: 'conditioning', 896: 'written', 897: 'lobster-based', 898: 'maybe', 899: 'site', 900: 'darts', 901: 'wishful', 902: 'zone', 903: '50%', 904: 'prompting', 905: 'intriguing', 906: 'wrote', 907: 'born', 908: 'spine', 909: 'sister', 910: 'calvin', 911: 'larson', 912: 'weight', 913: 'burt', 914: 'lainie:', 915: 'named', 916: 'renew', 917: 'except', 918: 'jets', 919: 'spread', 920: \"where's\", 921: 'yoo', 922: 'yee-ha', 923: 'starve', 924: 'jeff', 925: 'portentous', 926: \"askin'\", 927: 'information', 928: 'shells', 929: 'nor', 930: 'smithers', 931: 'filth', 932: 'loud', 933: 'one-hour', 934: 'we', 935: 'uhhhh', 936: 'lists', 937: 'helicopter', 938: '91', 939: 'terror', 940: 'sale', 941: 'wade_boggs:', 942: 'chilly', 943: 'mcclure', 944: 'tofu', 945: 'remembers', 946: \"secret's\", 947: 'tv', 948: 'sports', 949: 'may', 950: 'hiding', 951: 'palm', 952: 'windowshade', 953: 'sidelines', 954: 'kl5-4796', 955: 'answered', 956: 'coined', 957: 'actor', 958: 'reconsidering', 959: 'while', 960: 'shirt', 961: 'moonshine', 962: 'mel', 963: 'fires', 964: 'covers', 965: 'lots', 966: 'lisa_simpson:', 967: 'emotional', 968: 'sausage', 969: \"ain't\", 970: 'madman', 971: 'parrot', 972: 'flowers', 973: 'authorized', 974: 'stamps', 975: 'bumped', 976: 'sick', 977: 'pushing', 978: 'full-blooded', 979: 'settles', 980: 'address', 981: 'diving', 982: 'presses', 983: 'skinny', 984: 'dentist', 985: 'hawaii', 986: 'bedroom', 987: 'toxins', 988: 'maya:', 989: 'washouts', 990: 'crisis', 991: 'boring', 992: 'nine', 993: '1-800-555-hugs', 994: 'haplessly', 995: 'steaming', 996: 'fanciest', 997: 'quimby_#2:', 998: 'parasol', 999: 'option', 1000: 'mount', 1001: 'jay_leno:', 1002: 'sorry', 1003: 'everyday', 1004: 'steel', 1005: 'limericks', 1006: 'newsies', 1007: 'ton', 1008: 'rafters', 1009: 'sauce', 1010: 'crushed', 1011: 'donut-shaped', 1012: 'dizzy', 1013: 'papa', 1014: 'toy', 1015: 'bush', 1016: 'the_rich_texan:', 1017: 'milhouses', 1018: 'pack', 1019: 'amiable', 1020: 'sharps', 1021: 'cars', 1022: 'pissed', 1023: 'california', 1024: 'understood', 1025: 'television', 1026: 'jamaican', 1027: 'brawled', 1028: 'loboto-moth', 1029: 'weapon', 1030: 'achem', 1031: 'rivalry', 1032: 'vehicle', 1033: 'landfill', 1034: 'carl_carlson:', 1035: 'chapstick', 1036: 'portfolium', 1037: 'hops', 1038: 'charlie', 1039: 'coins', 1040: 'angel', 1041: 'smile', 1042: 'dress', 1043: 'crow', 1044: \"nixon's\", 1045: \"could've\", 1046: 'pantry', 1047: 'awww', 1048: 'harv', 1049: 'spelling', 1050: 'afternoon', 1051: 'idealistic', 1052: 'foibles', 1053: \"boy's\", 1054: 'nobel', 1055: 'imaginary', 1056: 'radio', 1057: 'pickles', 1058: 'old', 1059: 'tv_announcer:', 1060: 'compliments', 1061: 'loved', 1062: 'stalwart', 1063: 'nudge', 1064: 'dismissive', 1065: 'dumbbell', 1066: 'drawing', 1067: 'fuzzlepitch', 1068: 'power', 1069: 'triumphantly', 1070: 'hardwood', 1071: 'delightfully', 1072: 'nineteen', 1073: 'pepsi', 1074: 'involving', 1075: 'partly', 1076: 'should', 1077: \"gentleman's\", 1078: 'unforgettable', 1079: 'stocking', 1080: \"they're\", 1081: 'boxers', 1082: 'darjeeling', 1083: 'original', 1084: \"plank's\", 1085: 'jokes', 1086: 'chateau', 1087: 'presentable', 1088: 'die', 1089: 'pre-game', 1090: 'nick', 1091: 'ahh', 1092: 'counting', 1093: \"he'll\", 1094: 'afraid', 1095: 'peace', 1096: 'finish', 1097: 'america', 1098: 'stadium', 1099: 'ticks', 1100: 'sinister', 1101: 'roz', 1102: 'real', 1103: 'likes', 1104: 'neat', 1105: 'celebrities', 1106: 'confession', 1107: \"soundin'\", 1108: 'heart-broken', 1109: 'excuse', 1110: 'afloat', 1111: 'spouses', 1112: \"wonderin'\", 1113: 'carpet', 1114: 'crumble', 1115: 'legs', 1116: 'noosey', 1117: 'considering:', 1118: 'mechanical', 1119: 'suicide', 1120: 'fondly', 1121: \"we'll\", 1122: 'dimly', 1123: 'adequate', 1124: 'drunks', 1125: 'genuinely', 1126: 'museum', 1127: 'stories', 1128: 'philosophical', 1129: 'afterglow', 1130: 'cushion', 1131: 'surprising', 1132: 'depressing', 1133: 'bedtime', 1134: \"everyone's\", 1135: 'barney-shaped_form:', 1136: 'layer', 1137: 'jigger', 1138: 'legoland', 1139: 'bees', 1140: 'open', 1141: 'remembered', 1142: 'nasa', 1143: 'gr-aargh', 1144: 'alley', 1145: 'part', 1146: 'neck', 1147: 'triangle', 1148: 'orphan', 1149: 'indifference', 1150: 'con', 1151: 'reliable', 1152: 'realizing', 1153: 'spoken', 1154: 'majesty', 1155: 'yoink', 1156: 'hers', 1157: 'advantage', 1158: 'predecessor', 1159: 'doooown', 1160: \"who's\", 1161: 'talkative', 1162: 'nightmares', 1163: 'aggie', 1164: 'hate-hugs', 1165: 'cutting', 1166: \"plaster's\", 1167: 'lift', 1168: 'mailbox', 1169: 'fica', 1170: \"tellin'\", 1171: 'attractive', 1172: 'hotel', 1173: \"what'd\", 1174: 'conditioners', 1175: 'acquitted', 1176: 'skills', 1177: 'gees', 1178: 'sedaris', 1179: 'miracle', 1180: 'light', 1181: \"can't-believe-how-bald-he-is\", 1182: 'superdad', 1183: 'applesauce', 1184: 'fad', 1185: 'sudoku', 1186: 'guard', 1187: 'sober', 1188: 'themselves', 1189: 'cowboys', 1190: 'unfresh', 1191: 'firm', 1192: 'clandestine', 1193: 'caused', 1194: 'uh', 1195: 'kermit', 1196: 'skinner', 1197: 'pirate', 1198: 'stage', 1199: 'cappuccino', 1200: 'decent', 1201: 'teach', 1202: 'sniffs', 1203: 'fast', 1204: 'half-beer', 1205: 'mad', 1206: 'protecting', 1207: 'sinkhole', 1208: 'enabling', 1209: '70', 1210: 'religion', 1211: 'putty', 1212: 'sticking-place', 1213: 'strong', 1214: 'pall', 1215: 'guest', 1216: 'dynamite', 1217: 'drawn', 1218: 'compared', 1219: 'ground', 1220: 'slap', 1221: 'terrifying', 1222: 'could', 1223: 'sail', 1224: 'shock', 1225: 'senators', 1226: 'bottoms', 1227: 'bloodiest', 1228: 'mission', 1229: 'continuum', 1230: 'fabulous', 1231: 'sea', 1232: \"hole'\", 1233: \"'cept\", 1234: 'gotten', 1235: 'actually', 1236: 'nucular', 1237: 'fist', 1238: 'right-handed', 1239: 'beanbag', 1240: 'meals', 1241: 'botanical', 1242: 'talk-sings', 1243: 'meaning', 1244: 'skydiving', 1245: 'guts', 1246: 'rancid', 1247: 'driver', 1248: 'shark', 1249: 'number', 1250: 'anthony_kiedis:', 1251: 'belts', 1252: \"father's\", 1253: 'lessee', 1254: 'mccarthy', 1255: 'restless', 1256: 'reasonable', 1257: 'enthusiasm', 1258: \"'til\", 1259: 'octa-', 1260: 'in-ground', 1261: 'fence', 1262: 'simpson', 1263: 'reviews', 1264: 'wizard', 1265: 'spy', 1266: 'kitchen', 1267: 'etc', 1268: 'snatch', 1269: 'pus-bucket', 1270: 'young', 1271: 'ah', 1272: 'uh-oh', 1273: 'murdoch', 1274: 'new_health_inspector:', 1275: 'tha', 1276: 'shaky', 1277: 'the', 1278: 'happens', 1279: 'human', 1280: 'meet', 1281: 'ale', 1282: 'door', 1283: 'gay', 1284: 'tender', 1285: 'sketch', 1286: 'punkin', 1287: 'mayan', 1288: 'jane', 1289: 'mudflap', 1290: 'ladies', 1291: 'than', 1292: 'mirthless', 1293: 'crimes', 1294: 'rebuilt', 1295: 'button', 1296: 'cushions', 1297: \"drivin'\", 1298: 'impressed', 1299: 'bathing', 1300: 'computer_voice_2:', 1301: 'elizabeth', 1302: 'inanely', 1303: 'de', 1304: 'grubby', 1305: \"meanin'\", 1306: 'sob', 1307: 'midge', 1308: 'startled', 1309: 'log', 1310: 'offense', 1311: 'thinking', 1312: 'said:', 1313: 'interrupting', 1314: 'italian', 1315: 'bride', 1316: 'imitating', 1317: 'saga', 1318: \"town's\", 1319: 'whole', 1320: 'books', 1321: 'plain', 1322: 'judges', 1323: 'gift:', 1324: 'typed', 1325: 'regretted', 1326: 'coat', 1327: 'yogurt', 1328: 'blade', 1329: 'going', 1330: 'see', 1331: 'bee', 1332: 'introduce', 1333: 'blooded', 1334: 'forward', 1335: 'crossed', 1336: 'popular', 1337: 'heads', 1338: 'touched', 1339: 'cross-country', 1340: 'libido', 1341: 'fourth', 1342: 'peter_buck:', 1343: 'new', 1344: \"'topes\", 1345: 'school', 1346: 'tsking', 1347: 'contractors', 1348: 'we-we-we', 1349: 'hangout', 1350: 'to', 1351: 'salary', 1352: 'norway', 1353: 'fights', 1354: 'midge:', 1355: 'warn', 1356: 'stripe', 1357: 'squeal', 1358: 'regret', 1359: \"isn't\", 1360: 'different', 1361: 'backward', 1362: 'saw', 1363: 'heavyset', 1364: 'sad', 1365: 'bam', 1366: \"seein'\", 1367: 'leg', 1368: 'criminal', 1369: 'resolution', 1370: 'ehhhhhhhhh', 1371: \"d'\", 1372: 'borrow', 1373: 'el', 1374: 'beached', 1375: 'spreads', 1376: 'based', 1377: 'zoomed', 1378: 'syndicate', 1379: 'is:', 1380: 'lookalike', 1381: 'field', 1382: 'jacksons', 1383: 'madonna', 1384: 'bottles', 1385: \"collector's\", 1386: 'babies', 1387: 'rolled', 1388: 'moron', 1389: 'heliotrope', 1390: 'lifters', 1391: 'universe', 1392: 'michelin', 1393: 'free', 1394: 'sour', 1395: 'bring', 1396: 'hunky', 1397: 'strolled', 1398: 'paper', 1399: 'ghouls', 1400: 'conversations', 1401: 'united', 1402: 'billboard', 1403: 'sector', 1404: 'fondest', 1405: 'jogging', 1406: 'squishee', 1407: 'turns', 1408: 'metal', 1409: 'life-extension', 1410: 'seeing', 1411: 'nerve', 1412: 'age', 1413: 'discriminate', 1414: 'cruise', 1415: 'commit', 1416: 'righ', 1417: 'plastered', 1418: 'panties', 1419: 'puffy', 1420: 'priceless', 1421: 'peach', 1422: 'exact', 1423: \"america's\", 1424: 'producers', 1425: 'ungrateful', 1426: 'village', 1427: 'ails', 1428: 'so-called', 1429: 'donor', 1430: 'glyco-load', 1431: 'flames', 1432: 'reentering', 1433: 'lemme', 1434: 'huggenkiss', 1435: 'perverse', 1436: 'better', 1437: 'customers', 1438: 'represent', 1439: 'cecil_terwilliger:', 1440: 'lookalike:', 1441: 'chanting', 1442: 'prison', 1443: 'feedbag', 1444: 'dirt', 1445: 'thanks', 1446: \"changin'\", 1447: 'invulnerable', 1448: 'raise', 1449: 'taxi', 1450: 'specified', 1451: 'rockers', 1452: 'marched', 1453: 'vote', 1454: \"bettin'\", 1455: 'victorious', 1456: 'cleveland', 1457: 'throats', 1458: 'juice', 1459: '3rd_voice:', 1460: 'harm', 1461: 'restroom', 1462: 'kent_brockman:', 1463: 'patron_#1:', 1464: 'considers', 1465: 'perfunctory', 1466: 'crowds', 1467: 'locklear', 1468: 'nantucket', 1469: 'lighting', 1470: 'skirt', 1471: 'pillows', 1472: 'accepting', 1473: 'crony', 1474: \"showin'\", 1475: 'magic', 1476: 'thoughtfully', 1477: 'statesmanlike', 1478: 'digging', 1479: 'little_man:', 1480: 'kidney', 1481: 'sneak', 1482: 'what-for', 1483: 'haw', 1484: 'johnny', 1485: 'switch', 1486: 'shoe', 1487: 'church', 1488: 'shooting', 1489: 'half-day', 1490: 'suru', 1491: 'email', 1492: 'temper', 1493: 'mags', 1494: 'stained-glass', 1495: 'k', 1496: 'list', 1497: 'busy', 1498: 'stripes', 1499: 'thankful', 1500: 'soup', 1501: 'dinks', 1502: 'wrecking', 1503: 'gear-head', 1504: 'stats', 1505: \"what're\", 1506: 'agnes_skinner:', 1507: 'winston', 1508: 'knows', 1509: 'art', 1510: 'libraries', 1511: 'gator:', 1512: 'benjamin', 1513: 'seems', 1514: 'dawning', 1515: 'smile:', 1516: 'kenny', 1517: 'department', 1518: 'tying', 1519: 'doom', 1520: 'health', 1521: 'contemplated', 1522: 'flips', 1523: 'button-pusher', 1524: 'mustard', 1525: 'excuses', 1526: 'courage', 1527: 'error', 1528: 'cries', 1529: 'nightmare', 1530: 'capuchin', 1531: 'pop', 1532: 'woman', 1533: 'recipe', 1534: 'ass', 1535: 'bachelor', 1536: 'furniture', 1537: 'jerking', 1538: 'breathtaking', 1539: 'donated', 1540: 'machine', 1541: 'crummy', 1542: 'ruint', 1543: 'series', 1544: 'adult', 1545: 'refill', 1546: 'state', 1547: 'boxer', 1548: 'well-wisher', 1549: 'solved', 1550: 'pawed', 1551: 'stops', 1552: \"dimwit's\", 1553: 'snapping', 1554: 'pride', 1555: 'moesy', 1556: 'game', 1557: 'wigs', 1558: 'swings', 1559: 'script', 1560: 'brockman', 1561: 'soul-crushing', 1562: 'frozen', 1563: \"you'd\", 1564: 'plotz', 1565: 'find', 1566: 'realized', 1567: 'live', 1568: 'joy', 1569: \"wouldn't-a\", 1570: 'thawing', 1571: 'onassis', 1572: 'wears', 1573: 'facebook', 1574: 'bully', 1575: 'granted', 1576: 'decadent', 1577: 'predictable', 1578: 'blend', 1579: 'half-back', 1580: 'eliminate', 1581: 'finished', 1582: 'ironed', 1583: 'sat-is-fac-tion', 1584: 'managing', 1585: 'wrestle', 1586: 'thirty-thousand', 1587: 'stink', 1588: 'sign', 1589: 'cocktail', 1590: 'camp', 1591: 'germs', 1592: 'thomas', 1593: 'pre-recorded', 1594: 'municipal', 1595: 'device', 1596: 'jernt', 1597: 'nominated', 1598: 'take-back', 1599: 'administration', 1600: 'increasingly', 1601: 'ho-la', 1602: 'horribilis', 1603: 'transmission', 1604: 'sweater', 1605: 'democracy', 1606: 'short', 1607: 'richard', 1608: 'presto:', 1609: 'chest', 1610: \"where'd\", 1611: 'fifth', 1612: 'ringing', 1613: 'peeping', 1614: 'yellow-belly', 1615: 'hideous', 1616: 'democrats', 1617: 'man:', 1618: \"washin'\", 1619: 'sweat', 1620: 'punk', 1621: 'woo-hoo', 1622: 'distract', 1623: 'sadly', 1624: 'grienke', 1625: 'evening', 1626: 'ridiculous', 1627: 'hemoglobin', 1628: 'quarter', 1629: 'glasses', 1630: 'hundreds', 1631: \"kid's\", 1632: 'market', 1633: 'cartoons', 1634: 'burns', 1635: 'as', 1636: 'thousand', 1637: 'party', 1638: 'quimbys:', 1639: \"takin'\", 1640: 'monkey', 1641: 'answers', 1642: 'howya', 1643: 'polish', 1644: 'tenor:', 1645: 'stinger', 1646: 'shreda', 1647: 'pay', 1648: 'regretful', 1649: 'its', 1650: 'twenty-six', 1651: 'idiot', 1652: 'beautiful', 1653: 'theatrical', 1654: 'escort', 1655: 'booth', 1656: \"ridin'\", 1657: 'checking', 1658: 'dejected', 1659: 'more', 1660: 'rookie', 1661: 'secret', 1662: 'eternity', 1663: 'congratulations', 1664: 'man_at_bar:', 1665: 'shrugs', 1666: \"'er\", 1667: 'clearly', 1668: 'enjoys', 1669: 'pilsner-pusher', 1670: 'pizzicato', 1671: \"larry's\", 1672: 'crippling', 1673: 'guide', 1674: 'düff', 1675: 'gil_gunderson:', 1676: 'poison', 1677: 'sincerely', 1678: 'touches', 1679: 'culkin', 1680: 'fireworks', 1681: 'pursue', 1682: 'whenever', 1683: 'noticing', 1684: 'above', 1685: 'jam', 1686: 'though', 1687: 'op', 1688: 'reason', 1689: 'gus', 1690: 'today', 1691: 'kansas', 1692: 'missed', 1693: 'divorced', 1694: '/mr', 1695: 'delivery_boy:', 1696: 'peanut', 1697: 'two-thirds-empty', 1698: 'nah', 1699: \"makin'\", 1700: \"wife's\", 1701: 'poorer', 1702: 'domed', 1703: 'kidding', 1704: 'cursed', 1705: 'sap', 1706: 'pudgy', 1707: 'krusty', 1708: 'trunk', 1709: 'looked', 1710: 'turkey', 1711: 'heaving', 1712: 'selfish', 1713: 'poke', 1714: 'honest', 1715: 'something:', 1716: 'raises', 1717: 'survive', 1718: 'flush-town', 1719: 'that', 1720: 'choke', 1721: 'mona_simpson:', 1722: 'cable', 1723: 'anderson', 1724: 'superhero', 1725: 'warm_female_voice:', 1726: 'suburban', 1727: 'argue', 1728: 'nickels', 1729: 'yak', 1730: 'asleep', 1731: 'arise', 1732: 'putting', 1733: \"what's\", 1734: 'aged', 1735: 'stern', 1736: 'ruled', 1737: 'thanksgiving', 1738: 'connor', 1739: 'stir', 1740: 'marge_simpson:', 1741: 'marge', 1742: 'author', 1743: 'chic', 1744: 'geyser', 1745: 'boxing', 1746: 'bid', 1747: 'using', 1748: 'men', 1749: 'developed', 1750: 'therapy', 1751: 'tough', 1752: 'tragedy', 1753: 'preparation', 1754: \"game's\", 1755: 'beat', 1756: 'goes', 1757: 'b', 1758: \"homer's_brain:\", 1759: 'playhouse', 1760: 'clientele', 1761: 'flack', 1762: 'africanized', 1763: 'majority', 1764: 'attach', 1765: 'braun:', 1766: 'needy', 1767: 'blob', 1768: \"number's\", 1769: 'non-losers', 1770: 'little', 1771: 'kemi:', 1772: \"eatin'\", 1773: 'short_man:', 1774: 'joking', 1775: 'guy', 1776: 'assert', 1777: 'package', 1778: 'alter', 1779: 'crawl', 1780: 'starving', 1781: 'experience', 1782: 'kucinich', 1783: 'thrilled', 1784: 'unable', 1785: 'evergreen', 1786: 'goods', 1787: 'flailing', 1788: 'daniel', 1789: 'audience', 1790: 'dennis', 1791: 'lenny', 1792: 'lighter', 1793: 'finale', 1794: 'pian-ee', 1795: 'cocoa', 1796: 'bell', 1797: 'attracted', 1798: 'underbridge', 1799: 'stonewall', 1800: 'rump', 1801: 'fevered', 1802: 'lap', 1803: 'press', 1804: 'title:', 1805: 'mozzarella', 1806: 'moe-clone', 1807: 'parents', 1808: '||period||', 1809: 'shoes', 1810: 'count', 1811: 'moonlight', 1812: 'bones', 1813: 'safely', 1814: 'pretzel', 1815: 'dead', 1816: 'stuff', 1817: 'bachelorette', 1818: 'willing', 1819: 'served', 1820: 'flaking', 1821: 'abercrombie', 1822: 'marjorie', 1823: 'kool', 1824: 'troy:', 1825: \"s'okay\", 1826: 'manuel', 1827: 'crotch', 1828: 'continued', 1829: 'lotta', 1830: 'courthouse', 1831: 'psst', 1832: \"wasn't\", 1833: 'bras', 1834: 'jacques:', 1835: 'examines', 1836: 'fl', 1837: '_kissingher:', 1838: 'hats', 1839: 'fringe', 1840: 'shoulders', 1841: 'unkempt', 1842: 'fell', 1843: 'jeter', 1844: 'abusive', 1845: 'politician', 1846: 'tick', 1847: 'soir', 1848: 'statues', 1849: 'planet', 1850: 'lawyer', 1851: \"wino's\", 1852: 'floated', 1853: 'karaoke_machine:', 1854: 'absentmindedly', 1855: \"summer's\", 1856: 'small', 1857: 'ambrosia', 1858: 'insulin', 1859: 'problemo', 1860: 'names', 1861: 'iranian', 1862: 'oooh', 1863: 'be-stainèd', 1864: 'store-bought', 1865: \"c'mere\", 1866: 'las', 1867: 'aggravazes', 1868: 'ahem', 1869: 'screw', 1870: 'motto', 1871: 'cecil', 1872: 'booze', 1873: 'lizard', 1874: 'linda', 1875: \"i'd'a\", 1876: 'stay', 1877: 'break-up', 1878: 'ratio', 1879: 'station', 1880: 'funds', 1881: 'picked', 1882: 'vacation', 1883: 'pad', 1884: 'load', 1885: 'du', 1886: 'tow-joes', 1887: \"speakin'\", 1888: 'cueball', 1889: 'jazz', 1890: 'hope', 1891: 'yourself', 1892: 'sets', 1893: 'limited', 1894: 'wound', 1895: \"thing's\", 1896: 'beating', 1897: 'tell', 1898: 'umm', 1899: 'hates', 1900: 'fumes', 1901: 'reality', 1902: 'telephone', 1903: 'earth', 1904: 'sanitation', 1905: 'traditions', 1906: 'election', 1907: 'pleasure', 1908: 'week', 1909: 'bloodball', 1910: 'wine', 1911: 'tail', 1912: 'gabriel:', 1913: 'destroyed', 1914: 'over-pronouncing', 1915: 'brings', 1916: 'such', 1917: 'gotcha', 1918: 'hard', 1919: 'raking', 1920: \"hasn't\", 1921: 'awareness', 1922: 'villanova', 1923: 'blissful', 1924: \"department's\", 1925: \"tryin'\", 1926: 'shard', 1927: 'now', 1928: 'drederick', 1929: 'depending', 1930: 'einstein', 1931: \"snappin'\", 1932: 'opening', 1933: 'adrift', 1934: 'pair', 1935: 'jackpot-thief', 1936: 'oblongata', 1937: 'failure', 1938: 'ding-a-ding-ding-a-ding-ding', 1939: 'steak', 1940: 'pfft', 1941: 'standards', 1942: 'reopen', 1943: 'coyly', 1944: 'oopsie', 1945: 'shorter', 1946: \"d'ya\", 1947: 'acceptance', 1948: 'ho-ly', 1949: 'asses', 1950: 'newly-published', 1951: 'hello', 1952: 'profiling', 1953: 'mixed', 1954: 'probably', 1955: 'sky', 1956: 'skinheads', 1957: 'bowie', 1958: \"yieldin'\", 1959: 'crystal', 1960: 'rough', 1961: 'smoker', 1962: 'tolerance', 1963: 'ohhhh', 1964: 'published', 1965: 'voice', 1966: '6', 1967: 'johnny_carson:', 1968: \"puttin'\", 1969: 'wudgy', 1970: 'begins', 1971: 'late', 1972: 'clearing', 1973: 'colossal', 1974: 'justify', 1975: 'enhance', 1976: 'branding', 1977: 'noise', 1978: \"'cause\", 1979: 'scrutinizing', 1980: 'glamour', 1981: '21', 1982: 'mabel', 1983: 'flying', 1984: 'nonchalantly', 1985: 'check', 1986: 'compadre', 1987: 'fainted', 1988: 'nuclear', 1989: 'congoleum', 1990: 'fill', 1991: 'barkeep', 1992: 'disappear', 1993: 'worry', 1994: 'lighten', 1995: 'kodos:', 1996: 'occupied', 1997: 'woodchucks', 1998: 'rapidly', 1999: \"brady's\", 2000: 'eyeball', 2001: 'incarcerated', 2002: 'wraps', 2003: 'champignons', 2004: 'loyal', 2005: 'othello', 2006: 'butter', 2007: 'dammit', 2008: 'foam', 2009: '$42', 2010: 'gasp', 2011: 'alky', 2012: 'puke', 2013: 'nectar', 2014: 'stolen', 2015: 'anyway', 2016: 'baloney', 2017: 'housework', 2018: 'system', 2019: 'all:', 2020: 'team', 2021: 'tree_hoper:', 2022: 'whee', 2023: 'remain', 2024: 'column', 2025: 'scooter', 2026: 'amount', 2027: 'allowed', 2028: 'indeed', 2029: 'passes', 2030: 'cheerier', 2031: 'scrubbing', 2032: 'desire', 2033: 'blew', 2034: 'yea', 2035: 'gore', 2036: 'nuked', 2037: 'operation', 2038: 'roll', 2039: 'germany', 2040: 'radiator', 2041: 'cruiser', 2042: 'brusque', 2043: 'ought', 2044: 'jack_larson:', 2045: 'dizer', 2046: 'selective', 2047: 'bitterly', 2048: 'fan', 2049: 'cologne', 2050: 'wage', 2051: 'effect', 2052: 'handing', 2053: 'c', 2054: 'sen', 2055: 'muffled', 2056: 'last', 2057: \"tony's\", 2058: 'mike', 2059: 'nearly', 2060: 'lotsa', 2061: 'eaters', 2062: 'army', 2063: 'newsweek', 2064: 'fox_mulder:', 2065: 'clapping', 2066: 'grab', 2067: 'access', 2068: 'impeach', 2069: 'especially', 2070: 'product', 2071: 'walther', 2072: \"moe's_thoughts:\", 2073: 'pointy', 2074: 'children', 2075: \"starla's\", 2076: 'opens', 2077: 'serious', 2078: 'tin', 2079: 'calling', 2080: 'forbids', 2081: 'yelp', 2082: 'lucius:', 2083: 'shindig', 2084: 'mickey', 2085: 'publish', 2086: 'with', 2087: 'impatient', 2088: 'express', 2089: 'bright', 2090: 'string', 2091: 'certain', 2092: 'reading', 2093: 'cleaner', 2094: 'cleaned', 2095: 'erasers', 2096: 'fair', 2097: 'alcoholism', 2098: 'fake', 2099: 'western', 2100: 'blinds', 2101: 'cocking', 2102: 'rolling', 2103: 'convenient', 2104: 'species', 2105: 'knives', 2106: 'wally', 2107: 'tall', 2108: 'priest', 2109: 'thunder', 2110: 'lucky', 2111: 'troll', 2112: 'direction', 2113: 'un-sults', 2114: 'snout', 2115: 'push', 2116: 'symphonies', 2117: 'faulkner', 2118: 'banquo', 2119: 'ominous', 2120: 'mate', 2121: 'wooooo', 2122: 'middle', 2123: 'fleabag', 2124: 'photos', 2125: 'lib', 2126: 'charge', 2127: 'refreshing', 2128: \"coffee'll\", 2129: 'underwear', 2130: 'whatchamacallit', 2131: 'prayer', 2132: 'k-zug', 2133: 'gas', 2134: 'rather', 2135: \"can't\", 2136: 'hospital', 2137: 'progress', 2138: 'myself', 2139: 'demand', 2140: 'kemi', 2141: 'closer', 2142: 'options', 2143: 'thinks', 2144: 'grope', 2145: 'pants', 2146: 'meeting', 2147: 'average', 2148: 'turlet', 2149: 'shesh', 2150: 'replaced', 2151: 'manage', 2152: 'intakes', 2153: 'stays', 2154: 'dies', 2155: 'soothing', 2156: 'beam', 2157: 'successful', 2158: 'tomorrow', 2159: \"brockman's\", 2160: 'mob', 2161: 'lobster-politans', 2162: 'headhunters', 2163: 'labels', 2164: 'killjoy', 2165: 'ago', 2166: 'kindly', 2167: 'grandiose', 2168: 'close', 2169: 'jerks', 2170: 'bottom', 2171: 'chug-monkeys', 2172: 'kim_basinger:', 2173: 'inspector', 2174: 'singing', 2175: 'noble', 2176: 'wallet', 2177: 'fragile', 2178: 'most:', 2179: 'priority', 2180: \"school's\", 2181: 'hubub', 2182: 'imagine', 2183: \"nothin'\", 2184: 'highball', 2185: 'youngsters', 2186: 'ralphie', 2187: 'looking', 2188: 'anyhow', 2189: 'kramer', 2190: 'babar', 2191: 'renee:', 2192: 'parenting', 2193: \"that'd\", 2194: \"tootin'\", 2195: 'rude', 2196: 'jar', 2197: 'motor', 2198: 'innocent', 2199: 'crinkly', 2200: 'um', 2201: 'fayed', 2202: 'alcohol', 2203: 'muscle', 2204: 'bindle', 2205: 'bathroom', 2206: 'scruffy_blogger:', 2207: 'wenceslas', 2208: 'guzzles', 2209: 'irs', 2210: 'attempting', 2211: 'nice', 2212: 'delicious', 2213: 'bar-boy', 2214: 'broad', 2215: 'skeptical', 2216: 'cliff', 2217: 'glorious', 2218: 'liser', 2219: 'sabermetrics', 2220: 'back', 2221: 'soon', 2222: 'shove', 2223: 'loan', 2224: 'celebrity', 2225: 'holy', 2226: 'yesterday', 2227: 'cookies', 2228: 'hooray', 2229: 'speech', 2230: 'arguing', 2231: \"somethin':\", 2232: 'gee', 2233: \"c'mon\", 2234: \"valentine's\", 2235: 'barbara', 2236: 'worse', 2237: 'swimmers', 2238: 'eve', 2239: 'moe-clone:', 2240: 'stalking', 2241: 'turning', 2242: 'fresco', 2243: 'have', 2244: 'haikus', 2245: 'dressed', 2246: 'excavating', 2247: 'microbrew', 2248: 'sneeze', 2249: 'sesame', 2250: 'super-genius', 2251: 'tasty', 2252: 'bushes', 2253: 'swooning', 2254: 'chance', 2255: 'novelty', 2256: \"homer's\", 2257: 'okay', 2258: 'so', 2259: 'each', 2260: 'yup', 2261: 'numbers', 2262: 'produce', 2263: 'grumbling', 2264: 'kako:', 2265: 'statue', 2266: 'eco-fraud', 2267: 'cheese', 2268: 'presents', 2269: 'lily-pond', 2270: 'grocery', 2271: 'kirk_van_houten:', 2272: 'deliberate', 2273: 'sobbing', 2274: 'neanderthal', 2275: 'next', 2276: 'everything', 2277: 'menacing', 2278: 'astronauts', 2279: 'sniper', 2280: 'cherry', 2281: 'damage', 2282: \"toot's\", 2283: 'focus', 2284: 'tom', 2285: 'caholic', 2286: 'shack', 2287: 'aggravated', 2288: 'victory', 2289: \"linin'\", 2290: 'beards', 2291: 'surprise', 2292: 'cover', 2293: 'seven', 2294: 'wikipedia', 2295: 'tiger', 2296: 'achebe', 2297: 'louder', 2298: 'bumblebee_man:', 2299: 'friendship', 2300: 'refiero', 2301: 'blue', 2302: 'pleading', 2303: 'hoagie', 2304: 'wife-swapping', 2305: 'table', 2306: 'accident', 2307: 'available', 2308: 'drawer', 2309: 'rummy', 2310: 'disco_stu:', 2311: 'gin', 2312: 'temples', 2313: 'acquaintance', 2314: 'bunch', 2315: 'wide', 2316: 'pregnancy', 2317: 'groans', 2318: 'weeks', 2319: 'where', 2320: \"c'mom\", 2321: 'firmly', 2322: 'humanity', 2323: 'hurts', 2324: 'steam', 2325: 'became', 2326: 'morlocks', 2327: 'harmony', 2328: 'level', 2329: 'settled', 2330: 'draw', 2331: 'suspicious', 2332: 'hired', 2333: 'whining', 2334: 'porn', 2335: 'proper', 2336: 'craphole', 2337: 'religious', 2338: 'ruin', 2339: 'trustworthy', 2340: 'does', 2341: \"'bout\", 2342: 'signal', 2343: 'twenty-nine', 2344: 'extremely', 2345: 'duty', 2346: 'nicer', 2347: 'sustain', 2348: 'blocked', 2349: 'overflowing', 2350: 'too', 2351: \"mo'\", 2352: 'complaining', 2353: 'bouquet', 2354: 'spite', 2355: 'and/or', 2356: 'throws', 2357: 'pope', 2358: 'sheets', 2359: 'therapist', 2360: 'cricket', 2361: 'appendectomy', 2362: 'chug-a-lug', 2363: 'kiss', 2364: 'therefore', 2365: 'buds', 2366: 'sensitivity', 2367: \"time's\", 2368: 'x', 2369: 'kearney_zzyzwicz:', 2370: 'fellas', 2371: 'coming', 2372: 'glitz', 2373: 'eye-gouger', 2374: 'manipulation', 2375: 'incapable', 2376: 'stan', 2377: 'mugs', 2378: 'maiden', 2379: 'slurps', 2380: 'impending', 2381: 'mistresses', 2382: 'entering', 2383: 'bitter', 2384: 'teenage_homer:', 2385: 'meaningful', 2386: 'rhode', 2387: 'overhearing', 2388: 'simultaneous', 2389: 'narrator:', 2390: 'carmichael', 2391: 'numeral', 2392: 'woman_bystander:', 2393: 'hell', 2394: 'wanna', 2395: 'taken', 2396: 'maximum', 2397: 'endorsed', 2398: 'growing', 2399: 'stevie', 2400: 'non-american', 2401: 'boxcar', 2402: 'detective_homer_simpson:', 2403: 'dark', 2404: 'joke', 2405: 'vance', 2406: 'grammy', 2407: 'less', 2408: 'investment', 2409: \"spyin'\", 2410: 'pharmaceutical', 2411: 'so-ng', 2412: 'awesome', 2413: 'sitar', 2414: \"s'cuse\", 2415: 'suits', 2416: 'practically', 2417: 'fight', 2418: 'twerpy', 2419: 'fireball', 2420: 'doreen:', 2421: 'pint', 2422: 'yuh-huh', 2423: 'correction', 2424: 'tiny', 2425: 'twenty-two', 2426: 'drinker', 2427: 'artist', 2428: 'hot-rod', 2429: '35', 2430: 'remodel', 2431: 'bullet-proof', 2432: 'hail', 2433: 'considering', 2434: 'seat', 2435: 'fork', 2436: 'feel', 2437: 'mobile', 2438: 'skunk', 2439: 'twenty', 2440: 'terrorizing', 2441: 'dazed', 2442: 'sounds', 2443: 're:', 2444: 'feminine', 2445: 'personal', 2446: 'grants', 2447: 'presidents', 2448: 'making', 2449: 'artie', 2450: 'transylvania', 2451: 'fall', 2452: 'increased', 2453: 'outta', 2454: 'heartless', 2455: 'dump', 2456: 'self-satisfied', 2457: 'brief', 2458: 'george', 2459: 'sucked', 2460: 'reporter:', 2461: 'mimes', 2462: 'shrieks', 2463: \"nick's\", 2464: \"mopin'\", 2465: 'flanders', 2466: 'manatee', 2467: \"hawkin'\", 2468: 'ew', 2469: 'is', 2470: 'wipes', 2471: 'seen', 2472: '50-60', 2473: 'mill', 2474: 'uninhibited', 2475: 'he', 2476: 'ron', 2477: 'suspiciously', 2478: 'bugging', 2479: 'montrer', 2480: 'faceful', 2481: 'rob', 2482: 'nash', 2483: 'eighty-seven', 2484: 'windshield', 2485: 'flexible', 2486: 'militia', 2487: 'brother-in-law', 2488: 'apulina', 2489: 'all', 2490: 'truck_driver:', 2491: 'anonymous', 2492: 'não', 2493: 'easier', 2494: 'legs:', 2495: 'away', 2496: 'yard', 2497: 'collette:', 2498: 'heatherton', 2499: 'fumigated', 2500: 'and:', 2501: 'bonfire', 2502: 'patty_bouvier:', 2503: 'action', 2504: 'job', 2505: 'saved', 2506: 'father', 2507: 'indecipherable', 2508: 'spamming', 2509: 'informant', 2510: 'cage', 2511: 'tab', 2512: 'mm-hmm', 2513: 'eighty-six', 2514: 'lover', 2515: 'prince', 2516: 'ali', 2517: 'xanders', 2518: 'boo', 2519: 'involved', 2520: \"there's\", 2521: 'prefer', 2522: 'boned', 2523: \"he's\", 2524: 'sam:', 2525: 'fat_in_the_hat:', 2526: 'contented', 2527: 'eyed', 2528: 'yourselves', 2529: 'lowering', 2530: 'inserts', 2531: 'saying', 2532: 'showed', 2533: 'insightful', 2534: 'murmur', 2535: 'flashing', 2536: 'ruby-studded', 2537: 'shape', 2538: 'save', 2539: 'equivalent', 2540: 'african', 2541: 'shoulder', 2542: 'vacations', 2543: 'presidential', 2544: 'pockets', 2545: 'penny', 2546: 'wobble', 2547: 'jukebox', 2548: 'mind-numbing', 2549: \"stabbin'\", 2550: 'pal', 2551: 'voodoo', 2552: 'phasing', 2553: 'chew', 2554: 'tape', 2555: 'len-ny', 2556: \"fans'll\", 2557: 'oooo', 2558: 'collateral', 2559: 'moe-heads', 2560: 'employment', 2561: 'body', 2562: 'moe-near-now', 2563: 'built', 2564: 'coaster', 2565: 'flynt', 2566: 'eighteen', 2567: 'arrived', 2568: 'attack', 2569: 'formico', 2570: 'smoothly', 2571: 'towed', 2572: 'sink', 2573: 'diminish', 2574: 'jackass', 2575: 'squeeze', 2576: \"burnin'\", 2577: 'reserved', 2578: 'trash', 2579: 'reading:', 2580: 'pipe', 2581: 'like', 2582: 'burg', 2583: 'forgiven', 2584: 'defected', 2585: 'cause', 2586: 'embarrassing', 2587: 'tried', 2588: 'halloween', 2589: 'neither', 2590: 'tactful', 2591: 'joe', 2592: 'female_inspector:', 2593: \"somebody's\", 2594: 'dee-fense', 2595: 'releases', 2596: 'pained', 2597: 'letter', 2598: 'satisfied', 2599: 'teen', 2600: 'loves', 2601: 'avenue', 2602: 'whup', 2603: 'muttering', 2604: 'dungeon', 2605: 'knew', 2606: 'closet', 2607: 'barflies:', 2608: 'conference', 2609: 'sideshow_bob:', 2610: 'lied', 2611: 'worried', 2612: 'riding', 2613: 'heart', 2614: 'internet', 2615: \"queen's\", 2616: 'shakes', 2617: 'self', 2618: 'tight', 2619: 'bar_rag:', 2620: 'john', 2621: 'picky', 2622: 'sweetheart', 2623: 'blossoming', 2624: 'hollywood', 2625: 'pickled', 2626: 'homer', 2627: 'chill', 2628: 'infatuation', 2629: 'ginger', 2630: 'ingredient', 2631: 'pin', 2632: '1895', 2633: 'eu', 2634: 'amnesia', 2635: 'labor', 2636: 'comic_book_guy:', 2637: 'musta', 2638: 'heard', 2639: 'junebug', 2640: \"workin'\", 2641: 'second', 2642: 'sorts', 2643: 'dozen', 2644: 'knowing', 2645: 'square', 2646: \"jackpot's\", 2647: 'nervously', 2648: 'kang:', 2649: 'thirty-five', 2650: 'killarney', 2651: 'cauliflower', 2652: 'manjula_nahasapeemapetilon:', 2653: 'moments', 2654: \"leavin'\", 2655: 'bar:', 2656: 'shaker', 2657: 'recreate', 2658: 'ease', 2659: 'whatever', 2660: 'break', 2661: 'dramatic', 2662: 'tapping', 2663: 'naval', 2664: 'unfair', 2665: 'edna-lover-one-seventy-two', 2666: \"family's\", 2667: 'carl', 2668: 'mouths', 2669: 'catholic', 2670: 'corner', 2671: 'melodramatic', 2672: 'bowling', 2673: 'medical', 2674: 'thanking', 2675: 'show-off', 2676: 'grateful', 2677: 'inspiring', 2678: 'scent', 2679: 'wieners', 2680: 'around', 2681: 'row', 2682: 'by', 2683: 'sleeps', 2684: \"g'on\", 2685: 'held', 2686: 'lager', 2687: 'james', 2688: 'arrested:', 2689: 'allowance', 2690: 'unhook', 2691: 'nameless', 2692: 'emphasis', 2693: 'stomach', 2694: 'amanda', 2695: 'swallowed', 2696: 'flash', 2697: 'reader', 2698: 'sitcom', 2699: 'zack', 2700: \"can'tcha\", 2701: 'bear', 2702: \"'your\", 2703: 'accelerating', 2704: 'lou:', 2705: 'prettied', 2706: 'wells', 2707: 'who', 2708: 'chairman', 2709: 'sight', 2710: 'tells', 2711: \"lenny's\", 2712: 'matter', 2713: 'extended', 2714: 'boozehound', 2715: 'shares', 2716: 'guff', 2717: 'shuts', 2718: 'recruiter', 2719: 'hosting', 2720: 'quimby', 2721: 'sobs', 2722: 'looooooooooooooooooong', 2723: 'margarita', 2724: 'pathetic', 2725: 'getup', 2726: 'heavyweight', 2727: 'sentimonies', 2728: 'boyfriend', 2729: 'perking', 2730: 'cuckoo', 2731: 'word', 2732: 'instantly', 2733: 'procedure', 2734: 'grampa', 2735: 'tons', 2736: 'youse', 2737: 'early', 2738: 'smokes', 2739: 'wienerschnitzel', 2740: 'idioms', 2741: 'alphabet', 2742: 'unavailable', 2743: 'angry', 2744: 'awkwardly', 2745: 'home', 2746: 'driving', 2747: 'do', 2748: 'been', 2749: 'losers', 2750: 'god', 2751: 'yo', 2752: 'relaxing', 2753: 'massachusetts', 2754: 'blurbs', 2755: 'young_barfly:', 2756: 'hate', 2757: 'gumbo', 2758: 'jägermeister', 2759: 'quiet', 2760: 'fish', 2761: 'puff', 2762: 'any', 2763: 'parked', 2764: 'pasta', 2765: 'jolly', 2766: 'feet', 2767: 'hands', 2768: 'frightened', 2769: 'rebuttal', 2770: 'accounta', 2771: 'outstanding', 2772: \"'roids\", 2773: 'jeez', 2774: 'whistling', 2775: 'focused', 2776: 'match', 2777: 'corkscrew', 2778: 'chauffeur:', 2779: 'boozebag', 2780: 'other_book_club_member:', 2781: 'disappointed', 2782: 'fighting', 2783: 'locked', 2784: 'working', 2785: 'castle', 2786: 'chicks', 2787: \"o'reilly\", 2788: 'gifts', 2789: 'cavern', 2790: 'buddies', 2791: 'appointment', 2792: 'fridge', 2793: 'deliberately', 2794: 'statistician', 2795: 'bender:', 2796: 'miserable', 2797: 'links', 2798: 'ice', 2799: 'envy-tations', 2800: 'tips', 2801: 'justice', 2802: 'young_marge:', 2803: 'young_moe:', 2804: 'icelandic', 2805: 'horses', 2806: 'throat', 2807: 'intoxicants', 2808: 'prep', 2809: 'black', 2810: 'daughter', 2811: 'ha', 2812: \"lady's\", 2813: 'spender', 2814: 'breath', 2815: 'amazing', 2816: 'yards', 2817: \"tap-pullin'\", 2818: 'buyer', 2819: 'faint', 2820: 'snackie', 2821: 'winks', 2822: 'vomit', 2823: 'training', 2824: 'dregs', 2825: \"tomorrow's\", 2826: 'letters', 2827: 'being', 2828: 'unless', 2829: 'pulitzer', 2830: 'bottomless', 2831: 'barney', 2832: 'leprechaun', 2833: 'invited', 2834: 'ceremony', 2835: 'snotball', 2836: 'book', 2837: 'wrong', 2838: \"narratin'\", 2839: 'tavern', 2840: 'st', 2841: 'carlson', 2842: 'yet', 2843: 'or', 2844: 'watashi', 2845: 'backwards', 2846: 'alive', 2847: 'valuable', 2848: 'furry', 2849: 'west', 2850: 'key', 2851: 'fifty', 2852: 'enforced', 2853: 'radical', 2854: 'duffman', 2855: 'peter', 2856: 'funny', 2857: 'rotch', 2858: 'strokkur', 2859: 'prime', 2860: 'pugilist', 2861: 'grabbing', 2862: 'brain-switching', 2863: 'head', 2864: 'agency', 2865: 'waltz', 2866: 'susie-q', 2867: 'dreams', 2868: 'africa', 2869: 'cooler', 2870: 'carnival', 2871: 'hike', 2872: 'hustle', 2873: 'beer-jerks', 2874: 'star', 2875: 'abe', 2876: 'anxious', 2877: 'nose', 2878: 'coach:', 2879: 'ask', 2880: 'gallon', 2881: 'plants', 2882: 'hilarious', 2883: 'reptile', 2884: 'head-gunk', 2885: 'tremendous', 2886: 'treat', 2887: 'flush', 2888: 'charges', 2889: 'open-casket', 2890: 'blow', 2891: 'miss', 2892: 'thirty-three', 2893: 'bet', 2894: 'combination', 2895: 'go-near-', 2896: '8', 2897: 'revenge', 2898: 'question', 2899: 'poulet', 2900: 'electronic', 2901: 'gluten', 2902: 'luckiest', 2903: 'hoo', 2904: 'apu_nahasapeemapetilon:', 2905: 'l', 2906: 'safety', 2907: 'whistles', 2908: 'brightening', 2909: 'steampunk', 2910: 'forecast', 2911: 'drummer', 2912: 'aisle', 2913: 'ma', 2914: 'ragtime', 2915: 'sledge-hammer', 2916: 'shotgun', 2917: 'reactions', 2918: 'bums', 2919: 'polls', 2920: 'effigy', 2921: 'dingy', 2922: 'happily:', 2923: 'exits', 2924: 'hammy', 2925: 'term', 2926: '&', 2927: 'barf', 2928: 'lord', 2929: \"robbin'\", 2930: \"sat's\", 2931: 'scene', 2932: 'betrayed', 2933: 'femininity', 2934: 'sadder', 2935: \"blowin'\", 2936: 'liability', 2937: 'tire', 2938: 'aghast', 2939: 'fuhgetaboutit', 2940: 'visas', 2941: 'gossipy', 2942: \"who'da\", 2943: 'candidate', 2944: 'consoling', 2945: 'supply', 2946: 'nap', 2947: 'egg', 2948: 'grandkids', 2949: 'roz:', 2950: 'naegle', 2951: 'vampire', 2952: 'devils:', 2953: 'crapmore', 2954: 'consider', 2955: 'wheel', 2956: \"battin'\", 2957: 'lifetime', 2958: 'suds', 2959: 'walks', 2960: 'lindsay_naegle:', 2961: 'annoying', 2962: \"drexel's\", 2963: 'results', 2964: 'sense', 2965: 'dennis_conroy:', 2966: 'recent', 2967: 'sheepish', 2968: 'hyper-credits', 2969: \"rustlin'\", 2970: 'due', 2971: 'grammar', 2972: 'polenta', 2973: \"kids'\", 2974: 'pink', 2975: 'maitre', 2976: 'kneeling', 2977: 'wish', 2978: 'bars', 2979: 'ons', 2980: 'thing', 2981: 'shall', 2982: 'affects', 2983: 'unlocked', 2984: 'single', 2985: 'twins', 2986: 'thoughtful', 2987: 'occupancy', 2988: 'transfer', 2989: 'common', 2990: 'usually', 2991: 'feelings', 2992: 'yello', 2993: 'brown', 2994: \"tramp's\", 2995: 'phrase', 2996: 'avalanche', 2997: 'round', 2998: 'highway', 2999: 'dollars', 3000: 'cozy', 3001: 'rain', 3002: 'circus', 3003: 'test-lady', 3004: 'buried', 3005: 'sharity', 3006: 'grunt', 3007: 'coherent', 3008: 'us', 3009: 'happily', 3010: 'longest', 3011: 'friday', 3012: 'reckless', 3013: 'slop', 3014: 'players', 3015: 'helping', 3016: 'fontaine', 3017: 'mean', 3018: 'aid', 3019: \"don't\", 3020: 'wagering', 3021: 'slick', 3022: 'missing', 3023: 'aboard', 3024: 'inflated', 3025: 'women', 3026: 'thought_bubble_homer:', 3027: 'sandwich', 3028: 'gesture', 3029: '250', 3030: 'humiliation', 3031: 'needed', 3032: 'mid-seventies', 3033: 'my', 3034: 'marmaduke', 3035: 'sanctuary', 3036: 'plan', 3037: 'mcstagger', 3038: 'sec_agent_#1:', 3039: 'leave', 3040: 'thumb', 3041: 'occasional', 3042: 'lloyd', 3043: 'else', 3044: 'mid-conversation', 3045: 'habitrail', 3046: 'superpower', 3047: 'starla:', 3048: 'kegs', 3049: 'they', 3050: 'chastity', 3051: 'snake_jailbird:', 3052: 'tracks', 3053: \"how's\", 3054: 'lennyy', 3055: 'impress', 3056: 'eighty-one', 3057: 'thank', 3058: 'civil', 3059: 'stepped', 3060: 'midnight', 3061: 'bartender', 3062: 'freak', 3063: 'je', 3064: 'worldly', 3065: 'bliss', 3066: 'inclination', 3067: 'mild', 3068: 'shoots', 3069: 'cool', 3070: 'often', 3071: 'foil', 3072: 'ehhhhhh', 3073: 'nibble', 3074: 'world', 3075: 'brag', 3076: 'legend', 3077: 'scary', 3078: 'giving', 3079: 'way:', 3080: 'shocked', 3081: 'talk', 3082: \"who'll\", 3083: 'jockey', 3084: 'simple', 3085: 'also', 3086: 'use', 3087: 'healthier', 3088: 'handler', 3089: 'tipsy', 3090: 'forgotten', 3091: '14', 3092: \"scammin'\", 3093: 'various', 3094: 'earpiece', 3095: 'pee', 3096: 'technical', 3097: 'seats', 3098: 'encore', 3099: 'bags', 3100: 'fonda', 3101: 'credit', 3102: 'pretentious_rat_lover:', 3103: 'hostile', 3104: 'kissed', 3105: 'besides', 3106: 'barney_gumble:', 3107: 'mistake', 3108: 'king', 3109: 'sending', 3110: 'p-k', 3111: 'tongue', 3112: 'emergency', 3113: 'hibbert', 3114: 'figured', 3115: 'remorseful', 3116: 'benjamin:', 3117: 'exploiter', 3118: 'beneath', 3119: 'folks', 3120: 'wistful', 3121: 'mouse', 3122: 'call', 3123: 'milk', 3124: 'skoal', 3125: 'professor', 3126: \"stallin'\", 3127: 'düffenbraus', 3128: 'bounced', 3129: \"'ere\", 3130: 'mess', 3131: 'stranger:', 3132: 'jig', 3133: 'repeated', 3134: 'ate', 3135: 'fulla', 3136: 'teenage', 3137: 'wondering', 3138: 'think', 3139: 'gag', 3140: 'marguerite:', 3141: 'wall', 3142: 'gun', 3143: 'police', 3144: 'sweet', 3145: 'dough', 3146: 'rock', 3147: 'conversation', 3148: 'hopeful', 3149: 'wa', 3150: 'director:', 3151: 'santeria', 3152: 'rat', 3153: 'britannia', 3154: 'oil', 3155: 'pontiff', 3156: 'mither', 3157: 'up-bup-bup', 3158: 'nigerian', 3159: 'craft', 3160: 'murderously', 3161: \"y'know\", 3162: 'owe', 3163: 'cranberry', 3164: 'empty', 3165: 'sweaty', 3166: 'stewart', 3167: 'loaded', 3168: 'germans', 3169: 'earlier', 3170: 'friends', 3171: 'corporate', 3172: 'fly', 3173: 'ripper', 3174: 'deli', 3175: 'join', 3176: 'potatoes', 3177: 'womb', 3178: 'tale', 3179: \"cuckold's\", 3180: 'means', 3181: 'case', 3182: 'lady-free', 3183: 'madison', 3184: 'aerosmith', 3185: 'andalay', 3186: 'careful', 3187: 'loser', 3188: 'formico:', 3189: 'bill_james:', 3190: 'gruesome', 3191: 'whaddaya', 3192: 'fresh', 3193: 'chained', 3194: 'scores', 3195: 'including', 3196: 'sixty', 3197: 'voters', 3198: 'snail', 3199: 'renee', 3200: 'expert', 3201: 'jury', 3202: 'rag', 3203: 'r', 3204: 'vulnerable', 3205: 'magazine', 3206: 'brought', 3207: 'danny', 3208: 'meal', 3209: 'billingsley', 3210: 'nachos', 3211: \"'n'\", 3212: 'junior', 3213: \"bringin'\", 3214: 'raccoons', 3215: 'handsome', 3216: 'ping-pong', 3217: 'extinguishers', 3218: 'quitcher', 3219: 'detecting', 3220: 'waylon_smithers:', 3221: 'outlive', 3222: 'toys', 3223: 'sagely', 3224: 'burglary', 3225: 'eventually', 3226: 'los', 3227: 'aiden', 3228: 'm', 3229: 'fighter', 3230: \"table's\", 3231: 'lance', 3232: 'slab', 3233: 'artie_ziff:', 3234: \"pressure's\", 3235: 'texan', 3236: 'four', 3237: 'reunion', 3238: 'done', 3239: 'trolls', 3240: 'bucket', 3241: 'mini-dumpsters', 3242: 'malibu', 3243: 'nobody', 3244: 'enthusiastically', 3245: 'generosity', 3246: 'ziffcorp', 3247: 'fail', 3248: 'spotting', 3249: 'virility', 3250: 'glass', 3251: 'whispered', 3252: 'cheerleaders:', 3253: 'understand', 3254: 'troy', 3255: 'owes', 3256: 'billy_the_kid:', 3257: 'out', 3258: 'muertos', 3259: 'skin', 3260: 'struggling', 3261: 'ashtray', 3262: 'tribute', 3263: 'graveyard', 3264: 'grim', 3265: 'tatum', 3266: 'amends', 3267: 'horrors', 3268: 'compliment', 3269: 'enjoy', 3270: 'honeys', 3271: 'fixes', 3272: 'chipped', 3273: 'touch', 3274: 'apart', 3275: 'mommy', 3276: 'all-all-all', 3277: 'dry', 3278: 'kinds', 3279: 'joey_kramer:', 3280: 'chow', 3281: 'ron_howard:', 3282: 'sunk', 3283: 'horrible', 3284: 'gin-slingers', 3285: 'krusty_the_clown:', 3286: 's', 3287: 'bragging', 3288: 'vigilante', 3289: 'handoff', 3290: 'name:', 3291: 'wrap', 3292: 'uneasy', 3293: 'squashing', 3294: 'bump', 3295: 'ugliest', 3296: 'monster', 3297: 'mortgage', 3298: 'monorails', 3299: 'workers', 3300: 'wiping', 3301: 'snide', 3302: 'fit', 3303: 'unexplained', 3304: 'bookie', 3305: 'alfalfa', 3306: 'creeps', 3307: 'behind', 3308: 'window', 3309: 'help', 3310: 'chapter', 3311: 'says', 3312: 'uncomfortable', 3313: 'drag', 3314: 'slobbo', 3315: 'without', 3316: 'vodka', 3317: 'twenty-four', 3318: 'schizophrenia', 3319: 'janette', 3320: 'improved', 3321: 'occurrence', 3322: 'maude', 3323: 'vengeful', 3324: 'zinged', 3325: 'pulls', 3326: 'intrigued', 3327: 'clench', 3328: 'bobo', 3329: 'illegal', 3330: 'president', 3331: 'from', 3332: 'reaches', 3333: 'love', 3334: 'mistakes', 3335: 'proves', 3336: 'opportunity', 3337: 'and-and', 3338: 'adult_bart:', 3339: 'trucks', 3340: 'senators:', 3341: 'appreciated', 3342: 'eat', 3343: 'curious', 3344: 'felony', 3345: 'belches', 3346: 'upset', 3347: \"i'm-so-stupid\", 3348: \"cupid's\", 3349: 'venture', 3350: 'andrew', 3351: 'habit', 3352: 'deeply', 3353: 'arts', 3354: 'iran', 3355: 'savvy', 3356: 'were', 3357: '_timothy_lovejoy:', 3358: 'hydrant', 3359: 'owned', 3360: 'polite', 3361: 'step', 3362: 'disguise', 3363: 'twice', 3364: 'detective', 3365: 'vanities', 3366: 'lofty', 3367: 'annie', 3368: 'sits', 3369: \"when's\", 3370: 'become', 3371: 'low-life', 3372: 'bar', 3373: 'crap', 3374: 'catch-phrase', 3375: 'ride', 3376: 'gordon', 3377: 'unrelated', 3378: 'cutest', 3379: \"ragin'\", 3380: 'takes', 3381: 'hooked', 3382: 'life-partner', 3383: 'roller', 3384: 'malabar', 3385: 'isotopes', 3386: 'grandmother', 3387: 'grumpy', 3388: 'sheriff', 3389: 'about', 3390: 'loneliness', 3391: 'thirty-nine', 3392: \"industry's\", 3393: 'ford', 3394: 'super', 3395: 'donuts', 3396: 'beers', 3397: 'lights', 3398: 'spent', 3399: 'following', 3400: 'denver', 3401: 'agent', 3402: 'scum', 3403: \"drawin'\", 3404: 'edge', 3405: 'zero', 3406: 'tired', 3407: 'off', 3408: 'ahhhh', 3409: 'recommend', 3410: 'spiritual', 3411: 'kay', 3412: 'compete', 3413: 'restaurants', 3414: 'carb', 3415: 'shame', 3416: 'cadillac', 3417: 'advance', 3418: 'vengeance', 3419: 'donation', 3420: 'equal', 3421: 'barely', 3422: 'sighs', 3423: 'cheaper', 3424: 'curiosity', 3425: 'spoon', 3426: 'feast', 3427: 'in-in-in', 3428: 'old_jewish_man:', 3429: 'crab', 3430: 'p', 3431: 'drives', 3432: 'lovelorn', 3433: 'scornfully', 3434: 'changing', 3435: 'worth', 3436: 'goo', 3437: 'toilet', 3438: 'sobo', 3439: 'newspaper', 3440: 'squirrels', 3441: 'conspiracy', 3442: 'smells', 3443: 'tear', 3444: 'portuguese', 3445: 'size', 3446: 'distraught', 3447: 'during', 3448: 'hexa-', 3449: 'phlegm', 3450: 'theater', 3451: 'ken:', 3452: 'starting', 3453: 'wakede', 3454: 'beaumont', 3455: 'carey', 3456: 'right', 3457: 'mathis', 3458: 'journey', 3459: 'ultimate', 3460: 'tolerable', 3461: 'dollar', 3462: 'house', 3463: 'nards', 3464: 'worked', 3465: 'yee-haw', 3466: 'alone', 3467: 'mouth', 3468: 'a-lug', 3469: 'till', 3470: 'wondered', 3471: 'brainiac', 3472: 'staying', 3473: \"idea's\", 3474: 'obsessive-compulsive', 3475: 'strain', 3476: 'supervising', 3477: 'coma', 3478: 'no', 3479: 'darkness', 3480: 'chinese_restaurateur:', 3481: 'bank', 3482: 'beauty', 3483: 'message', 3484: 'er', 3485: 'fantastic', 3486: 'minors', 3487: 'things', 3488: 'mrs', 3489: \"fightin'\", 3490: 'decided', 3491: 'eyesore', 3492: 'americans', 3493: 'spied', 3494: 'volunteer', 3495: 'salad', 3496: 'meanwhile', 3497: 'winded', 3498: 'meatpies', 3499: 'ling', 3500: 'faces', 3501: 'side:', 3502: \"friend's\", 3503: 'clinton', 3504: 'register', 3505: 'sometime', 3506: 'snake', 3507: 'gambler', 3508: 'glee', 3509: 'dan_gillick:', 3510: 'company', 3511: 'pool', 3512: 'eggs', 3513: 'phone', 3514: \"that'll\", 3515: 'annual', 3516: \"'im\", 3517: \"fine-lookin'\", 3518: 'easy-going', 3519: 'traffic', 3520: 'attitude', 3521: 'mint', 3522: 'weekend', 3523: 'easy', 3524: 'stands', 3525: 'blamed', 3526: 'disaster', 3527: 'monroe', 3528: 'dennis_kucinich:', 3529: 'sun', 3530: 'owner', 3531: 'tv_father:', 3532: 'creepy', 3533: 'finest', 3534: 'nbc', 3535: 'interested', 3536: 'cards', 3537: 'huhza', 3538: 'stab', 3539: \"cheerin'\", 3540: 'placing', 3541: 'life:', 3542: 'settlement', 3543: 'omit', 3544: 'korea', 3545: 'somebody', 3546: 'brandy', 3547: 'kwik-e-mart', 3548: 'mice', 3549: 'evils', 3550: 'shrugging', 3551: 'persia', 3552: 'red', 3553: 'navy', 3554: 'little_hibbert_girl:', 3555: 'unsanitary', 3556: 'kept', 3557: 'edner', 3558: 'wing', 3559: 'compare', 3560: 'mother', 3561: 'tropical', 3562: 'why', 3563: 'peppy', 3564: 'everyone', 3565: 'liar', 3566: 'chumbawamba', 3567: 'lindsay', 3568: 'entire', 3569: 'luxury', 3570: 'testing', 3571: 'whisper', 3572: 'valley', 3573: 'bad', 3574: 'frankly', 3575: 'apply', 3576: 'mitts', 3577: 'racially-diverse', 3578: \"bartender's\", 3579: 'whaaa', 3580: 'shower', 3581: 'ram', 3582: 'love-matic', 3583: 'laughing', 3584: \"haven't\", 3585: 'dracula', 3586: 'rome', 3587: 'slice', 3588: 'suppose', 3589: 'answer', 3590: 'foodie', 3591: 'patty', 3592: 'rich', 3593: 'waist', 3594: 'creme', 3595: 'spirit', 3596: 'barber', 3597: 'frog', 3598: 'literature', 3599: 'u2:', 3600: 'yellow', 3601: 'knocks', 3602: 'failed', 3603: \"hobo's\", 3604: 'flown', 3605: 'girlfriend', 3606: 'customers-slash-only', 3607: 'edgy', 3608: 'flourish', 3609: 'corkscrews', 3610: 'bird', 3611: 'suspect', 3612: 'aside', 3613: 'ooh', 3614: 'businessman_#2:', 3615: 'possessions', 3616: 'planning', 3617: 'thorough', 3618: 'suspenders', 3619: 'bites', 3620: 'cigarette', 3621: 'klown', 3622: 'food', 3623: 'dipping', 3624: 'breathless', 3625: 'rims', 3626: 'yew', 3627: 'stones', 3628: 'completely', 3629: 'splash', 3630: 'tyson/secretariat', 3631: 'completing', 3632: 'playful', 3633: 'wait', 3634: 'owns', 3635: 'necklace', 3636: 'corporation', 3637: 'hungry', 3638: 'getting', 3639: 'dealie', 3640: '4x4', 3641: 'urinal', 3642: 'bono:', 3643: 'marvelous', 3644: 'mop', 3645: 'pro', 3646: 'stirrers', 3647: 'factor', 3648: \"man's_voice:\", 3649: 'leonard', 3650: 'blown', 3651: \"stinkin'\", 3652: 'verdict', 3653: 'wisconsin', 3654: 'twelve-step', 3655: 'grin', 3656: 'diet', 3657: 'point', 3658: 'cajun', 3659: 'crunch', 3660: 'sponsoring', 3661: 'commission', 3662: 'pledge', 3663: 'whoever', 3664: 'german', 3665: 'associate', 3666: 'doors', 3667: 'offensive', 3668: 'changed', 3669: 'stingy', 3670: 'agents', 3671: 'shutting', 3672: 'three', 3673: 'dealer', 3674: 'squeals', 3675: 'intoxicated', 3676: 'confused', 3677: 'whaddya', 3678: 'popping', 3679: 'amazed', 3680: 'dyspeptic', 3681: 'poin-dexterous', 3682: 'stumble', 3683: 'scrutinizes', 3684: 'wolveriskey', 3685: 'salvation', 3686: 'even', 3687: 'fat', 3688: 'remains', 3689: 'comment', 3690: 'bets', 3691: 'quietly', 3692: 'surprised', 3693: 'meyerhof', 3694: 'beady', 3695: 'bowl', 3696: 'whoopi', 3697: 'fools', 3698: 'order', 3699: 'cerebral', 3700: 'blubberino', 3701: 'trail', 3702: 'dignified', 3703: 'absentminded', 3704: 'laugh', 3705: 'selma', 3706: 'shelf', 3707: 'jeff_gordon:', 3708: 'gangrene', 3709: 'still', 3710: 'choice:', 3711: 'remember', 3712: 'road', 3713: 'bum:', 3714: 'dumpster', 3715: 'faith', 3716: 'nooo', 3717: 'tense', 3718: 'trenchant', 3719: 'serve', 3720: 'immiggants', 3721: 'lipo', 3722: 'two', 3723: 'glen', 3724: 'lifts', 3725: 'weather', 3726: 'boggs', 3727: 'learn', 3728: 'get', 3729: 'frontrunner', 3730: 'hourly', 3731: 'solid', 3732: 'limber', 3733: 'bye', 3734: 'deserve', 3735: \"feelin's\", 3736: 'moe_recording:', 3737: 'barstools', 3738: 'fraud', 3739: 'punishment', 3740: 'night-crawlers', 3741: 'network', 3742: 'defensive', 3743: 'salt', 3744: 'wham', 3745: 'breaking', 3746: 'refreshingness', 3747: 'channel', 3748: 'softer', 3749: 'seemed', 3750: 'cheap', 3751: 'ho', 3752: 'soaps', 3753: 'beer', 3754: '_eugene_blatz:', 3755: 'robot', 3756: 'thing:', 3757: 'hyahh', 3758: 'displeased', 3759: 'ancestors', 3760: 'solo', 3761: 'sat', 3762: 'bedridden', 3763: 'charlie:', 3764: 'd', 3765: 'tv_daughter:', 3766: 'exhale', 3767: 'waters', 3768: 'apu', 3769: 'whiny', 3770: 'sneaky', 3771: 'edelbrock', 3772: 'jeers', 3773: 'goodnight', 3774: 'homie', 3775: 'bus', 3776: 'quero', 3777: 'knuckle-dragging', 3778: 'wrestling', 3779: 'inserted', 3780: 'michael', 3781: 'ollie', 3782: 'plucked', 3783: 'finance', 3784: 'maman', 3785: 'forgive', 3786: 'malfeasance', 3787: 'augustus', 3788: 'bleak', 3789: 'pleased', 3790: 'iddilies', 3791: 'disapproving', 3792: 'citizens', 3793: 'wings', 3794: 'shot', 3795: 'share', 3796: 'spitting', 3797: 'belly-aching', 3798: 'adeleine', 3799: 'assumed', 3800: 'reporter', 3801: 'blinded', 3802: 'barter', 3803: 'nurse', 3804: 'hold', 3805: 'experienced', 3806: 'background', 3807: 'cruel', 3808: 'smurfs', 3809: 'candles', 3810: 'glowers', 3811: 'grenky', 3812: \"knockin'\", 3813: 'alarm', 3814: 'david', 3815: 'secrets', 3816: 'pulled', 3817: 'look', 3818: 'dear', 3819: 'street', 3820: \"people's\", 3821: 'cameras', 3822: 'mind', 3823: 'ned_flanders:', 3824: 'scully', 3825: 'veux', 3826: \"lookin'\", 3827: 'waylon', 3828: 'pridesters:', 3829: 'gotta', 3830: 'lingus', 3831: 'squabbled', 3832: 'huge', 3833: 'lame', 3834: 'dang', 3835: 'sealed', 3836: 'career', 3837: 'ziff', 3838: 'forgets', 3839: 'ways', 3840: 'seriously', 3841: 'patrons', 3842: 'write', 3843: 'burt_reynolds:', 3844: 'burps', 3845: 'guessing', 3846: 'plenty', 3847: 'sacajawea', 3848: 'wobbly', 3849: 'drapes', 3850: 'o', 3851: 'fold', 3852: 'make', 3853: 'calls', 3854: \"duff's\", 3855: 'straighten', 3856: 'tang', 3857: 'agent_miller:', 3858: 'frescas', 3859: 'lifestyle', 3860: 'shred', 3861: 'unearth', 3862: 'severe', 3863: 'drown', 3864: 'frenchman', 3865: 'period', 3866: 'hostages', 3867: 'chocolate', 3868: 'kinda', 3869: \"don'tcha\", 3870: \"sayin'\", 3871: 'animals', 3872: 'mention', 3873: 'vermont', 3874: 'rings', 3875: 'freaky', 3876: 'entirely', 3877: 'hair', 3878: 'heals', 3879: 'rip-off', 3880: 'whoa-ho', 3881: 'saucy', 3882: 'straight', 3883: 'moustache', 3884: 'hobo', 3885: 'crowned', 3886: 'gary:', 3887: \"readin'\", 3888: 'shaggy', 3889: 'two-drink', 3890: 'estranged', 3891: 'beach', 3892: 'kadlubowski', 3893: 'wok', 3894: 'pub', 3895: 'dame', 3896: 'recap:', 3897: 'infiltrate', 3898: 'watered-down', 3899: 'grimly', 3900: 'voyager', 3901: 'modestly', 3902: 'mac-who', 3903: 'daddy', 3904: 'standing', 3905: 'sleigh-horses', 3906: 'showered', 3907: 'arimasen', 3908: 'ninety-six', 3909: 'jerry', 3910: 'confidence', 3911: 'measurements', 3912: 'date', 3913: 'pointedly', 3914: 'pats', 3915: \"poisonin'\", 3916: \"lefty's\", 3917: 'wonder', 3918: 'deals', 3919: 'kickoff', 3920: 'edison', 3921: 'white', 3922: 'cleaning', 3923: 'scam', 3924: 'damn', 3925: 'greatly', 3926: 'rueful', 3927: 'fellow', 3928: 'lodge', 3929: \"payin'\", 3930: 'safe', 3931: 'according', 3932: 'unlike', 3933: 'another', 3934: 'stupidest', 3935: 'rubbed', 3936: 'day', 3937: 'aziz', 3938: 'lottery', 3939: 'reluctantly', 3940: 'emporium', 3941: 'befouled', 3942: 'lady_duff:', 3943: 'tabooger', 3944: 'closes', 3945: 'noggin', 3946: 'contemporary', 3947: 'strongly', 3948: 'selma_bouvier:', 3949: 'bupkus', 3950: \"'now\", 3951: 'brilliant', 3952: 'nothing', 3953: 'wang', 3954: 'forty-five', 3955: 'island', 3956: 'puzzle', 3957: 'danish', 3958: 'first', 3959: 'harrowing', 3960: 'stirring', 3961: 'lurks', 3962: 'drank', 3963: 'depression', 3964: 'actors', 3965: 'barney-type', 3966: 'busted', 3967: 'resigned', 3968: 'radishes', 3969: 'business', 3970: 'loathe', 3971: 'sass', 3972: 'oughtta', 3973: 'lease', 3974: 'drollery', 3975: 'double', 3976: 'weirder', 3977: 'wheels', 3978: 'anyone', 3979: 'maintenance', 3980: 'tears', 3981: 'five', 3982: 'patented', 3983: 'fix', 3984: 'marvin', 3985: 'minus', 3986: 'days', 3987: 'hare-brained', 3988: 'resist', 3989: 'dying', 3990: 'winner', 3991: 'partners', 3992: 'gentleman:', 3993: 'ihop', 3994: 'slurred', 3995: 'sounded', 3996: 'mock-up', 3997: 'hiya', 3998: 'cutie', 3999: 'me', 4000: 'society_matron:', 4001: 'mulder', 4002: 'cream', 4003: 'seek', 4004: 'crowded', 4005: 'jewish', 4006: 'camera', 4007: 'boozer', 4008: 'delicately', 4009: 'fustigation', 4010: 'tapered', 4011: 'doreen', 4012: 'mostly', 4013: 'bury', 4014: 'knowledge', 4015: 'sternly', 4016: 'confidentially', 4017: 'deny', 4018: 'mumble', 4019: 'glove', 4020: 'greedy', 4021: 'cola', 4022: \"messin'\", 4023: 'mike_mills:', 4024: 'admiring', 4025: 'belt', 4026: \"fishin'\", 4027: 'partially', 4028: 'awake', 4029: 'pronto', 4030: \"smokin'_joe_frazier:\", 4031: 'cuff', 4032: 'smoke', 4033: 'woulda', 4034: 'squeezed', 4035: \"rentin'\", 4036: 'heavens', 4037: 'benefits', 4038: 'noose', 4039: 'commanding', 4040: 'funniest', 4041: 'separator', 4042: 'drift', 4043: 'sequel', 4044: 'maya', 4045: 'warned', 4046: 'bedbugs', 4047: 'court', 4048: \"couldn't\", 4049: 'passenger', 4050: 'ooo', 4051: 'dr', 4052: \"other's\", 4053: 'ninety-nine', 4054: 'attention', 4055: 'aw', 4056: 'grace', 4057: 'laney', 4058: 'cheering', 4059: 'wave', 4060: 'anniversary', 4061: 'napkins', 4062: 'remembering', 4063: 'looting', 4064: 'cute', 4065: 'fudd', 4066: 'wars', 4067: 'folk', 4068: 'runs', 4069: 'dig', 4070: 'brakes', 4071: 'slit', 4072: 'land', 4073: 'unfamiliar', 4074: 'taylor', 4075: 'olive', 4076: 'project', 4077: 'prize', 4078: 'wire', 4079: 'updated', 4080: \"show's\", 4081: 'dishonor', 4082: 'catty', 4083: 'charity', 4084: 'tax', 4085: 'tastes', 4086: 'engine', 4087: 'choked-up', 4088: 'losing', 4089: 'manchego', 4090: 'chief', 4091: 'pip', 4092: \"maggie's\", 4093: 'student', 4094: 'page', 4095: 'rosey', 4096: 'further', 4097: 'f-l-a-n-r-d-s', 4098: 'finishing', 4099: 'swimming', 4100: 'louse', 4101: 'eh', 4102: 'listens', 4103: 'smiles', 4104: 'queen', 4105: 'reaching', 4106: 'hit', 4107: 'patting', 4108: 'helpless', 4109: 'gosh', 4110: 'roy', 4111: 'gunk', 4112: 'attached', 4113: 'pitcher', 4114: 'romance', 4115: 'moonnnnnnnn', 4116: 'repay', 4117: 'fast-paced', 4118: 'mock', 4119: \"marge's\", 4120: 'sturdy', 4121: 'swig', 4122: 'newsletter', 4123: 'fistiana', 4124: 'committee', 4125: 'cotton', 4126: \"should've\", 4127: 'rice', 4128: 'rat-like', 4129: 'swe-ee-ee-ee-eet', 4130: 'nuts', 4131: 'betcha', 4132: 'muhammad', 4133: 'dae', 4134: 'grind', 4135: 'approval', 4136: 'slogan', 4137: 'chuck', 4138: 'bowled', 4139: 'radiation', 4140: \"dyin'\", 4141: 'broncos', 4142: 'train', 4143: 'teacup', 4144: 'drains', 4145: 'witty', 4146: 'macho', 4147: 'times', 4148: 'rounds', 4149: 'sir', 4150: 'champs', 4151: 'stood', 4152: 'infor', 4153: 'vestigial', 4154: 'already', 4155: 'bolting', 4156: 'pouring', 4157: 'program', 4158: 'punches', 4159: 'dreary', 4160: 'ashamed', 4161: 'gasoline', 4162: 'these', 4163: \"aren'tcha\", 4164: 'haircuts', 4165: 'but', 4166: 'brothers', 4167: 'elmer', 4168: 'tummies', 4169: 'distaste', 4170: 'work', 4171: 'large', 4172: 'enjoyed', 4173: 'cannoli', 4174: 'lying', 4175: 'conspiratorial', 4176: 'offa', 4177: 'rash', 4178: 'are', 4179: 'park', 4180: 'endorsement', 4181: 'passion', 4182: 'carve', 4183: 'higher', 4184: 'tsk', 4185: 'seem', 4186: 'goodwill', 4187: \"they'll\", 4188: 'sold', 4189: 'genius', 4190: 'dice', 4191: 'boxer:', 4192: \"countin'\", 4193: 'searching', 4194: 'mm', 4195: 'lump', 4196: 'problem', 4197: 'dumbass', 4198: 'whirlybird', 4199: \"writin'\", 4200: 'lose', 4201: 'population', 4202: 'upgrade', 4203: 'wore', 4204: \"stealin'\", 4205: 'cell-ee', 4206: 'poking', 4207: 'don', 4208: 'across', 4209: 'irrelevant', 4210: 'conditioner', 4211: 'startup', 4212: 'cupid', 4213: 'mural', 4214: 'eyeing', 4215: 'halfway', 4216: 'wowww', 4217: 'winces', 4218: 'entrance', 4219: 'samples', 4220: 'baby', 4221: 'studied', 4222: 'hiring', 4223: 'ripped', 4224: 'schemes', 4225: 'promised', 4226: 'dea-d-d-dead', 4227: 'spare', 4228: 'maher', 4229: 'sure', 4230: 'hurting', 4231: \"i'unno\", 4232: 'adventure', 4233: \"tonight's\", 4234: 'trivia', 4235: 'bluff', 4236: \"yesterday's\", 4237: 'veteran', 4238: 'bon', 4239: 'drop', 4240: 'complicated', 4241: 'sixty-five', 4242: 'kick', 4243: 'stuck', 4244: 'couple', 4245: 'forget-me-drinks', 4246: 'undermine', 4247: 'runaway', 4248: 'exultant', 4249: 'refresh', 4250: 'falcons', 4251: 'freshened', 4252: \"lovers'\", 4253: 'smiling', 4254: 'college', 4255: 'sideshow_mel:', 4256: 'getcha', 4257: 'edna_krabappel-flanders:', 4258: 'conclusions', 4259: 'rules', 4260: 'droning', 4261: 'loss', 4262: 'yours', 4263: 'someday', 4264: 'totalitarians', 4265: 'holding', 4266: 'mexicans', 4267: 'scatter', 4268: 'rented', 4269: 'type', 4270: 'screws', 4271: 'works', 4272: \"gettin'\", 4273: 'ripping', 4274: 'oh', 4275: 'honor', 4276: 'sleeping', 4277: 'pretends', 4278: '||left-par||', 4279: 'bucks', 4280: 'hunger', 4281: \"clancy's\", 4282: 'hunting', 4283: 'issues', 4284: 'ugliness', 4285: 'none', 4286: 'blood-thirsty', 4287: 'carlotta:', 4288: 'rent', 4289: 'plywood', 4290: 'realize', 4291: 'onions', 4292: 'mediterranean', 4293: \"callin'\", 4294: 'amber_dempsey:', 4295: 'cow', 4296: \"spiffin'\", 4297: 'butts', 4298: 'fears', 4299: 'lookalikes', 4300: 'eighty-three', 4301: 'windex', 4302: 'panicky', 4303: 'pre-columbian', 4304: 'far', 4305: 'best', 4306: 'nasty', 4307: 'dumb', 4308: 'marriage', 4309: 'appealing', 4310: 'twelve', 4311: 'bash', 4312: 'demo', 4313: 'bite', 4314: 'disgrace', 4315: 'touchdown', 4316: 'stored', 4317: 'dangerous', 4318: 'mt', 4319: 'mariah', 4320: 'ref', 4321: 'thnord', 4322: 'without:', 4323: 'kill', 4324: 'alibi', 4325: 'forget', 4326: \"havin'\", 4327: 'chunky', 4328: 'insurance', 4329: 'blood', 4330: 'albeit', 4331: 'violin', 4332: 'confident', 4333: 'gol-dangit', 4334: 'exquisite', 4335: 'bonding', 4336: 'bubbles', 4337: 'hoped', 4338: 'selling', 4339: 'scarf', 4340: 'four-star', 4341: 'bought', 4342: \"city's\", 4343: 'ugly', 4344: 'depository', 4345: 'sampler', 4346: 'whoo', 4347: 'mmmmm', 4348: \"cont'd:\", 4349: 'mic', 4350: 'down', 4351: 'clammy', 4352: 'picture', 4353: \"'ceptin'\", 4354: 'aidens', 4355: 'wise', 4356: 'motel', 4357: 'quarry', 4358: 'thoughtless', 4359: 'she-pu', 4360: 'plug', 4361: 'soul', 4362: 'jelly', 4363: 'corpses', 4364: 'bill', 4365: 'excited', 4366: 'lessons', 4367: 'figure', 4368: 'ripcord', 4369: 'desperate', 4370: 'child', 4371: '||quotation-mark||', 4372: 'dignity', 4373: 'fledgling', 4374: 'lewis', 4375: 'data', 4376: 'mister', 4377: 'burger', 4378: 'emotion', 4379: 'payday', 4380: 'tow', 4381: 'spectacular', 4382: 'exited', 4383: 'sunglasses', 4384: 'dollface', 4385: 'fills', 4386: 'apology', 4387: 'suck', 4388: 'swan', 4389: 'add', 4390: 'smug', 4391: 'saint', 4392: 'luck', 4393: 'rub', 4394: 'holidays', 4395: 'replace', 4396: 'teeth', 4397: 'director', 4398: 'prayers', 4399: 'beings', 4400: 'surgeonnn', 4401: 'cans', 4402: 'wanted', 4403: 'w', 4404: 'mellow', 4405: 'foot', 4406: 'cyrano', 4407: 'fishing', 4408: 'pyramid', 4409: '1979', 4410: 'boys', 4411: 'strips', 4412: \"squeezin'\", 4413: 'grrrreetings', 4414: 'taught', 4415: 'dateline:', 4416: 'appearance-altering', 4417: 'principles', 4418: 'stole', 4419: 'doof', 4420: 'giggle', 4421: 'soap', 4422: 'cases', 4423: 'reminded', 4424: 'cheryl', 4425: 'bon-bons', 4426: 'seconds', 4427: 'interesting', 4428: 'fatso', 4429: 'bob', 4430: 'near', 4431: 'strawberry', 4432: 'disco', 4433: 'hibachi', 4434: 'story', 4435: 'idea', 4436: 'compels', 4437: \"you'll\", 4438: 'front', 4439: 'would', 4440: 'wuss', 4441: \"won't\", 4442: 'latour', 4443: 'gimmicks', 4444: \"floatin'\", 4445: 'and', 4446: 'specialists', 4447: 'incredulous', 4448: 'enemy', 4449: 'hilton', 4450: 'macgregor', 4451: 'quebec', 4452: 'beyond', 4453: 'life-sized', 4454: \"choosin'\", 4455: 'fire_inspector:', 4456: 'model', 4457: 'neighbor', 4458: 'tee', 4459: 'happen', 4460: 'apron', 4461: 'graves', 4462: 'sotto', 4463: 'recently', 4464: 'grease', 4465: 'evasive', 4466: 'oww', 4467: 'barbed', 4468: 'proposition', 4469: 'screams', 4470: 'mystery', 4471: 'fox', 4472: 'expecting', 4473: 'reach', 4474: 'roof', 4475: 'hmmm', 4476: 'bart', 4477: 'yep', 4478: 'slugger', 4479: 'zeal', 4480: 'lovers', 4481: 'b-day', 4482: 'leaving', 4483: 'cooking', 4484: 'judgments', 4485: 'rector', 4486: 'gargoyles', 4487: 'worst', 4488: 'padres', 4489: 'michael_stipe:', 4490: 'dilemma', 4491: 'carolina', 4492: 'prolonged', 4493: \"buffalo's\", 4494: 'costume', 4495: 'referee', 4496: \"somethin's\", 4497: 'legally', 4498: 'hans:', 4499: 'lorre', 4500: \"soakin's\", 4501: 'lecture', 4502: 'drinking', 4503: 'torn', 4504: 'retain', 4505: 'clap', 4506: 'talking', 4507: 'slobs', 4508: 'jumps', 4509: 'stretches', 4510: 'bono', 4511: 'toward', 4512: 'twelveball', 4513: 'denser', 4514: 'latin', 4515: 'cracked', 4516: 'luckily', 4517: 'doll', 4518: \"world's\", 4519: 'hollowed-out', 4520: 'attend', 4521: 'executive', 4522: 'skins', 4523: 'lazy', 4524: 'starts', 4525: 'peabody', 4526: 'hooch', 4527: 'broken:', 4528: 'faced', 4529: 'up', 4530: 'obvious', 4531: 'tree', 4532: 'odd', 4533: 'itchy', 4534: 'protesters', 4535: 'today/', 4536: 'lock', 4537: 'brooklyn', 4538: 'military', 4539: 'alcoholic', 4540: 'junkyard', 4541: 'temple', 4542: 'krabappel', 4543: \"mcstagger's\", 4544: 'uses', 4545: \"tinklin'\", 4546: 'started', 4547: 'spooky', 4548: 'koholic', 4549: 'girls', 4550: 'tip', 4551: 'i-i', 4552: 'intelligent', 4553: 'lemonade', 4554: 'propose', 4555: 'remote', 4556: 'hems', 4557: 'courteous', 4558: 'lurleen_lumpkin:', 4559: \"weren't\", 4560: 'peanuts', 4561: 'shriners', 4562: \"o'\", 4563: 'hoping', 4564: 'totally', 4565: 'silent', 4566: 'newest', 4567: \"how'd\", 4568: 'english', 4569: 'spits', 4570: 'easily', 4571: 'golf', 4572: 'wash', 4573: 'barney-guarding', 4574: \"car's\", 4575: 'dads', 4576: 'friendly', 4577: 'initially', 4578: 'jasper_beardly:', 4579: \"high-falutin'\", 4580: 'shtick', 4581: 'trip', 4582: 'inherent', 4583: 'mr', 4584: 'file', 4585: 'whatchacallit', 4586: 'improv', 4587: 'paparazzo', 4588: \"'pu\", 4589: 'competing', 4590: 'fat_tony:', 4591: 'shut', 4592: 'concerned', 4593: 'drunkening', 4594: 'sickly', 4595: 'hub', 4596: 'course', 4597: 'pitch', 4598: 'energy', 4599: 'gal', 4600: 'awfully', 4601: 'balls', 4602: 'upn', 4603: 'eye', 4604: 'waterfront', 4605: 'health_inspector:', 4606: 'oak', 4607: 'robin', 4608: 'dna', 4609: 'pretending', 4610: 'full-time', 4611: 'activity', 4612: 'scornful', 4613: 'swatch', 4614: 'triple-sec', 4615: 'espousing', 4616: 'allow', 4617: \"tab's\", 4618: 'accept', 4619: 'declared', 4620: 'died', 4621: \"monroe's\", 4622: 'event', 4623: 'ralph', 4624: 'chosen', 4625: 'nailed', 4626: 'release', 4627: 'modern', 4628: 'tie', 4629: 'onto', 4630: 'wins', 4631: 'ralph_wiggum:', 4632: 'movies', 4633: 'hours', 4634: 'sagacity', 4635: 'hanging', 4636: 'paying', 4637: 'manager', 4638: 'trapping', 4639: 'scout', 4640: 'candy', 4641: 'wrapped', 4642: \"you're\", 4643: 'strangles', 4644: 'plastic', 4645: 'pernt', 4646: 'brewed', 4647: 'gums', 4648: 'chip', 4649: 'menace', 4650: 'helen', 4651: 'saving', 4652: 'homer_', 4653: 'blowfish', 4654: 'van', 4655: 'hitler', 4656: 'dessert', 4657: 'start', 4658: 'moe', 4659: 'subject', 4660: 'robbers', 4661: \"stayin'\", 4662: 'said', 4663: 'grinch', 4664: 'will', 4665: 'e-z', 4666: 'ya', 4667: 'videotaped', 4668: 'atlanta', 4669: 'poker', 4670: 'ye', 4671: 'maxed', 4672: 'talkers', 4673: 'homesick', 4674: 'rascals', 4675: 'instrument', 4676: 'play', 4677: 'killer', 4678: 'texas', 4679: 'hook', 4680: 'fancy', 4681: 'unbelievably', 4682: 'hi', 4683: 'poet', 4684: 'alfred', 4685: 'wreck', 4686: 'stiffening', 4687: 'taking', 4688: 'mom', 4689: 'sponge:', 4690: 'wind', 4691: 'respect', 4692: 'officials', 4693: 'future', 4694: 'lousy', 4695: 'salvador', 4696: 'pantsless', 4697: 'coms', 4698: 'fever', 4699: 'enemies', 4700: 'bret', 4701: 'stinks', 4702: 'continuing', 4703: 'plums', 4704: 'homer_simpson:', 4705: 'calmly', 4706: 'trench', 4707: 'jumping', 4708: 'cakes', 4709: 'gator', 4710: 'act', 4711: 'wussy', 4712: 'williams', 4713: 'eww', 4714: 'recall', 4715: 'brockelstein', 4716: 'backgammon', 4717: 'releasing', 4718: 'clams', 4719: 'arab_man:', 4720: 'understood:', 4721: 'andy', 4722: 'nfl_narrator:', 4723: \"murphy's\", 4724: 'travel', 4725: 'position', 4726: 'pointless', 4727: 'handed', 4728: 'founded', 4729: 'drivers', 4730: 'gently', 4731: 'paints', 4732: 'matter-of-fact', 4733: 'noises', 4734: 'moxie', 4735: 'marquee', 4736: 'sitting', 4737: 'absolut', 4738: \"games'd\", 4739: 'understanding', 4740: 'image', 4741: 'william', 4742: 'march', 4743: 'old-time', 4744: 'restaurant', 4745: 'writer:', 4746: 'starlets', 4747: 'laney_fontaine:', 4748: 'stinky', 4749: 'remaining', 4750: 'yelling', 4751: 'ingrates', 4752: 'punching', 4753: 'public', 4754: 'para', 4755: \"bart's\", 4756: 'witches', 4757: 'tidy', 4758: 'telling', 4759: 'employees', 4760: 'shaved', 4761: \"disrobin'\", 4762: \"mother's\", 4763: 'creature', 4764: 'soot', 4765: 'if', 4766: 'ear', 4767: 'sub-monkeys', 4768: 'lonely', 4769: \"tatum'll\", 4770: 'savings', 4771: 'grampa_simpson:', 4772: 'puzzled', 4773: 'song', 4774: 'elocution', 4775: 'h', 4776: 'dealt', 4777: 'dutch', 4778: 'sips', 4779: 'watt', 4780: 'oh-ho', 4781: 'sincere', 4782: 'intense', 4783: 'dirty', 4784: 'soaked', 4785: 'faded', 4786: 'applicant', 4787: 'scientific', 4788: 'browns', 4789: 'calculate', 4790: 'outs', 4791: 'perón', 4792: 'pig', 4793: 'cowboy', 4794: 'poor', 4795: 'suing', 4796: 'rubs', 4797: 'vincent', 4798: 'greatest', 4799: 'beef', 4800: 'poem', 4801: 'duffman:', 4802: 'ruined', 4803: 'perfume', 4804: 'third', 4805: 'pretty', 4806: 'additional-seating-capacity', 4807: 'told', 4808: 'morning-after', 4809: 'neighbors', 4810: 'patron_#2:', 4811: 'composite', 4812: 'prejudice', 4813: 'disillusioned', 4814: 'griffith', 4815: 'flame', 4816: 'flashbacks', 4817: 'stretch', 4818: 'ears', 4819: \"bein'\", 4820: 'encouraging', 4821: 'true', 4822: 'sexy', 4823: 'warren', 4824: 'albert', 4825: 'hole', 4826: 'spellbinding', 4827: 'just', 4828: 'ends', 4829: 'a-b-', 4830: 'poplar', 4831: 'frankenstein', 4832: 'befriend', 4833: 'beeps', 4834: \"tester's\", 4835: 'ab', 4836: 'occasion', 4837: 'royal', 4838: 'wood', 4839: 'sang', 4840: 'plum', 4841: 'sympathetic', 4842: 'obama', 4843: 'difference', 4844: 'cuz', 4845: 'slip', 4846: 'one', 4847: 'nigeria', 4848: 'souped', 4849: 'patient', 4850: 'meant', 4851: 'choked', 4852: 'conversion', 4853: 'naively', 4854: 'temp', 4855: 'moon', 4856: 'supplying', 4857: 'entertainer', 4858: 'ze-ro', 4859: 'decide', 4860: 'sells', 4861: 'buffalo', 4862: 'padre', 4863: 'contract', 4864: 'past', 4865: 'bannister', 4866: 'fault', 4867: 'time', 4868: \"dog's\", 4869: 'closing', 4870: 'moolah-stealing', 4871: 'at', 4872: 'capitol', 4873: 'on', 4874: 'swigmore', 4875: 'service', 4876: 'holiday', 4877: 'counter', 4878: 'whispers', 4879: 'took', 4880: 'tv-station_announcer:', 4881: 'show', 4882: 'dictating', 4883: \"s'pose\", 4884: 'not', 4885: 'medicine', 4886: 'greetings', 4887: '2nd_voice_on_transmitter:', 4888: 'dials', 4889: 'carefully', 4890: 'france', 4891: 'tuborg', 4892: 'finger', 4893: 'got', 4894: 'doug:', 4895: 'you', 4896: 'territorial', 4897: 'massage', 4898: 'trainers', 4899: 'ancient', 4900: 'payback', 4901: 'score', 4902: 'manjula', 4903: 'night', 4904: 'cletus_spuckler:', 4905: \"she's\", 4906: 'gruff', 4907: 'ivana', 4908: 'please/', 4909: 'reflected', 4910: 'fritz:', 4911: 'supreme', 4912: 'figures', 4913: 'roach', 4914: 'rom', 4915: \"raggin'\", 4916: 'blaze', 4917: 'give', 4918: 'encores', 4919: \"they've\", 4920: 'sticker', 4921: 'philosophic', 4922: 'tomahto', 4923: 'bull', 4924: 'szyslak', 4925: 'turn', 4926: 'paid', 4927: 'dreamy', 4928: 'macbeth', 4929: 'flag', 4930: 'shelbyville', 4931: 'deeper', 4932: 'helps', 4933: 'living', 4934: 'snaps', 4935: 'moe-ron', 4936: 'canoodling', 4937: 'academy', 4938: 'burning', 4939: 'kentucky', 4940: 'forgot', 4941: 'himself', 4942: 'enough', 4943: 'scream', 4944: 'stu', 4945: 'regulations', 4946: 'disturbance', 4947: 'delightful', 4948: 'forget-me-shot', 4949: 'eminence', 4950: 'merchants', 4951: 'mckinley', 4952: 'hoax', 4953: 'name', 4954: 'powerful', 4955: 'mccall', 4956: 'this', 4957: 'muscles', 4958: \"mtv's\", 4959: 'sack', 4960: 'kennedy', 4961: 'british', 4962: \"goin'\", 4963: 'self-made', 4964: 'white_rabbit:', 4965: 'again', 4966: 'competitive', 4967: 'trying', 4968: 'bigger', 4969: 'gargoyle', 4970: 'arabs', 4971: 'jerk', 4972: 'astonishment', 4973: 'hose', 4974: 'studio', 4975: 'twin', 4976: 'tank', 4977: 'came', 4978: 'sloe', 4979: '1973', 4980: 'mall', 4981: '100', 4982: 'jer', 4983: 'espn', 4984: 'smitty:', 4985: 'princess', 4986: 'urine', 4987: 'baseball', 4988: 'lowest', 4989: 'crowd', 4990: 'bachelorhood', 4991: 'karaoke', 4992: 'liable', 4993: 'stay-puft', 4994: 'contemplates', 4995: 'flophouse', 4996: 'canyoner-oooo', 4997: 'cowardly', 4998: 'busiest', 4999: 'generous', 5000: 'caricature', 5001: 'unlucky', 5002: 'patrons:', 5003: 'wedding', 5004: 'depressant', 5005: \"breakin'\", 5006: 'bathed', 5007: 'expression', 5008: 'affection', 5009: 'slightly', 5010: 'disgracefully', 5011: 'beatings', 5012: 'scum-sucking', 5013: 'linda_ronstadt:', 5014: 'chug', 5015: 'advertising', 5016: 'although', 5017: 'pleasant', 5018: 'brace', 5019: 'turned', 5020: 'ecru', 5021: '7-year-old_brockman:', 5022: 'store', 5023: 'begin', 5024: \"he'd\", 5025: 'bike', 5026: 'coincidentally', 5027: 'country', 5028: 'fine', 5029: 'manboobs', 5030: 'paramedic:', 5031: 'friend:', 5032: 'heaven', 5033: 'dashes', 5034: 'world-class', 5035: 'th-th-th-the', 5036: 'nitwit', 5037: 'easter', 5038: 'judge', 5039: 'muslim', 5040: 'nagurski', 5041: 'rickles', 5042: 'plow', 5043: 'semi-imported', 5044: 'disgusted', 5045: '||semicolon||', 5046: 'toledo', 5047: 'virile', 5048: 'scratching', 5049: 'minimum', 5050: 'sieben-gruben', 5051: 'strains', 5052: 'christopher', 5053: 'trees', 5054: 'disguised', 5055: 'cozies', 5056: 'slim', 5057: 'rife', 5058: 'precious', 5059: 'juan', 5060: 'winch', 5061: 'insults', 5062: 'dint', 5063: 'legal', 5064: 'for', 5065: 'poetics', 5066: 'prints', 5067: 'menlo', 5068: 'dory', 5069: 'handling', 5070: 'divine', 5071: 'aims', 5072: 'nauseous', 5073: 'rush', 5074: 'liver', 5075: 'flower', 5076: 'nemo', 5077: 'charming', 5078: 'cheesecake', 5079: 'warning', 5080: 'eaten', 5081: 'host', 5082: 'beans', 5083: 'tuna', 5084: 'pictured', 5085: 'sweeter', 5086: 'frosty', 5087: '_burns_heads:', 5088: 'chili', 5089: 'freedom', 5090: 'media', 5091: 'sleep', 5092: 'hairs', 5093: 'ivory', 5094: 'clubs', 5095: 'multi-purpose', 5096: 'fdic', 5097: 'youth', 5098: 'kicked', 5099: 'steely-eyed', 5100: 'supports', 5101: 'f', 5102: 'a', 5103: 'dumptruck', 5104: 'challenge', 5105: 'toe', 5106: 'flayvin', 5107: 'once', 5108: 'safer', 5109: 'mug', 5110: 'nope', 5111: 'feed', 5112: 'rupert_murdoch:', 5113: 'enthused', 5114: 'otherwise', 5115: 'single-mindedness', 5116: 'sideshow', 5117: 'lucinda', 5118: 'ehhhhhhhh', 5119: 'wantcha', 5120: 'force', 5121: 'frazier', 5122: 'thousand-year', 5123: 'troy_mcclure:', 5124: 'into', 5125: 'kent', 5126: 'clipped', 5127: 'bronco', 5128: 'outrageous', 5129: 'farewell', 5130: 'organ', 5131: 'anguished', 5132: 'fountain', 5133: 'crack', 5134: 'flat', 5135: 'stalin', 5136: 'rasputin', 5137: 'modest', 5138: \"one's\", 5139: 'switched', 5140: 'paintings', 5141: 'lone', 5142: 'louie:', 5143: 'insensitive', 5144: 'choking', 5145: 'utensils', 5146: 'stars', 5147: 'sometimes', 5148: 'admitting', 5149: \"this'll\", 5150: 'has', 5151: 'ready', 5152: 'boisterous', 5153: 'har', 5154: 'cheat', 5155: 'before', 5156: 'doll-baby', 5157: 'troubles', 5158: 'donut', 5159: 'canyonero', 5160: 'piling', 5161: 'limits', 5162: 'federal', 5163: 'baritone', 5164: 'cobra', 5165: 'straining', 5166: 'gags', 5167: 'celebration', 5168: 'hemorrhage-amundo', 5169: 'mortal', 5170: 'rainbows', 5171: 'gloop', 5172: 'cock', 5173: 'quite', 5174: 'eva', 5175: 'dejected_barfly:', 5176: 'sodas', 5177: 'brassiest', 5178: 'tow-talitarian', 5179: 'whatcha', 5180: 'mayor_joe_quimby:', 5181: 'gunter:', 5182: 'lungs', 5183: 'purse', 5184: 'scrape', 5185: 'highest', 5186: 'lips', 5187: 'wazoo', 5188: 'shaking', 5189: \"it'd\", 5190: 'half', 5191: 'plant', 5192: 'steal', 5193: 'souvenir', 5194: 'smell', 5195: 'filed', 5196: 'them', 5197: 'pond', 5198: 'harvey', 5199: 'committing', 5200: 'literary', 5201: 'proposing', 5202: 'brains', 5203: 'martini', 5204: 'treats', 5205: 'combines', 5206: 'stop', 5207: 'farthest', 5208: \"ya'\", 5209: 'edna', 5210: 'dan', 5211: 'mirror', 5212: 'harvard', 5213: 'louisiana', 5214: 'average-looking', 5215: 'dames', 5216: 'wishes', 5217: 'code', 5218: 'flash-fry', 5219: 'drink', 5220: 'sex', 5221: 'country-fried', 5222: 'peppers', 5223: 'misconstrue', 5224: 'doctor', 5225: 'delicate', 5226: 'shoulda', 5227: 'fired', 5228: 'depressed', 5229: 'beast', 5230: 'microphone', 5231: 'later', 5232: 'gets', 5233: 'bidet', 5234: 'frink-y', 5235: 'bide', 5236: 'hearts', 5237: \"elmo's\", 5238: 'coughs', 5239: 'enveloped', 5240: 'chorus:', 5241: 'squadron', 5242: 'connor-politan', 5243: 'slender', 5244: 'strictly', 5245: 'macaulay', 5246: 'pardon', 5247: 'underpants', 5248: 'experiments', 5249: 'gardens', 5250: 'generously', 5251: 'addiction', 5252: \"buyin'\", 5253: 'snorts', 5254: 'curds', 5255: 'bad-mouth', 5256: 'joint', 5257: \"waitin'\", 5258: 'declan_desmond:', 5259: 'scanning', 5260: 'anymore', 5261: 'fritz', 5262: 'kick-ass', 5263: \"y'money's\", 5264: 'bauer', 5265: 'lead', 5266: 'felt', 5267: 'lady', 5268: 'runners', 5269: 'fbi', 5270: 'privacy', 5271: 'woo', 5272: 'jacks', 5273: 'official', 5274: 'crying', 5275: 'repeating', 5276: 'box', 5277: 'cell', 5278: 'vulgar', 5279: 'known', 5280: 'having', 5281: 'raging', 5282: \"coaster's\", 5283: 'it', 5284: 'washed', 5285: 'dive', 5286: 'county', 5287: 'sickens', 5288: 'scram', 5289: 'sport', 5290: 'let', 5291: 'long', 5292: 'shyly', 5293: 'pets', 5294: 'french', 5295: 'mater', 5296: 'backing', 5297: 'occurs', 5298: 'courts', 5299: 'satisfaction', 5300: 'raining', 5301: 'test-', 5302: 'lately', 5303: 'disdainful', 5304: 'abandon', 5305: 'chum', 5306: 'kisses', 5307: 'cobbling', 5308: 'malted', 5309: 'believer', 5310: '_hooper:', 5311: \"didn't\", 5312: 'embarrassed', 5313: 'normal', 5314: 'unintelligent', 5315: 'boxing_announcer:', 5316: 'unhappy', 5317: 'funeral', 5318: 'total', 5319: 'chair', 5320: 'ne', 5321: 'diapers', 5322: 'distributor', 5323: 'suddenly', 5324: \"beer's\", 5325: 'swelling', 5326: 'speak', 5327: 'amid', 5328: 'treehouse', 5329: 'decide:', 5330: 'deep', 5331: 'ratted', 5332: 'bourbon', 5333: 'floor', 5334: 'carney', 5335: 'ech', 5336: 'la', 5337: 'encouraged', 5338: 'colonel:', 5339: '/', 5340: 'voted', 5341: 'wha', 5342: 'brain', 5343: 'sumatran', 5344: 'some', 5345: 'ivy-covered', 5346: \"i'm\", 5347: 'sniffing', 5348: 'certified', 5349: 'physical', 5350: 'voicemail', 5351: 'photo', 5352: 'pity', 5353: 'whip', 5354: 'tentative', 5355: 'relationship', 5356: 'typing', 5357: 'nursemaid', 5358: 'popped', 5359: \"wouldn't\", 5360: 'fast-food', 5361: 'badmouths', 5362: \"crawlin'\", 5363: 'amber', 5364: 'air', 5365: 'result', 5366: 'brother', 5367: 'heading', 5368: 'chin', 5369: 'mocking', 5370: 'exhibit', 5371: 'stagehand:', 5372: 'falling', 5373: 'stools', 5374: 'shoo', 5375: \"i-i'm\", 5376: 'hm', 5377: 'naturally', 5378: 'larry', 5379: 'sympathy', 5380: 'syrup', 5381: 'gold', 5382: 'in', 5383: 'eurotrash', 5384: 'man', 5385: 'bastard', 5386: 'contact', 5387: 'tap', 5388: \"costume's\", 5389: 'general', 5390: 'choice', 5391: \"mecca's\", 5392: 'banquet', 5393: \"bladder's\", 5394: 'byrne', 5395: 'specials', 5396: 'pressure', 5397: 'glum', 5398: 'beer-dorf', 5399: 'natured', 5400: 'yells', 5401: 'homer_doubles:', 5402: 'charter', 5403: \"foolin'\", 5404: 'top', 5405: 'bail', 5406: 'patriotic', 5407: 'century', 5408: 'made', 5409: 'elect', 5410: 'u', 5411: 'chain', 5412: 'spinning', 5413: 'sniffles', 5414: 'handwriting', 5415: 'cup', 5416: 'shopping', 5417: 'gentles', 5418: \"dad's\", 5419: 'stayed', 5420: 'pennies', 5421: 'needs', 5422: 'bulldozing', 5423: 'boy', 5424: 'maggie', 5425: 'snow', 5426: 'spending', 5427: 'kind', 5428: 'duff', 5429: 'same', 5430: 'seas', 5431: 'bridge', 5432: 'reached', 5433: 'charm', 5434: 'grand', 5435: 'season', 5436: 'occupation', 5437: 'stooges', 5438: 'gayer', 5439: 'forty', 5440: 'expense', 5441: 'grandé', 5442: 'left', 5443: 'international', 5444: 'solves', 5445: 'favorite', 5446: 'rugged', 5447: 'imported-sounding', 5448: 'invented', 5449: 'prove', 5450: 'group', 5451: 'grub', 5452: 'ruuuule', 5453: 'piano', 5454: 'watered', 5455: 'always', 5456: 'evil', 5457: 'terrible', 5458: 'helllp', 5459: 'hah', 5460: 'cooker', 5461: 'streetcorner', 5462: 'because', 5463: 'playing', 5464: 'man_with_crazy_beard:', 5465: 'shades', 5466: 'passed', 5467: 'uncle', 5468: 'playoff', 5469: 'pretend', 5470: 'shag', 5471: \"pickin'\", 5472: \"round's\", 5473: 'violations', 5474: 'thirteen', 5475: \"'tis\", 5476: 'life-threatening', 5477: \"calf's\", 5478: 'asks', 5479: \"guy's\", 5480: 'happier', 5481: 'solely', 5482: 'suspended', 5483: 'met', 5484: 'ordered', 5485: 'jubilation', 5486: 'coast', 5487: 'jobs', 5488: \"fun's\", 5489: 'read', 5490: 'item', 5491: \"edna's\", 5492: 'ducked', 5493: 'ummmmmmmmm', 5494: 'lanes', 5495: 'cosmetics', 5496: 'knife', 5497: 'shortcomings', 5498: 'kyoto', 5499: 'getaway', 5500: 'reward', 5501: 'strategy', 5502: 'deadly', 5503: 'der', 5504: 'throwing', 5505: 'environment', 5506: 'hispanic_crowd:', 5507: 'an', 5508: 'beefs', 5509: 'ball', 5510: 'venom', 5511: 'sacrifice', 5512: 'unsourced', 5513: 'inspired', 5514: 'paste', 5515: 'advertise', 5516: 'supposed', 5517: 'schabadoo', 5518: 'waste', 5519: 'tester', 5520: 'tornado', 5521: 'composer', 5522: 'deal', 5523: 'stairs', 5524: 'car:', 5525: 'tourist', 5526: 'refinanced', 5527: 'discussing', 5528: 'inside', 5529: 'rumor', 5530: 'vin', 5531: 'sobriety', 5532: 'feminist', 5533: 'law-abiding', 5534: 'intervention', 5535: 'ourselves', 5536: 'unsafe', 5537: 'honey', 5538: 'handshake', 5539: 'offshoot', 5540: 'death', 5541: 'keeping', 5542: \"shouldn't\", 5543: 'storms', 5544: 'queer', 5545: 'countryman', 5546: 'mumbling', 5547: 'awwww', 5548: 'honored', 5549: 'wake', 5550: 'whoops', 5551: 'bake', 5552: 'side', 5553: 'necessary', 5554: 'tablecloth', 5555: 'comeback', 5556: 'simpsons', 5557: 'memories', 5558: \"getting'\", 5559: 'something', 5560: 'weird', 5561: 'corn', 5562: 'sec', 5563: 'bagged', 5564: 'saturday', 5565: 'ballclub', 5566: 'de-scramble', 5567: 'picnic', 5568: 'though:', 5569: 'unusual', 5570: 'wheeeee', 5571: 'kings', 5572: 'ones', 5573: 'bartenders', 5574: 'casting', 5575: 'make:', 5576: 'youuu', 5577: 'play/', 5578: 'investigating', 5579: \"smackin'\", 5580: 'sees', 5581: 'fact', 5582: 'lumpa', 5583: 'disappointing', 5584: 'boston', 5585: 'crime', 5586: 'bridges', 5587: 'cash', 5588: 'dateline', 5589: 'romantic', 5590: 'chubby', 5591: \"tv'll\", 5592: 'comforting', 5593: 'lisa', 5594: 'yeah', 5595: \"they'd\", 5596: 'crank', 5597: 'telegraph', 5598: 'ignorance', 5599: 'inquiries', 5600: 'suave', 5601: 'belly', 5602: 'philip', 5603: \"we'd\", 5604: 'thru', 5605: 'treasure', 5606: 'negative', 5607: 'fund', 5608: 'dank', 5609: 'notices', 5610: 'minutes', 5611: 'hootie', 5612: 'root', 5613: 'expired', 5614: 'musical', 5615: 'anarchy', 5616: 'halvsies', 5617: 'dean', 5618: 'leathery', 5619: 'hero', 5620: 'our', 5621: 'smart', 5622: 'perhaps', 5623: 'favor', 5624: 'rem', 5625: 'agree', 5626: 'glen:', 5627: 'masks', 5628: 'payments', 5629: 'exactly', 5630: 'rats', 5631: 'firing', 5632: 'choices:', 5633: 'celebrate', 5634: 'tar-paper', 5635: 'seymour', 5636: 'carll', 5637: 'david_byrne:', 5638: 'belong', 5639: 'industry', 5640: 'verticality', 5641: 'expose', 5642: 'son-of-a', 5643: 'sadistic_barfly:', 5644: 'inspire', 5645: \"others'\", 5646: 'foundation', 5647: 'assent', 5648: 'agent_johnson:', 5649: 'rewound', 5650: 'broom', 5651: 'singers:', 5652: 'speed', 5653: 'choices', 5654: 'ore', 5655: 'expect', 5656: 'sit', 5657: \"patrick's\", 5658: 'super-tough', 5659: 'form', 5660: 'lush', 5661: 'darn', 5662: 'pour', 5663: 'warmly', 5664: 'eightball', 5665: 'accent', 5666: 'throw', 5667: 'swishkabobs', 5668: 'neon', 5669: 'sticking', 5670: 'aged_moe:', 5671: 'glitterati', 5672: '||return||', 5673: \"o'clock\", 5674: 'together', 5675: 'champion', 5676: 'derek', 5677: 'kidnaps', 5678: 'ignoring', 5679: 'unusually', 5680: 'tearfully', 5681: \"shootin'\", 5682: 'fierce', 5683: 'quadruple-sec', 5684: 'uncreeped-out', 5685: \"nothin's\", 5686: 'yammering', 5687: \"men's\", 5688: 'mis-statement', 5689: 'princesses', 5690: 'lobster', 5691: 'lost', 5692: 'pass', 5693: 'news', 5694: 'broke', 5695: 'beverage', 5696: 'teacher', 5697: 'tommy', 5698: 'geysir', 5699: 'win', 5700: 'frustrated', 5701: 'breathalyzer', 5702: 'presently', 5703: 'awful', 5704: 'fruit', 5705: 'telemarketing', 5706: 'shoot', 5707: 'stares', 5708: 'huddle', 5709: 'crayola', 5710: 'wad', 5711: 'giggles', 5712: 'many', 5713: 'offer', 5714: 'badmouth', 5715: 'gorgeous', 5716: 'famous', 5717: '-ry', 5718: 'disappeared', 5719: 'invite', 5720: 'family', 5721: 'taps', 5722: 'his', 5723: 'smugglers', 5724: 'well', 5725: 'fella', 5726: 'crowbar', 5727: 'random', 5728: 'beaumarchais', 5729: 'batmobile', 5730: 'civic', 5731: 'insist', 5732: 'beloved', 5733: \"today's\", 5734: 'suit', 5735: 'ingested', 5736: 'squad', 5737: 'sucking', 5738: 'gutenberg', 5739: 'cost', 5740: 'fuss', 5741: 'bumbling', 5742: 'theatah', 5743: 'someone', 5744: 'chapel', 5745: \"it'll\", 5746: 'return', 5747: 'miss_lois_pennycandy:', 5748: 'isle', 5749: 'viva', 5750: 'alma', 5751: 'liquor', 5752: 'cocks', 5753: 'kissingher', 5754: 'exchanged', 5755: 'damned', 5756: \"bart'd\", 5757: 'forehead', 5758: 'larry:', 5759: 'affectations', 5760: 'fletcherism', 5761: 'threw', 5762: 'hottest', 5763: 'kirk_voice_milhouse:', 5764: 'duel', 5765: 'leftover', 5766: 'julep', 5767: 'rainforest', 5768: 'bulletin', 5769: 'sing', 5770: 'ditched', 5771: 'delivery_man:', 5772: 'upsetting', 5773: 'blimp', 5774: 'professor_jonathan_frink:', 5775: 'hounds', 5776: 'society', 5777: 'bless', 5778: 'stein-stengel-', 5779: 'aww', 5780: 'poured', 5781: 'reasons', 5782: 'spanish', 5783: 'yes', 5784: 'hooters', 5785: 'thoughts', 5786: 'stupid', 5787: 'automobiles', 5788: 'seymour_skinner:', 5789: 'which', 5790: 'sister-in-law', 5791: 'absorbent', 5792: 'attractive_woman_#2:', 5793: 'pen', 5794: 'jacques', 5795: 'furious', 5796: 'wiener', 5797: 'under', 5798: 'normals', 5799: 'dressing', 5800: 'christmas', 5801: 'klingon', 5802: 'men:', 5803: 'trouble', 5804: 'chipper', 5805: 'mansions', 5806: 'brine', 5807: 'safecracker', 5808: 'measure', 5809: \"startin'\", 5810: 'clone', 5811: 'computer', 5812: 'slot', 5813: 'effervescence', 5814: 'calm', 5815: 'wishing', 5816: 'hmm', 5817: 'seminar', 5818: 'hateful', 5819: 'ball-sized', 5820: 'sings', 5821: 'jesus', 5822: 'starters', 5823: 'counterfeit', 5824: 'adjourned', 5825: 'alternative', 5826: 'painting', 5827: 'victim', 5828: 'grave', 5829: 'quotes', 5830: 'relax', 5831: 'slight', 5832: 'notorious', 5833: 'sugar-me-do', 5834: 'test', 5835: 'securities', 5836: 'optimistic', 5837: 'excitement', 5838: 'sent', 5839: 'mamma', 5840: 'wiggle-frowns', 5841: 'elder', 5842: 'wife', 5843: 'wh', 5844: 'sudden', 5845: 'neighboreeno', 5846: 'bartending', 5847: 'wholeheartedly', 5848: 'pine', 5849: 'diamond', 5850: 'permitting', 5851: 'high', 5852: \"'kay-zugg'\", 5853: 'guess', 5854: 'breaks', 5855: 'those', 5856: 'dating', 5857: 'pointed', 5858: 'hat', 5859: \"doctor's\", 5860: \"ma'am\", 5861: 'fink', 5862: 'nonsense', 5863: 'savagely', 5864: 'title', 5865: 'panicked', 5866: 'greystash', 5867: \"man's\", 5868: 'bulked', 5869: 'sixteen', 5870: 'hampstead-on-cecil-cecil', 5871: 'both', 5872: 'harv:', 5873: 'conclude', 5874: 'meditative', 5875: 'delivery', 5876: 'stock', 5877: 'churchill', 5878: \"fryer's\", 5879: 'against', 5880: 'icy', 5881: 'comic', 5882: 'knuckles', 5883: 'heroism', 5884: 'flaming', 5885: 'forced', 5886: 'faiths', 5887: 'phase', 5888: 'shaken', 5889: 'practice', 5890: 'doing', 5891: 'be', 5892: 'snort', 5893: 'stunned', 5894: 'strap', 5895: 'natural', 5896: 'jay:', 5897: 'ocean', 5898: \"how're\", 5899: 'clenched', 5900: 'musketeers', 5901: 'trick', 5902: 'certificate', 5903: 'pretzels', 5904: 'buffet', 5905: 'homers', 5906: 'abolish', 5907: 'birthplace', 5908: 'astrid', 5909: \"she'll\", 5910: 'fingers', 5911: 'woman:', 5912: 'pays', 5913: 'broken', 5914: 'buzz', 5915: 'comfortable', 5916: \"let's\", 5917: 'utility', 5918: 'moved', 5919: 'oh-so-sophisticated', 5920: 'wear', 5921: 'fans', 5922: 'bleacher', 5923: 'selection', 5924: 'blur', 5925: 'sued', 5926: 'bugs', 5927: 'stupidly', 5928: 'clear', 5929: 'jewelry', 5930: 'caveman', 5931: \"poundin'\", 5932: 'learned', 5933: 'drive', 5934: 'duh', 5935: 'compromise:', 5936: 'terrace', 5937: 'flew', 5938: 'correcting', 5939: 'beep', 5940: 'ballot', 5941: 'decision', 5942: 'quick-like', 5943: 'closed', 5944: 'lucius', 5945: 'falsetto', 5946: 'rabbits', 5947: 'color', 5948: 'thirsty', 5949: 'watched', 5950: 'declan', 5951: 'carl:', 5952: 'takeaway', 5953: 'dexterous', 5954: 'goblins', 5955: 'beats', 5956: 'planned', 5957: 'alpha-crow', 5958: 'fool', 5959: 'perfected', 5960: 'vicious', 5961: 'babe', 5962: 'dinner', 5963: 'perverted', 5964: 'pit', 5965: 'what', 5966: 'vampires', 5967: 'mcbain', 5968: 'herself', 5969: 'debonair', 5970: 'barflies', 5971: 'jaegermeister', 5972: 'ees', 5973: 'diaper', 5974: 'need', 5975: 'ironic', 5976: 'jail', 5977: 'mahatma', 5978: 'your', 5979: 'cab_driver:', 5980: 'astronaut', 5981: 'slow', 5982: \"livin'\", 5983: 'through', 5984: 'behavior', 5985: 'admirer', 5986: 'peaked', 5987: 'class', 5988: 'buttons', 5989: 'breakdown', 5990: 'very', 5991: 'weekly', 5992: 'pancakes', 5993: 'i-i-i', 5994: 'whale', 5995: 'november', 5996: 'chuckling', 5997: 'refund', 5998: 'it:', 5999: 'nervous', 6000: 'dumbest', 6001: 'sales', 6002: 'avec', 6003: 'stationery', 6004: 'slapped', 6005: 'changes', 6006: 'hammock', 6007: 'freeze', 6008: 'errrrrrr', 6009: 'whoa', 6010: \"shan't\", 6011: 'app', 6012: 'here', 6013: 'she', 6014: 'fluoroscope', 6015: 'lachrymose', 6016: 'crappy', 6017: 'cigarettes', 6018: 'happy', 6019: 'endorse', 6020: 'allegiance', 6021: 'wild', 6022: 'offended', 6023: 'jackson', 6024: 'coin', 6025: 'thesaurus', 6026: 'socratic', 6027: 'slaves', 6028: 'exclusive:', 6029: 'miles', 6030: 'moans', 6031: 'created', 6032: 'innocence', 6033: 'wipe', 6034: 'reynolds', 6035: 'certainly', 6036: 'person', 6037: 'hillbillies', 6038: 'grammys', 6039: 'simon', 6040: 'jams', 6041: 'swamp', 6042: 't-shirt', 6043: 'horns', 6044: 'rap', 6045: 'gut', 6046: 'creates', 6047: 'lise:', 6048: 'gulps', 6049: 'blues', 6050: \"what'sa\", 6051: 'fortensky', 6052: 'line', 6053: 'gestated', 6054: 'hunka', 6055: \"neat's-foot\", 6056: 'sponge', 6057: 'x-men', 6058: 'shifty', 6059: 'hugh:', 6060: 'fantasy', 6061: 'located', 6062: 'hafta', 6063: 'hooky', 6064: 'welcome', 6065: 'brick', 6066: 'face-macer', 6067: 'sangre', 6068: \"aristotle's\", 6069: 'badly', 6070: 'colorado', 6071: 'surprised/thrilled', 6072: 'trust', 6073: 'the_edge:', 6074: \"doesn't\", 6075: 'virtual', 6076: 'jerk-ass', 6077: 'proud', 6078: 'overturned', 6079: 'fun', 6080: 'billion', 6081: 'jack', 6082: 'finding', 6083: 'silence', 6084: 'able', 6085: 'anger', 6086: 'coupon', 6087: 'hunter', 6088: 'pigtown', 6089: 'rocks', 6090: 'almond', 6091: 'however', 6092: 'mindless', 6093: 'agreement', 6094: 'watch', 6095: 'grain', 6096: 'looks', 6097: 'bleeding', 6098: 'poster', 6099: 'pocket', 6100: 'did', 6101: 'jailbird', 6102: '_julius_hibbert:', 6103: 'wally:', 6104: 'exhaust', 6105: 'shakespeare', 6106: 'grunts', 6107: 'want', 6108: 'tomatoes', 6109: '_montgomery_burns:', 6110: 'ura', 6111: 'appreciate', 6112: \"y'see\", 6113: 'celeste', 6114: 'calendars', 6115: 'indicates', 6116: 'southern', 6117: 'synthesize', 6118: 'ronstadt', 6119: \"rasputin's\", 6120: 'possibly', 6121: 'my-y-y-y-y-y', 6122: 'stagey', 6123: 'online', 6124: 'film', 6125: 'versus', 6126: 'this:', 6127: 'pepto-bismol', 6128: 'girl-bart', 6129: 'homeland', 6130: 'gals', 6131: 'pages', 6132: 'housewife', 6133: 'usual', 6134: 'mostrar', 6135: 'placed', 6136: 'looser', 6137: 'shush', 6138: 'alls', 6139: 'clothespins:', 6140: 'over', 6141: 'annoyed', 6142: 'mexican_duffman:', 6143: 'tigers', 6144: 'pile', 6145: 'killing', 6146: 'billiard', 6147: 'rest', 6148: 'pumping', 6149: 'terrified', 6150: \"we're\", 6151: 'illustrates', 6152: 'laws', 6153: 'incognito', 6154: 'anybody', 6155: 'alva', 6156: 'a-a-b-b-a', 6157: \"aren't\", 6158: 'pep', 6159: 'spilled', 6160: \"england's\", 6161: 'hushed', 6162: 'fourteen:', 6163: 'dime', 6164: \"football's\", 6165: 'follow', 6166: 'flatly', 6167: 'asked', 6168: 'singer', 6169: 'million', 6170: 'captain:', 6171: 'lime', 6172: 'scoffs', 6173: 'researching', 6174: 'male_inspector:', 6175: 'lenny_leonard:', 6176: 'urban', 6177: 'frat', 6178: 'drug', 6179: 'hey', 6180: 'dumb-asses', 6181: 'bubbles-in-my-nose-y', 6182: '_powers:', 6183: 'blokes', 6184: 'kirk', 6185: 'homunculus', 6186: 'was', 6187: 'stacey', 6188: 'almost', 6189: 'y', 6190: 'publishers', 6191: 'premiering', 6192: 'punch', 6193: 'office', 6194: 'donate', 6195: 'longer', 6196: 'pusillanimous', 6197: \"usin'\", 6198: 'dunno', 6199: 'difficult', 6200: 'aquafresh', 6201: 'socialize', 6202: 'thorn', 6203: '_babcock:', 6204: 'hot', 6205: 'jump', 6206: 'part-time', 6207: 'si-lent', 6208: 'oblivious', 6209: 'dallas', 6210: 'urge', 6211: 'crayon', 6212: 'full-bodied', 6213: 'delighted', 6214: 'dogs', 6215: 'voice_on_transmitter:', 6216: 'monday', 6217: 'grains', 6218: 'lard', 6219: 'principal', 6220: 'label', 6221: 'sidekick', 6222: 'other_player:', 6223: 'landlord', 6224: 'must', 6225: 'all-american', 6226: 'guttural', 6227: \"i'd\", 6228: 'worthless', 6229: 'ugh', 6230: 'full', 6231: 'disappointment', 6232: 'mason', 6233: 'hotenhoffer', 6234: 'peeved', 6235: 'indifferent', 6236: 'extreme', 6237: \"'\", 6238: 'promotion', 6239: 'hellhole', 6240: 'rotten', 6241: '7g', 6242: 'champ', 6243: 'dirge-like', 6244: 'tune', 6245: 'makes', 6246: 'sucks', 6247: 'concentrate', 6248: 'hotline', 6249: 'booze-bags', 6250: 'appear', 6251: 'sees/', 6252: \"jimbo's_dad:\", 6253: \"man'd\", 6254: 'threatening', 6255: 'pause', 6256: 'relative', 6257: 'mafia', 6258: 'walk', 6259: 'nail', 6260: 'bottle', 6261: 'european', 6262: 'important', 6263: 'goodbye', 6264: 'burp', 6265: 'crew', 6266: 'familiar', 6267: 'dude', 6268: 'wealthy', 6269: 'captain', 6270: 'brave', 6271: 'onion', 6272: 'chips', 6273: 'sing-song', 6274: 'gentle', 6275: 'awkward', 6276: 'julienne', 6277: 'defeated', 6278: 'gives', 6279: 'loudly', 6280: 'barkeeps', 6281: 'penmanship', 6282: 'other', 6283: 'gum', 6284: 'heck', 6285: 'oof', 6286: 'au', 6287: 'nos', 6288: 'earrings', 6289: 'springfield', 6290: 'clears', 6291: 'bumpy-like', 6292: 'family-owned', 6293: 'birthday', 6294: 'shows', 6295: 'stopped', 6296: 'trapped', 6297: 'suffering', 6298: 'showing', 6299: 'naked', 6300: 'brotherhood', 6301: 'most', 6302: 'unfortunately', 6303: 'smallest', 6304: 'premise', 6305: \"duelin'\", 6306: 'dancing', 6307: 'raggie', 6308: 'then', 6309: \"what'll\", 6310: 'sickened', 6311: 'mountain', 6312: 'santa', 6313: 'sizes', 6314: 'clothespins', 6315: 'wolfcastle', 6316: 'polishing', 6317: 'monkeyshines', 6318: 'law', 6319: 'hearse', 6320: 'thought', 6321: 'wants', 6322: 'whim', 6323: 'when-i-get-a-hold-of-you', 6324: 'fifteen', 6325: 'send', 6326: 'medieval', 6327: 'listened', 6328: 'good-looking', 6329: 'kisser', 6330: 'betty:', 6331: 'butterball', 6332: 'renders', 6333: 'everybody', 6334: 'covering', 6335: 'hygienically', 6336: 'east', 6337: 'kissing', 6338: 'purveyor', 6339: 'clown', 6340: 'sacrilicious', 6341: 'cure', 6342: '||question-mark||', 6343: 'read:', 6344: 'aerospace', 6345: \"phone's\", 6346: 'haws', 6347: 'investor', 6348: 'jovial', 6349: 'tv_wife:', 6350: 'history', 6351: \"'evening\", 6352: 'character', 6353: 'leno', 6354: 'cop', 6355: \"daughter's\", 6356: 'forty-seven', 6357: 'pigs', 6358: 'jerky', 6359: 'rub-a-dub', 6360: 'knees', 6361: 'place', 6362: '||exclamation-mark||', 6363: 'speaking', 6364: 'might', 6365: 'sight-unseen', 6366: 'big', 6367: 'laughs', 6368: 'anti-lock', 6369: 'wiggle', 6370: 'tasimeter', 6371: 'taunting', 6372: 'buttocks', 6373: 'wasting', 6374: \"here's\", 6375: \"that's\", 6376: 'rumaki', 6377: 'hearing', 6378: 'spews', 6379: 'cops', 6380: 'w-a-3-q-i-zed', 6381: 's-a-u-r-c-e', 6382: 'neighborhood', 6383: 'thirty', 6384: 'movement', 6385: 'years', 6386: 'nerd', 6387: 'summer', 6388: 'cesss', 6389: 'drop-off', 6390: 'swell', 6391: 'repairman', 6392: 'specific', 6393: 'walking', 6394: 'bed', 6395: 'customer', 6396: 'teriyaki', 6397: 'mary', 6398: 'gulliver_dark:', 6399: 'teenage_barney:', 6400: 'walther_hotenhoffer:', 6401: 'wolfe', 6402: \"money's\", 6403: 'ointment', 6404: 'cheery', 6405: 'meteor', 6406: 'à', 6407: 'ahead', 6408: 'roomy', 6409: 'homeless', 6410: 'invisible', 6411: \"singin'\", 6412: 'cummerbund', 6413: 'hardhat', 6414: 'stickers', 6415: 'hand', 6416: 'flustered', 6417: 'alec_baldwin:', 6418: 'gasps', 6419: 'powers', 6420: 'fonzie', 6421: 'waking-up', 6422: 'bow', 6423: 'toasting', 6424: 'languages', 6425: 'yell', 6426: 'adopted', 6427: 'wildfever', 6428: 'exasperated', 6429: 'cheated', 6430: 'cut', 6431: 'strategizing', 6432: 'pain', 6433: 'great', 6434: 'orgasmville', 6435: 'ring', 6436: 'neil_gaiman:', 6437: 'exit', 6438: 'filled', 6439: 'grey', 6440: 'enter', 6441: 'singing/pushing', 6442: 'few', 6443: 'anything', 6444: 'quit', 6445: 'determined', 6446: 'reed', 6447: 'married', 6448: \"doin'\", 6449: 'thrown', 6450: 'swine', 6451: 'duffed', 6452: 'helpful', 6453: 'moment', 6454: 'waitress', 6455: 'intruding', 6456: 'despite', 6457: \"renee's\", 6458: 'enlightened', 6459: 'ahhh', 6460: 'plus', 6461: 'nascar', 6462: 'richard:', 6463: 'wonderful', 6464: 'dearest', 6465: 'flanders:', 6466: \"o'problem\", 6467: 'wayne:', 6468: 'try', 6469: 'stengel', 6470: 'attraction', 6471: 'perplexed', 6472: 'their', 6473: 'hawking:', 6474: \"g'ahead\", 6475: 'bret:', 6476: 'amused', 6477: 'nonchalant', 6478: \"donatin'\", 6479: 'churchy', 6480: 'kahlua', 6481: 'text', 6482: 'feld', 6483: 'feat', 6484: 'multi-national', 6485: 'hmmmm', 6486: 'barn', 6487: 'acronyms', 6488: 'sec_agent_#2:', 6489: 'her', 6490: 'casual', 6491: 'wow', 6492: 'hammer', 6493: 'thought_bubble_lenny:', 6494: 'situation', 6495: 'boneheaded', 6496: 'distance', 6497: 'space', 6498: \"something's\", 6499: 'gunter', 6500: 'morose', 6501: 'young_homer:', 6502: 'ventriloquism', 6503: 'collapse', 6504: 'mull', 6505: 'forty-nine', 6506: 'friend', 6507: \"hadn't\", 6508: 'manfred', 6509: 'al', 6510: 'comedy', 6511: 'railroad', 6512: 'shores', 6513: 'grade', 6514: 'between', 6515: \"life's\", 6516: 'occurred', 6517: 'rutabaga', 6518: 'war', 6519: 'take', 6520: 'undated', 6521: \"wallet's\", 6522: \"cashin'\", 6523: 'music', 6524: 'nordiques', 6525: 'murdered', 6526: \"'em\", 6527: '_zander:', 6528: 'process', 6529: 'say', 6530: \"team's\", 6531: 'elaborate', 6532: 'cough', 6533: 'eighty-five', 6534: 'garbage', 6535: 'notice', 6536: 'defiantly', 6537: 'unison', 6538: 'ha-ha', 6539: 'burn', 6540: 'bald', 6541: 'groin', 6542: 'balloon', 6543: 'outlook', 6544: 'drunkenly', 6545: 'cheer', 6546: 'fat-free', 6547: 'awe', 6548: 'caper', 6549: 'caught', 6550: 'butt', 6551: 'potato', 6552: 'eddie', 6553: 'car', 6554: 'directions', 6555: 'him', 6556: 'knock', 6557: 'ever', 6558: 'presided', 6559: \"kearney's_dad:\", 6560: 'dull', 6561: 'forty-two', 6562: 'photographer', 6563: 'moan', 6564: 'festival', 6565: 'horror', 6566: \"bo's\", 6567: 'gentlemen', 6568: 'elves:', 6569: 'causes', 6570: 'ohh', 6571: 'retired', 6572: 'pick', 6573: 'wearing', 6574: 'checks', 6575: 'moe-lennium', 6576: 'dishrag', 6577: 'pronounce', 6578: 'domestic', 6579: 'lee', 6580: 'leak', 6581: 'town', 6582: 'never', 6583: 'disturbing', 6584: 'sooner', 6585: 'oddest', 6586: 'happiness', 6587: 'rhyme', 6588: 'keeps', 6589: \"neighbor's\", 6590: 'answering', 6591: 'ohmygod', 6592: 'diets', 6593: 'wordloaf', 6594: 'parking', 6595: 'runt', 6596: 'officer', 6597: \"'round\", 6598: 'either', 6599: 'rev', 6600: 'puts', 6601: 'arms', 6602: 'risqué', 6603: '2', 6604: 'hug', 6605: 'cat', 6606: 'tomato', 6607: 'inches', 6608: 'plaintive', 6609: 'hanh', 6610: 'woozy', 6611: 'smiled', 6612: 'admiration', 6613: 'unattended', 6614: 'tabs', 6615: 'nelson', 6616: 'gary_chalmers:', 6617: 'gimmick', 6618: 'warily', 6619: 'housing', 6620: \"pope's\", 6621: 'dance', 6622: 'tones', 6623: 'relaxed', 6624: 'bartholomé:', 6625: 'politics', 6626: 'banks', 6627: 'believe', 6628: 'inspection', 6629: 'oughta', 6630: 'tooth', 6631: 'buying', 6632: 'ribbon', 6633: 'airport', 6634: 'upbeat', 6635: 'combine', 6636: 'scotch', 6637: \"barney's\", 6638: 'cloudy', 6639: 'cake', 6640: 'meaningfully', 6641: 'arrest', 6642: 'nation', 6643: 'rationalizing', 6644: 'tradition', 6645: \"handwriting's\", 6646: 'sprawl', 6647: 'gone', 6648: 'anti-intellectualism', 6649: 'dreamed', 6650: 'snake-handler', 6651: 'whatsit', 6652: 'heave-ho', 6653: 'reciting', 6654: 'timbuk-tee', 6655: 'snotty', 6656: 'booking', 6657: 'everywhere', 6658: 'hide', 6659: 'insecure', 6660: 'go', 6661: 'freed', 6662: 'tickets', 6663: 'praise', 6664: 'relieved', 6665: 'smelling', 6666: 'incredible', 6667: 'scare', 6668: 'lurleen', 6669: 'stick', 6670: 'scratcher', 6671: 'broadway', 6672: 'coal', 6673: 'plane', 6674: 'super-nice', 6675: \"b-52's:\", 6676: 'ah-ha', 6677: 'card', 6678: 'chinese', 6679: 'duke', 6680: 'uglier', 6681: 'shhh', 6682: 'idiots', 6683: 'guilt', 6684: 'much', 6685: 'fiction', 6686: \"tree's\", 6687: 'sharing', 6688: 'pinball', 6689: 'deacon', 6690: 'milhouse', 6691: 'ayyy', 6692: 'adjust', 6693: 'intention', 6694: 'view', 6695: 'afford', 6696: 'multiple', 6697: 'widow', 6698: \"'morning\", 6699: 'stool', 6700: 'won', 6701: 'mix', 6702: 'piece', 6703: 'dislike', 6704: 'comes', 6705: 'three-man', 6706: 'specializes', 6707: 'per', 6708: 'koji', 6709: 'asking', 6710: 'streetlights', 6711: 'sarcastic', 6712: 'logos', 6713: 'provide', 6714: 'extra', 6715: \"somethin'\", 6716: 'tubman', 6717: 'intimacy', 6718: 'die-hard', 6719: 'motorcycle', 6720: 'hangs', 6721: 'japanese', 6722: 'license', 6723: \"wait'll\", 6724: 'whether', 6725: 'injury', 6726: 'renovations', 6727: \"lisa's\", 6728: 'authenticity', 6729: 'unbelievable', 6730: 'cattle', 6731: 'rekindle', 6732: 'tempting', 6733: 'trade', 6734: 'micronesian', 6735: 'ehhh', 6736: \"i've\", 6737: 'elephants', 6738: 'illegally', 6739: 'private', 6740: 'low-blow', 6741: 'drinking:', 6742: \"you've\", 6743: 'obese', 6744: 'led', 6745: '530', 6746: 'band', 6747: 'sweden', 6748: \"president's\", 6749: 'pageant', 6750: 'wooden', 6751: 'breakfast', 6752: 'spacey', 6753: \"moe's\", 6754: 'outside', 6755: 'magnanimous', 6756: 'archaeologist', 6757: 'tries', 6758: 'hop', 6759: \"comin'\", 6760: \"carl's\", 6761: 'announcer:', 6762: 'bills', 6763: 'mail', 6764: 'nickel', 6765: 'rusty', 6766: 'radioactive', 6767: 'book_club_member:', 6768: 'chuckles', 6769: 'fausto', 6770: 'wittgenstein', 6771: 'splattered', 6772: 'issuing', 6773: 'painless', 6774: 'haiti', 6775: 'hear', 6776: 'website', 6777: 'fatty', 6778: \"bashir's\"}\n"
     ]
    }
   ],
   "source": [
    "\"\"\"\n",
    "DON'T MODIFY ANYTHING IN THIS CELL\n",
    "\"\"\"\n",
    "# Preprocess Training, Validation, and Testing Data\n",
    "helper.preprocess_and_save_data(data_dir, token_lookup, create_lookup_tables)"
   ]
  },
  {
   "cell_type": "markdown",
   "metadata": {
    "deletable": true,
    "editable": true
   },
   "source": [
    "# Check Point\n",
    "This is your first checkpoint. If you ever decide to come back to this notebook or have to restart the notebook, you can start from here. The preprocessed data has been saved to disk."
   ]
  },
  {
   "cell_type": "code",
   "execution_count": 6,
   "metadata": {
    "collapsed": false,
    "deletable": true,
    "editable": true
   },
   "outputs": [],
   "source": [
    "\"\"\"\n",
    "DON'T MODIFY ANYTHING IN THIS CELL\n",
    "\"\"\"\n",
    "import helper\n",
    "import numpy as np\n",
    "import problem_unittests as tests\n",
    "\n",
    "int_text, vocab_to_int, int_to_vocab, token_dict = helper.load_preprocess()"
   ]
  },
  {
   "cell_type": "markdown",
   "metadata": {
    "deletable": true,
    "editable": true
   },
   "source": [
    "## Build the Neural Network\n",
    "You'll build the components necessary to build a RNN by implementing the following functions below:\n",
    "- get_inputs\n",
    "- get_init_cell\n",
    "- get_embed\n",
    "- build_rnn\n",
    "- build_nn\n",
    "- get_batches\n",
    "\n",
    "### Check the Version of TensorFlow and Access to GPU"
   ]
  },
  {
   "cell_type": "code",
   "execution_count": 7,
   "metadata": {
    "collapsed": false,
    "deletable": true,
    "editable": true
   },
   "outputs": [
    {
     "name": "stdout",
     "output_type": "stream",
     "text": [
      "TensorFlow Version: 1.0.0\n",
      "Default GPU Device: /gpu:0\n"
     ]
    }
   ],
   "source": [
    "\"\"\"\n",
    "DON'T MODIFY ANYTHING IN THIS CELL\n",
    "\"\"\"\n",
    "from distutils.version import LooseVersion\n",
    "import warnings\n",
    "import tensorflow as tf\n",
    "\n",
    "# Check TensorFlow Version\n",
    "assert LooseVersion(tf.__version__) >= LooseVersion('1.0'), 'Please use TensorFlow version 1.0 or newer'\n",
    "print('TensorFlow Version: {}'.format(tf.__version__))\n",
    "\n",
    "# Check for a GPU\n",
    "if not tf.test.gpu_device_name():\n",
    "    warnings.warn('No GPU found. Please use a GPU to train your neural network.')\n",
    "else:\n",
    "    print('Default GPU Device: {}'.format(tf.test.gpu_device_name()))"
   ]
  },
  {
   "cell_type": "markdown",
   "metadata": {
    "deletable": true,
    "editable": true
   },
   "source": [
    "### Input\n",
    "Implement the `get_inputs()` function to create TF Placeholders for the Neural Network.  It should create the following placeholders:\n",
    "- Input text placeholder named \"input\" using the [TF Placeholder](https://www.tensorflow.org/api_docs/python/tf/placeholder) `name` parameter.\n",
    "- Targets placeholder\n",
    "- Learning Rate placeholder\n",
    "\n",
    "Return the placeholders in the following the tuple `(Input, Targets, LearingRate)`"
   ]
  },
  {
   "cell_type": "code",
   "execution_count": 8,
   "metadata": {
    "collapsed": false,
    "deletable": true,
    "editable": true
   },
   "outputs": [
    {
     "name": "stdout",
     "output_type": "stream",
     "text": [
      "Tests Passed\n"
     ]
    }
   ],
   "source": [
    "def get_inputs():\n",
    "    \"\"\"\n",
    "    Create TF Placeholders for input, targets, and learning rate.\n",
    "    :return: Tuple (input, targets, learning rate)\n",
    "    \"\"\"\n",
    "    # TODO: Implement Function\n",
    "    Input = tf.placeholder(tf.int32, [None, None], name='input')\n",
    "    Targets = tf.placeholder(tf.int32, [None, None], name='targets')\n",
    "    LearningRate = tf.placeholder(tf.float32, name='learning_rate')\n",
    "    \n",
    "    return (Input, Targets, LearningRate)\n",
    "\n",
    "\n",
    "\"\"\"\n",
    "DON'T MODIFY ANYTHING IN THIS CELL THAT IS BELOW THIS LINE\n",
    "\"\"\"\n",
    "tests.test_get_inputs(get_inputs)"
   ]
  },
  {
   "cell_type": "markdown",
   "metadata": {
    "deletable": true,
    "editable": true
   },
   "source": [
    "### Build RNN Cell and Initialize\n",
    "Stack one or more [`BasicLSTMCells`](https://www.tensorflow.org/api_docs/python/tf/contrib/rnn/BasicLSTMCell) in a [`MultiRNNCell`](https://www.tensorflow.org/api_docs/python/tf/contrib/rnn/MultiRNNCell).\n",
    "- The Rnn size should be set using `rnn_size`\n",
    "- Initalize Cell State using the MultiRNNCell's [`zero_state()`](https://www.tensorflow.org/api_docs/python/tf/contrib/rnn/MultiRNNCell#zero_state) function\n",
    "    - Apply the name \"initial_state\" to the initial state using [`tf.identity()`](https://www.tensorflow.org/api_docs/python/tf/identity)\n",
    "\n",
    "Return the cell and initial state in the following tuple `(Cell, InitialState)`"
   ]
  },
  {
   "cell_type": "code",
   "execution_count": 47,
   "metadata": {
    "collapsed": false,
    "deletable": true,
    "editable": true
   },
   "outputs": [
    {
     "name": "stdout",
     "output_type": "stream",
     "text": [
      "Tests Passed\n"
     ]
    }
   ],
   "source": [
    "def get_init_cell(batch_size, rnn_size):\n",
    "    \"\"\"\n",
    "    Create an RNN Cell and initialize it.\n",
    "    :param batch_size: Size of batches\n",
    "    :param rnn_size: Size of RNNs\n",
    "    :return: Tuple (cell, initialize state)\n",
    "    \"\"\"\n",
    "    # TODO: Implement Function\n",
    "    \n",
    "    LSTM = tf.contrib.rnn.BasicLSTMCell(rnn_size)\n",
    "    \n",
    "    drop = tf.contrib.rnn.DropoutWrapper(LSTM, output_keep_prob=1.0)\n",
    "    \n",
    "    Cell = tf.contrib.rnn.MultiRNNCell([drop]*2)\n",
    "    \n",
    "    initial_state = Cell.zero_state(batch_size, tf.float32)\n",
    "    InitialState = tf.identity(initial_state, name='initial_state')\n",
    "    \n",
    "    return (Cell, InitialState)\n",
    "\n",
    "\n",
    "\"\"\"\n",
    "DON'T MODIFY ANYTHING IN THIS CELL THAT IS BELOW THIS LINE\n",
    "\"\"\"\n",
    "tests.test_get_init_cell(get_init_cell)"
   ]
  },
  {
   "cell_type": "markdown",
   "metadata": {
    "deletable": true,
    "editable": true
   },
   "source": [
    "### Word Embedding\n",
    "Apply embedding to `input_data` using TensorFlow.  Return the embedded sequence."
   ]
  },
  {
   "cell_type": "code",
   "execution_count": 48,
   "metadata": {
    "collapsed": false,
    "deletable": true,
    "editable": true
   },
   "outputs": [
    {
     "name": "stdout",
     "output_type": "stream",
     "text": [
      "Tests Passed\n"
     ]
    }
   ],
   "source": [
    "def get_embed(input_data, vocab_size, embed_dim):\n",
    "    \"\"\"\n",
    "    Create embedding for <input_data>.\n",
    "    :param input_data: TF placeholder for text input.\n",
    "    :param vocab_size: Number of words in vocabulary.\n",
    "    :param embed_dim: Number of embedding dimensions\n",
    "    :return: Embedded input.\n",
    "    \"\"\"\n",
    "    # TODO: Implement Function\n",
    "    \n",
    "    embed = tf.contrib.layers.embed_sequence(input_data, vocab_size, embed_dim)\n",
    "    \n",
    "    return embed\n",
    "\n",
    "\n",
    "\"\"\"\n",
    "DON'T MODIFY ANYTHING IN THIS CELL THAT IS BELOW THIS LINE\n",
    "\"\"\"\n",
    "tests.test_get_embed(get_embed)"
   ]
  },
  {
   "cell_type": "markdown",
   "metadata": {
    "deletable": true,
    "editable": true
   },
   "source": [
    "### Build RNN\n",
    "You created a RNN Cell in the `get_init_cell()` function.  Time to use the cell to create a RNN.\n",
    "- Build the RNN using the [`tf.nn.dynamic_rnn()`](https://www.tensorflow.org/api_docs/python/tf/nn/dynamic_rnn)\n",
    " - Apply the name \"final_state\" to the final state using [`tf.identity()`](https://www.tensorflow.org/api_docs/python/tf/identity)\n",
    "\n",
    "Return the outputs and final_state state in the following tuple `(Outputs, FinalState)` "
   ]
  },
  {
   "cell_type": "code",
   "execution_count": 49,
   "metadata": {
    "collapsed": false,
    "deletable": true,
    "editable": true
   },
   "outputs": [
    {
     "name": "stdout",
     "output_type": "stream",
     "text": [
      "Tests Passed\n"
     ]
    }
   ],
   "source": [
    "def build_rnn(cell, inputs):\n",
    "    \"\"\"\n",
    "    Create a RNN using a RNN Cell\n",
    "    :param cell: RNN Cell\n",
    "    :param inputs: Input text data\n",
    "    :return: Tuple (Outputs, Final State)\n",
    "    \"\"\"\n",
    "    # TODO: Implement Function\n",
    "    \n",
    "    Outputs, FinalState = tf.nn.dynamic_rnn(cell, inputs, dtype=tf.float32)\n",
    "    \n",
    "    FinalState = tf.identity(FinalState, name='final_state')\n",
    "    \n",
    "    return (Outputs, FinalState)\n",
    "\n",
    "\n",
    "\"\"\"\n",
    "DON'T MODIFY ANYTHING IN THIS CELL THAT IS BELOW THIS LINE\n",
    "\"\"\"\n",
    "tests.test_build_rnn(build_rnn)"
   ]
  },
  {
   "cell_type": "markdown",
   "metadata": {
    "deletable": true,
    "editable": true
   },
   "source": [
    "### Build the Neural Network\n",
    "Apply the functions you implemented above to:\n",
    "- Apply embedding to `input_data` using your `get_embed(input_data, vocab_size, embed_dim)` function.\n",
    "- Build RNN using `cell` and your `build_rnn(cell, inputs)` function.\n",
    "- Apply a fully connected layer with a linear activation and `vocab_size` as the number of outputs.\n",
    "\n",
    "Return the logits and final state in the following tuple (Logits, FinalState) "
   ]
  },
  {
   "cell_type": "code",
   "execution_count": 50,
   "metadata": {
    "collapsed": false,
    "deletable": true,
    "editable": true
   },
   "outputs": [
    {
     "name": "stdout",
     "output_type": "stream",
     "text": [
      "Tests Passed\n"
     ]
    }
   ],
   "source": [
    "def build_nn(cell, rnn_size, input_data, vocab_size, embed_dim):\n",
    "    \"\"\"\n",
    "    Build part of the neural network\n",
    "    :param cell: RNN cell\n",
    "    :param rnn_size: Size of rnns\n",
    "    :param input_data: Input data\n",
    "    :param vocab_size: Vocabulary size\n",
    "    :param embed_dim: Number of embedding dimensions\n",
    "    :return: Tuple (Logits, FinalState)\n",
    "    \"\"\"\n",
    "    # TODO: Implement Function\n",
    "    embedding = get_embed(input_data, vocab_size, embed_dim)\n",
    "    \n",
    "    Outputs, FinalState = build_rnn(cell, embedding)\n",
    "    \n",
    "    Logits = tf.contrib.layers.fully_connected(Outputs, vocab_size, activation_fn=None, weights_initializer=tf.truncated_normal_initializer(mean=0.0,stddev=0.01), biases_initializer=tf.zeros_initializer())\n",
    "    \n",
    "#     Logits = tf.contrib.layers.fully_connected(Logits, vocab_size, activation_fn=None, weights_initializer=tf.truncated_normal_initializer(mean=0.0,stddev=0.01), biases_initializer=tf.zeros_initializer())\n",
    "    \n",
    "    return (Logits, FinalState)\n",
    "\n",
    "\n",
    "\"\"\"\n",
    "DON'T MODIFY ANYTHING IN THIS CELL THAT IS BELOW THIS LINE\n",
    "\"\"\"\n",
    "tests.test_build_nn(build_nn)"
   ]
  },
  {
   "cell_type": "markdown",
   "metadata": {
    "deletable": true,
    "editable": true
   },
   "source": [
    "### Batches\n",
    "Implement `get_batches` to create batches of input and targets using `int_text`.  The batches should be a Numpy array with the shape `(number of batches, 2, batch size, sequence length)`. Each batch contains two elements:\n",
    "- The first element is a single batch of **input** with the shape `[batch size, sequence length]`\n",
    "- The second element is a single batch of **targets** with the shape `[batch size, sequence length]`\n",
    "\n",
    "If you can't fill the last batch with enough data, drop the last batch.\n",
    "\n",
    "For exmple, `get_batches([1, 2, 3, 4, 5, 6, 7, 8, 9, 10, 11, 12, 13, 14, 15], 2, 3)` would return a Numpy array of the following:\n",
    "```\n",
    "[\n",
    "  # First Batch\n",
    "  [\n",
    "    # Batch of Input\n",
    "    [[ 1  2  3], [ 7  8  9]],\n",
    "    # Batch of targets\n",
    "    [[ 2  3  4], [ 8  9 10]]\n",
    "  ],\n",
    " \n",
    "  # Second Batch\n",
    "  [\n",
    "    # Batch of Input\n",
    "    [[ 4  5  6], [10 11 12]],\n",
    "    # Batch of targets\n",
    "    [[ 5  6  7], [11 12 13]]\n",
    "  ]\n",
    "]\n",
    "```"
   ]
  },
  {
   "cell_type": "code",
   "execution_count": 51,
   "metadata": {
    "collapsed": false,
    "deletable": true,
    "editable": true
   },
   "outputs": [
    {
     "name": "stdout",
     "output_type": "stream",
     "text": [
      "Tests Passed\n"
     ]
    }
   ],
   "source": [
    "def get_batches(int_text, batch_size, seq_length):\n",
    "    \"\"\"\n",
    "    Return batches of input and target\n",
    "    :param int_text: Text with the words replaced by their ids\n",
    "    :param batch_size: The size of batch\n",
    "    :param seq_length: The length of sequence\n",
    "    :return: Batches as a Numpy array\n",
    "    \"\"\"\n",
    "    # TODO: Implement Function\n",
    "\n",
    "#     def get_batches(x, y, batch_size=100):\n",
    "#         n_batches = len(x)//batch_size\n",
    "#         x, y = x[:n_batches*batch_size], y[:n_batches*batch_size]\n",
    "#         for ii in range(0, len(x), batch_size):\n",
    "#             yield x[ii:ii+batch_size], y[ii:ii+batch_size]\n",
    "    num_batches = (len(int_text) - 1) // (batch_size * seq_length)\n",
    "    step = num_batches * seq_length\n",
    "    \n",
    "    result = np.zeros((num_batches, 2, batch_size, seq_length)) \n",
    "    \n",
    "    for n in range(num_batches):\n",
    "        for i in range(2):\n",
    "            for b in range(batch_size):\n",
    "                for s in range(seq_length):\n",
    "                    result[n, i, b, s] = int_text[n*seq_length + i + b*step + s]\n",
    "                    \n",
    "    return result\n",
    "    \n",
    "    \n",
    "\"\"\"\n",
    "DON'T MODIFY ANYTHING IN THIS CELL THAT IS BELOW THIS LINE\n",
    "\"\"\"\n",
    "tests.test_get_batches(get_batches)"
   ]
  },
  {
   "cell_type": "code",
   "execution_count": 52,
   "metadata": {
    "collapsed": false,
    "deletable": true,
    "editable": true
   },
   "outputs": [
    {
     "name": "stdout",
     "output_type": "stream",
     "text": [
      "[[[[  1.   2.   3.]\n",
      "   [  7.   8.   9.]]\n",
      "\n",
      "  [[  2.   3.   4.]\n",
      "   [  8.   9.  10.]]]\n",
      "\n",
      "\n",
      " [[[  4.   5.   6.]\n",
      "   [ 10.  11.  12.]]\n",
      "\n",
      "  [[  5.   6.   7.]\n",
      "   [ 11.  12.  13.]]]]\n"
     ]
    }
   ],
   "source": [
    "res = get_batches([1, 2, 3, 4, 5, 6, 7, 8, 9, 10, 11, 12, 13, 14, 15], 2, 3)\n",
    "print(res)"
   ]
  },
  {
   "cell_type": "markdown",
   "metadata": {
    "deletable": true,
    "editable": true
   },
   "source": [
    "## Neural Network Training\n",
    "### Hyperparameters\n",
    "Tune the following parameters:\n",
    "\n",
    "- Set `num_epochs` to the number of epochs.\n",
    "- Set `batch_size` to the batch size.\n",
    "- Set `rnn_size` to the size of the RNNs.\n",
    "- Set `embed_dim` to the size of the embedding.\n",
    "- Set `seq_length` to the length of sequence.\n",
    "- Set `learning_rate` to the learning rate.\n",
    "- Set `show_every_n_batches` to the number of batches the neural network should print progress."
   ]
  },
  {
   "cell_type": "code",
   "execution_count": 62,
   "metadata": {
    "collapsed": true,
    "deletable": true,
    "editable": true
   },
   "outputs": [],
   "source": [
    "# Number of Epochs\n",
    "num_epochs = 80\n",
    "# Batch Size\n",
    "batch_size = 180\n",
    "# RNN Size\n",
    "rnn_size = 1024\n",
    "# Embedding Dimension Size\n",
    "embed_dim = 200\n",
    "# Sequence Length\n",
    "seq_length = 12\n",
    "# Learning Rate\n",
    "learning_rate = 0.01\n",
    "# Show stats for every n number of batches\n",
    "show_every_n_batches = 50\n",
    "\n",
    "\"\"\"\n",
    "DON'T MODIFY ANYTHING IN THIS CELL THAT IS BELOW THIS LINE\n",
    "\"\"\"\n",
    "save_dir = './save'"
   ]
  },
  {
   "cell_type": "markdown",
   "metadata": {
    "deletable": true,
    "editable": true
   },
   "source": [
    "### Build the Graph\n",
    "Build the graph using the neural network you implemented."
   ]
  },
  {
   "cell_type": "code",
   "execution_count": 63,
   "metadata": {
    "collapsed": false,
    "deletable": true,
    "editable": true
   },
   "outputs": [],
   "source": [
    "\"\"\"\n",
    "DON'T MODIFY ANYTHING IN THIS CELL\n",
    "\"\"\"\n",
    "from tensorflow.contrib import seq2seq\n",
    "\n",
    "train_graph = tf.Graph()\n",
    "with train_graph.as_default():\n",
    "    vocab_size = len(int_to_vocab)\n",
    "    input_text, targets, lr = get_inputs()\n",
    "    input_data_shape = tf.shape(input_text)\n",
    "    cell, initial_state = get_init_cell(input_data_shape[0], rnn_size)\n",
    "    logits, final_state = build_nn(cell, rnn_size, input_text, vocab_size, embed_dim)\n",
    "\n",
    "    # Probabilities for generating words\n",
    "    probs = tf.nn.softmax(logits, name='probs')\n",
    "\n",
    "    # Loss function\n",
    "    cost = seq2seq.sequence_loss(\n",
    "        logits,\n",
    "        targets,\n",
    "        tf.ones([input_data_shape[0], input_data_shape[1]]))\n",
    "\n",
    "    # Optimizer\n",
    "    optimizer = tf.train.AdamOptimizer(lr)\n",
    "\n",
    "    # Gradient Clipping\n",
    "    gradients = optimizer.compute_gradients(cost)\n",
    "    capped_gradients = [(tf.clip_by_value(grad, -1., 1.), var) for grad, var in gradients]\n",
    "    train_op = optimizer.apply_gradients(capped_gradients)"
   ]
  },
  {
   "cell_type": "markdown",
   "metadata": {
    "deletable": true,
    "editable": true
   },
   "source": [
    "## Train\n",
    "Train the neural network on the preprocessed data.  If you have a hard time getting a good loss, check the [forms](https://discussions.udacity.com/) to see if anyone is having the same problem."
   ]
  },
  {
   "cell_type": "code",
   "execution_count": 64,
   "metadata": {
    "collapsed": false,
    "deletable": true,
    "editable": true
   },
   "outputs": [
    {
     "name": "stdout",
     "output_type": "stream",
     "text": [
      "Epoch   0 Batch    0/31   train_loss = 8.822\n",
      "Epoch   1 Batch   19/31   train_loss = 6.015\n",
      "Epoch   3 Batch    7/31   train_loss = 5.973\n",
      "Epoch   4 Batch   26/31   train_loss = 5.520\n",
      "Epoch   6 Batch   14/31   train_loss = 5.072\n",
      "Epoch   8 Batch    2/31   train_loss = 4.823\n",
      "Epoch   9 Batch   21/31   train_loss = 4.421\n",
      "Epoch  11 Batch    9/31   train_loss = 4.298\n",
      "Epoch  12 Batch   28/31   train_loss = 4.143\n",
      "Epoch  14 Batch   16/31   train_loss = 3.831\n",
      "Epoch  16 Batch    4/31   train_loss = 3.748\n",
      "Epoch  17 Batch   23/31   train_loss = 3.495\n",
      "Epoch  19 Batch   11/31   train_loss = 3.499\n",
      "Epoch  20 Batch   30/31   train_loss = 3.212\n",
      "Epoch  22 Batch   18/31   train_loss = 2.990\n",
      "Epoch  24 Batch    6/31   train_loss = 2.780\n",
      "Epoch  25 Batch   25/31   train_loss = 2.754\n",
      "Epoch  27 Batch   13/31   train_loss = 2.487\n",
      "Epoch  29 Batch    1/31   train_loss = 2.348\n",
      "Epoch  30 Batch   20/31   train_loss = 2.138\n",
      "Epoch  32 Batch    8/31   train_loss = 2.033\n",
      "Epoch  33 Batch   27/31   train_loss = 1.798\n",
      "Epoch  35 Batch   15/31   train_loss = 1.679\n",
      "Epoch  37 Batch    3/31   train_loss = 1.633\n",
      "Epoch  38 Batch   22/31   train_loss = 1.572\n",
      "Epoch  40 Batch   10/31   train_loss = 1.284\n",
      "Epoch  41 Batch   29/31   train_loss = 1.252\n",
      "Epoch  43 Batch   17/31   train_loss = 1.079\n",
      "Epoch  45 Batch    5/31   train_loss = 1.006\n",
      "Epoch  46 Batch   24/31   train_loss = 0.893\n",
      "Epoch  48 Batch   12/31   train_loss = 0.922\n",
      "Epoch  50 Batch    0/31   train_loss = 0.747\n",
      "Epoch  51 Batch   19/31   train_loss = 0.744\n",
      "Epoch  53 Batch    7/31   train_loss = 0.781\n",
      "Epoch  54 Batch   26/31   train_loss = 0.702\n",
      "Epoch  56 Batch   14/31   train_loss = 0.658\n",
      "Epoch  58 Batch    2/31   train_loss = 0.660\n",
      "Epoch  59 Batch   21/31   train_loss = 0.640\n",
      "Epoch  61 Batch    9/31   train_loss = 0.634\n",
      "Epoch  62 Batch   28/31   train_loss = 0.642\n",
      "Epoch  64 Batch   16/31   train_loss = 0.536\n",
      "Epoch  66 Batch    4/31   train_loss = 0.447\n",
      "Epoch  67 Batch   23/31   train_loss = 0.415\n",
      "Epoch  69 Batch   11/31   train_loss = 0.393\n",
      "Epoch  70 Batch   30/31   train_loss = 0.377\n",
      "Epoch  72 Batch   18/31   train_loss = 0.326\n",
      "Epoch  74 Batch    6/31   train_loss = 0.304\n",
      "Epoch  75 Batch   25/31   train_loss = 0.310\n",
      "Epoch  77 Batch   13/31   train_loss = 0.312\n",
      "Epoch  79 Batch    1/31   train_loss = 0.302\n",
      "Model Trained and Saved\n"
     ]
    }
   ],
   "source": [
    "\"\"\"\n",
    "DON'T MODIFY ANYTHING IN THIS CELL\n",
    "\"\"\"\n",
    "batches = get_batches(int_text, batch_size, seq_length)\n",
    "\n",
    "with tf.Session(graph=train_graph) as sess:\n",
    "    sess.run(tf.global_variables_initializer())\n",
    "\n",
    "    for epoch_i in range(num_epochs):\n",
    "        state = sess.run(initial_state, {input_text: batches[0][0]})\n",
    "\n",
    "        for batch_i, (x, y) in enumerate(batches):\n",
    "            feed = {\n",
    "                input_text: x,\n",
    "                targets: y,\n",
    "                initial_state: state,\n",
    "                lr: learning_rate}\n",
    "            train_loss, state, _ = sess.run([cost, final_state, train_op], feed)\n",
    "\n",
    "            # Show every <show_every_n_batches> batches\n",
    "            if (epoch_i * len(batches) + batch_i) % show_every_n_batches == 0:\n",
    "                print('Epoch {:>3} Batch {:>4}/{}   train_loss = {:.3f}'.format(\n",
    "                    epoch_i,\n",
    "                    batch_i,\n",
    "                    len(batches),\n",
    "                    train_loss))\n",
    "\n",
    "    # Save Model\n",
    "    saver = tf.train.Saver()\n",
    "    saver.save(sess, save_dir)\n",
    "    print('Model Trained and Saved')"
   ]
  },
  {
   "cell_type": "markdown",
   "metadata": {
    "deletable": true,
    "editable": true
   },
   "source": [
    "## Save Parameters\n",
    "Save `seq_length` and `save_dir` for generating a new TV script."
   ]
  },
  {
   "cell_type": "code",
   "execution_count": 65,
   "metadata": {
    "collapsed": false,
    "deletable": true,
    "editable": true
   },
   "outputs": [],
   "source": [
    "\"\"\"\n",
    "DON'T MODIFY ANYTHING IN THIS CELL\n",
    "\"\"\"\n",
    "# Save parameters for checkpoint\n",
    "helper.save_params((seq_length, save_dir))"
   ]
  },
  {
   "cell_type": "markdown",
   "metadata": {
    "deletable": true,
    "editable": true
   },
   "source": [
    "# Checkpoint"
   ]
  },
  {
   "cell_type": "code",
   "execution_count": 1,
   "metadata": {
    "collapsed": false,
    "deletable": true,
    "editable": true
   },
   "outputs": [],
   "source": [
    "\"\"\"\n",
    "DON'T MODIFY ANYTHING IN THIS CELL\n",
    "\"\"\"\n",
    "import tensorflow as tf\n",
    "import numpy as np\n",
    "import helper\n",
    "import problem_unittests as tests\n",
    "\n",
    "_, vocab_to_int, int_to_vocab, token_dict = helper.load_preprocess()\n",
    "seq_length, load_dir = helper.load_params()"
   ]
  },
  {
   "cell_type": "markdown",
   "metadata": {
    "deletable": true,
    "editable": true
   },
   "source": [
    "## Implement Generate Functions\n",
    "### Get Tensors\n",
    "Get tensors from `loaded_graph` using the function [`get_tensor_by_name()`](https://www.tensorflow.org/api_docs/python/tf/Graph#get_tensor_by_name).  Get the tensors using the following names:\n",
    "- \"input:0\"\n",
    "- \"initial_state:0\"\n",
    "- \"final_state:0\"\n",
    "- \"probs:0\"\n",
    "\n",
    "Return the tensors in the following tuple `(InputTensor, InitialStateTensor, FinalStateTensor, ProbsTensor)` "
   ]
  },
  {
   "cell_type": "code",
   "execution_count": 2,
   "metadata": {
    "collapsed": false,
    "deletable": true,
    "editable": true
   },
   "outputs": [
    {
     "name": "stdout",
     "output_type": "stream",
     "text": [
      "Tests Passed\n"
     ]
    }
   ],
   "source": [
    "def get_tensors(loaded_graph):\n",
    "    \"\"\"\n",
    "    Get input, initial state, final state, and probabilities tensor from <loaded_graph>\n",
    "    :param loaded_graph: TensorFlow graph loaded from file\n",
    "    :return: Tuple (InputTensor, InitialStateTensor, FinalStateTensor, ProbsTensor)\n",
    "    \"\"\"\n",
    "    # TODO: Implement Function\n",
    "    InputTensor = loaded_graph.get_tensor_by_name('input:0')\n",
    "    InitialStateTensor = loaded_graph.get_tensor_by_name('initial_state:0')\n",
    "    FinalStateTensor = loaded_graph.get_tensor_by_name('final_state:0')\n",
    "    ProbsTensor = loaded_graph.get_tensor_by_name('probs:0')\n",
    "    \n",
    "    return (InputTensor, InitialStateTensor, FinalStateTensor, ProbsTensor)\n",
    "\n",
    "\n",
    "\"\"\"\n",
    "DON'T MODIFY ANYTHING IN THIS CELL THAT IS BELOW THIS LINE\n",
    "\"\"\"\n",
    "tests.test_get_tensors(get_tensors)"
   ]
  },
  {
   "cell_type": "markdown",
   "metadata": {
    "deletable": true,
    "editable": true
   },
   "source": [
    "### Choose Word\n",
    "Implement the `pick_word()` function to select the next word using `probabilities`."
   ]
  },
  {
   "cell_type": "code",
   "execution_count": 3,
   "metadata": {
    "collapsed": false,
    "deletable": true,
    "editable": true
   },
   "outputs": [
    {
     "name": "stdout",
     "output_type": "stream",
     "text": [
      "Tests Passed\n"
     ]
    }
   ],
   "source": [
    "def pick_word(probabilities, int_to_vocab):\n",
    "    \"\"\"\n",
    "    Pick the next word in the generated text\n",
    "    :param probabilities: Probabilites of the next word\n",
    "    :param int_to_vocab: Dictionary of word ids as the keys and words as the values\n",
    "    :return: String of the predicted word\n",
    "    \"\"\"\n",
    "    \n",
    "    \n",
    "    # TODO: Implement Function\n",
    "    vals = list(int_to_vocab.values())\n",
    "    choice = np.random.choice(vals, p=probabilities)\n",
    "    return choice\n",
    "\n",
    "\n",
    "\"\"\"\n",
    "DON'T MODIFY ANYTHING IN THIS CELL THAT IS BELOW THIS LINE\n",
    "\"\"\"\n",
    "tests.test_pick_word(pick_word)"
   ]
  },
  {
   "cell_type": "markdown",
   "metadata": {
    "deletable": true,
    "editable": true
   },
   "source": [
    "## Generate TV Script\n",
    "This will generate the TV script for you.  Set `gen_length` to the length of TV script you want to generate."
   ]
  },
  {
   "cell_type": "code",
   "execution_count": 4,
   "metadata": {
    "collapsed": false,
    "deletable": true,
    "editable": true
   },
   "outputs": [
    {
     "name": "stdout",
     "output_type": "stream",
     "text": [
      "moe_szyslak: but we did have a shindig for ya, barn. we kept this thing?\n",
      "and(sympathetic) it thing?\n",
      "homer_simpson:(admiring) hey, i always?\n",
      "marge_simpson: we are not.\n",
      "chief_wiggum: four, moe. all i needed to be your friends to get back to your guys!(half, here) actually quiet.\n",
      "marge_simpson:(sings) dr. gumbel,\n",
      "\n",
      "\n",
      "marge_simpson:(inside) well, it won't give me the sign.\n",
      "moe_szyslak: marge, i can't do to get into our busy. i'm left to your life...(he stares) oh, join. it was three--!\n",
      "moe_szyslak: another name, homer. okay, der, but i guess moe. the guy like how to give me 250 with the health musical in first nervous on the other way. but you'll do it though.\n",
      "mayor_joe_quimby: very well, homer.\n",
      "homer_simpson:(baby) hi, what about you!\n",
      "waylon_smithers: so, it'll be a medicine, i'm a thing.\n"
     ]
    }
   ],
   "source": [
    "gen_length = 200\n",
    "# homer_simpson, moe_szyslak, or Barney_Gumble\n",
    "prime_word = 'moe_szyslak'\n",
    "\n",
    "\"\"\"\n",
    "DON'T MODIFY ANYTHING IN THIS CELL THAT IS BELOW THIS LINE\n",
    "\"\"\"\n",
    "loaded_graph = tf.Graph()\n",
    "with tf.Session(graph=loaded_graph) as sess:\n",
    "    # Load saved model\n",
    "    loader = tf.train.import_meta_graph(load_dir + '.meta')\n",
    "    loader.restore(sess, load_dir)\n",
    "\n",
    "    # Get Tensors from loaded model\n",
    "    input_text, initial_state, final_state, probs = get_tensors(loaded_graph)\n",
    "\n",
    "    # Sentences generation setup\n",
    "    gen_sentences = [prime_word + ':']\n",
    "    prev_state = sess.run(initial_state, {input_text: np.array([[1]])})\n",
    "\n",
    "    # Generate sentences\n",
    "    for n in range(gen_length):\n",
    "        # Dynamic Input\n",
    "        dyn_input = [[vocab_to_int[word] for word in gen_sentences[-seq_length:]]]\n",
    "        dyn_seq_length = len(dyn_input[0])\n",
    "\n",
    "        # Get Prediction\n",
    "        probabilities, prev_state = sess.run(\n",
    "            [probs, final_state],\n",
    "            {input_text: dyn_input, initial_state: prev_state})\n",
    "        \n",
    "        pred_word = pick_word(probabilities[dyn_seq_length-1], int_to_vocab)\n",
    "\n",
    "        gen_sentences.append(pred_word)\n",
    "    \n",
    "    # Remove tokens\n",
    "    tv_script = ' '.join(gen_sentences)\n",
    "    for key, token in token_dict.items():\n",
    "        ending = ' ' if key in ['\\n', '(', '\"'] else ''\n",
    "        tv_script = tv_script.replace(' ' + token.lower(), key)\n",
    "    tv_script = tv_script.replace('\\n ', '\\n')\n",
    "    tv_script = tv_script.replace('( ', '(')\n",
    "        \n",
    "    print(tv_script)"
   ]
  },
  {
   "cell_type": "markdown",
   "metadata": {
    "deletable": true,
    "editable": true
   },
   "source": [
    "# The TV Script is Nonsensical\n",
    "It's ok if the TV script doesn't make any sense.  We trained on less than a megabyte of text.  In order to get good results, you'll have to use a smaller vocabulary or get more data.  Luckly there's more data!  As we mentioned in the begging of this project, this is a subset of [another dataset](https://www.kaggle.com/wcukierski/the-simpsons-by-the-data).  We didn't have you train on all the data, because that would take too long.  However, you are free to train your neural network on all the data.  After you complete the project, of course.\n",
    "# Submitting This Project\n",
    "When submitting this project, make sure to run all the cells before saving the notebook. Save the notebook file as \"dlnd_tv_script_generation.ipynb\" and save it as a HTML file under \"File\" -> \"Download as\". Include the \"helper.py\" and \"problem_unittests.py\" files in your submission."
   ]
  }
 ],
 "metadata": {
  "anaconda-cloud": {},
  "kernelspec": {
   "display_name": "Python 3",
   "language": "python",
   "name": "python3"
  },
  "language_info": {
   "codemirror_mode": {
    "name": "ipython",
    "version": 3
   },
   "file_extension": ".py",
   "mimetype": "text/x-python",
   "name": "python",
   "nbconvert_exporter": "python",
   "pygments_lexer": "ipython3",
   "version": "3.5.2"
  },
  "widgets": {
   "state": {},
   "version": "1.1.2"
  }
 },
 "nbformat": 4,
 "nbformat_minor": 0
}
