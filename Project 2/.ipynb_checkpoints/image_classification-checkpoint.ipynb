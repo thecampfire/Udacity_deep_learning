{
 "cells": [
  {
   "cell_type": "markdown",
   "metadata": {
    "collapsed": true,
    "deletable": true,
    "editable": true
   },
   "source": [
    "# Image Classification\n",
    "In this project, you'll classify images from the [CIFAR-10 dataset](https://www.cs.toronto.edu/~kriz/cifar.html).  The dataset consists of airplanes, dogs, cats, and other objects. You'll preprocess the images, then train a convolutional neural network on all the samples. The images need to be normalized and the labels need to be one-hot encoded.  You'll get to apply what you learned and build a convolutional, max pooling, dropout, and fully connected layers.  At the end, you'll get to see your neural network's predictions on the sample images.\n",
    "## Get the Data\n",
    "Run the following cell to download the [CIFAR-10 dataset for python](https://www.cs.toronto.edu/~kriz/cifar-10-python.tar.gz)."
   ]
  },
  {
   "cell_type": "code",
   "execution_count": 1,
   "metadata": {
    "collapsed": false,
    "deletable": true,
    "editable": true
   },
   "outputs": [
    {
     "name": "stderr",
     "output_type": "stream",
     "text": [
      "CIFAR-10 Dataset: 171MB [00:44, 3.84MB/s]                              \n"
     ]
    },
    {
     "name": "stdout",
     "output_type": "stream",
     "text": [
      "All files found!\n"
     ]
    }
   ],
   "source": [
    "\"\"\"\n",
    "DON'T MODIFY ANYTHING IN THIS CELL THAT IS BELOW THIS LINE\n",
    "\"\"\"\n",
    "from urllib.request import urlretrieve\n",
    "from os.path import isfile, isdir\n",
    "from tqdm import tqdm\n",
    "import problem_unittests as tests\n",
    "import tarfile\n",
    "\n",
    "cifar10_dataset_folder_path = 'cifar-10-batches-py'\n",
    "\n",
    "class DLProgress(tqdm):\n",
    "    last_block = 0\n",
    "\n",
    "    def hook(self, block_num=1, block_size=1, total_size=None):\n",
    "        self.total = total_size\n",
    "        self.update((block_num - self.last_block) * block_size)\n",
    "        self.last_block = block_num\n",
    "\n",
    "if not isfile('cifar-10-python.tar.gz'):\n",
    "    with DLProgress(unit='B', unit_scale=True, miniters=1, desc='CIFAR-10 Dataset') as pbar:\n",
    "        urlretrieve(\n",
    "            'https://www.cs.toronto.edu/~kriz/cifar-10-python.tar.gz',\n",
    "            'cifar-10-python.tar.gz',\n",
    "            pbar.hook)\n",
    "\n",
    "if not isdir(cifar10_dataset_folder_path):\n",
    "    with tarfile.open('cifar-10-python.tar.gz') as tar:\n",
    "        tar.extractall()\n",
    "        tar.close()\n",
    "\n",
    "\n",
    "tests.test_folder_path(cifar10_dataset_folder_path)"
   ]
  },
  {
   "cell_type": "markdown",
   "metadata": {
    "deletable": true,
    "editable": true
   },
   "source": [
    "## Explore the Data\n",
    "The dataset is broken into batches to prevent your machine from running out of memory.  The CIFAR-10 dataset consists of 5 batches, named `data_batch_1`, `data_batch_2`, etc.. Each batch contains the labels and images that are one of the following:\n",
    "* airplane\n",
    "* automobile\n",
    "* bird\n",
    "* cat\n",
    "* deer\n",
    "* dog\n",
    "* frog\n",
    "* horse\n",
    "* ship\n",
    "* truck\n",
    "\n",
    "Understanding a dataset is part of making predictions on the data.  Play around with the code cell below by changing the `batch_id` and `sample_id`. The `batch_id` is the id for a batch (1-5). The `sample_id` is the id for a image and label pair in the batch.\n",
    "\n",
    "Ask yourself \"What are all possible labels?\", \"What is the range of values for the image data?\", \"Are the labels in order or random?\".  Answers to questions like these will help you preprocess the data and end up with better predictions."
   ]
  },
  {
   "cell_type": "code",
   "execution_count": 2,
   "metadata": {
    "collapsed": false,
    "deletable": true,
    "editable": true
   },
   "outputs": [
    {
     "name": "stdout",
     "output_type": "stream",
     "text": [
      "\n",
      "Stats of batch 2:\n",
      "Samples: 10000\n",
      "Label Counts: {0: 984, 1: 1007, 2: 1010, 3: 995, 4: 1010, 5: 988, 6: 1008, 7: 1026, 8: 987, 9: 985}\n",
      "First 20 Labels: [1, 6, 6, 8, 8, 3, 4, 6, 0, 6, 0, 3, 6, 6, 5, 4, 8, 3, 2, 6]\n",
      "\n",
      "Example of Image 1234:\n",
      "Image - Min Value: 27 Max Value: 245\n",
      "Image - Shape: (32, 32, 3)\n",
      "Label - Label Id: 3 Name: cat\n"
     ]
    },
    {
     "data": {
      "image/png": "[encoded data removed]",
      "text/plain": [
       "<matplotlib.figure.Figure at 0x7fb91c72d550>"
      ]
     },
     "metadata": {
      "image/png": {
       "height": 250,
       "width": 253
      }
     },
     "output_type": "display_data"
    }
   ],
   "source": [
    "%matplotlib inline\n",
    "%config InlineBackend.figure_format = 'retina'\n",
    "\n",
    "import helper\n",
    "import numpy as np\n",
    "\n",
    "# Explore the dataset\n",
    "batch_id = 2\n",
    "sample_id = 1234\n",
    "helper.display_stats(cifar10_dataset_folder_path, batch_id, sample_id)"
   ]
  },
  {
   "cell_type": "markdown",
   "metadata": {
    "deletable": true,
    "editable": true
   },
   "source": [
    "## Implement Preprocess Functions\n",
    "### Normalize\n",
    "In the cell below, implement the `normalize` function to take in image data, `x`, and return it as a normalized Numpy array. The values should be in the range of 0 to 1, inclusive.  The return object should be the same shape as `x`."
   ]
  },
  {
   "cell_type": "code",
   "execution_count": 3,
   "metadata": {
    "collapsed": false,
    "deletable": true,
    "editable": true
   },
   "outputs": [
    {
     "name": "stdout",
     "output_type": "stream",
     "text": [
      "Tests Passed\n"
     ]
    }
   ],
   "source": [
    "def normalize(x):\n",
    "    \"\"\"\n",
    "    Normalize a list of sample image data in the range of 0 to 1\n",
    "    : x: List of image data.  The image shape is (32, 32, 3)\n",
    "    : return: Numpy array of normalize data\n",
    "    \"\"\"\n",
    "    \n",
    "    result = np.divide(x, 255.)\n",
    "\n",
    "    return result\n",
    "\n",
    "\n",
    "\"\"\"\n",
    "DON'T MODIFY ANYTHING IN THIS CELL THAT IS BELOW THIS LINE\n",
    "\"\"\"\n",
    "tests.test_normalize(normalize)"
   ]
  },
  {
   "cell_type": "markdown",
   "metadata": {
    "deletable": true,
    "editable": true
   },
   "source": [
    "### One-hot encode\n",
    "Just like the previous code cell, you'll be implementing a function for preprocessing.  This time, you'll implement the `one_hot_encode` function. The input, `x`, are a list of labels.  Implement the function to return the list of labels as One-Hot encoded Numpy array.  The possible values for labels are 0 to 9. The one-hot encoding function should return the same encoding for each value between each call to `one_hot_encode`.  Make sure to save the map of encodings outside the function.\n",
    "\n",
    "**Hint:**\n",
    "\n",
    "Look into LabelBinarizer in the preprocessing module of sklearn."
   ]
  },
  {
   "cell_type": "code",
   "execution_count": 4,
   "metadata": {
    "collapsed": false,
    "deletable": true,
    "editable": true
   },
   "outputs": [
    {
     "name": "stdout",
     "output_type": "stream",
     "text": [
      "Tests Passed\n"
     ]
    }
   ],
   "source": [
    "from sklearn.preprocessing import LabelBinarizer\n",
    "\n",
    "classes = [0, 1, 2, 3, 4, 5, 6, 7, 8, 9]\n",
    "encoder = LabelBinarizer()\n",
    "encoder.fit(classes)\n",
    "\n",
    "def one_hot_encode(x):\n",
    "    \"\"\"\n",
    "    One hot encode a list of sample labels. Return a one-hot encoded vector for each label.\n",
    "    : x: List of sample Labels\n",
    "    : return: Numpy array of one-hot encoded labels\n",
    "    \"\"\"\n",
    "    y = encoder.transform(x)\n",
    "    return y\n",
    "\n",
    "\n",
    "\"\"\"\n",
    "DON'T MODIFY ANYTHING IN THIS CELL THAT IS BELOW THIS LINE\n",
    "\"\"\"\n",
    "tests.test_one_hot_encode(one_hot_encode)"
   ]
  },
  {
   "cell_type": "markdown",
   "metadata": {
    "deletable": true,
    "editable": true
   },
   "source": [
    "### Randomize Data\n",
    "As you saw from exploring the data above, the order of the samples are randomized.  It doesn't hurt to randomize it again, but you don't need to for this dataset."
   ]
  },
  {
   "cell_type": "markdown",
   "metadata": {
    "deletable": true,
    "editable": true
   },
   "source": [
    "## Preprocess all the data and save it\n",
    "Running the code cell below will preprocess all the CIFAR-10 data and save it to file. The code below also uses 10% of the training data for validation."
   ]
  },
  {
   "cell_type": "code",
   "execution_count": 5,
   "metadata": {
    "collapsed": false,
    "deletable": true,
    "editable": true
   },
   "outputs": [],
   "source": [
    "\"\"\"\n",
    "DON'T MODIFY ANYTHING IN THIS CELL\n",
    "\"\"\"\n",
    "# Preprocess Training, Validation, and Testing Data\n",
    "helper.preprocess_and_save_data(cifar10_dataset_folder_path, normalize, one_hot_encode)"
   ]
  },
  {
   "cell_type": "markdown",
   "metadata": {
    "deletable": true,
    "editable": true
   },
   "source": [
    "# Check Point\n",
    "This is your first checkpoint.  If you ever decide to come back to this notebook or have to restart the notebook, you can start from here.  The preprocessed data has been saved to disk."
   ]
  },
  {
   "cell_type": "code",
   "execution_count": 6,
   "metadata": {
    "collapsed": false,
    "deletable": true,
    "editable": true
   },
   "outputs": [],
   "source": [
    "\"\"\"\n",
    "DON'T MODIFY ANYTHING IN THIS CELL\n",
    "\"\"\"\n",
    "import pickle\n",
    "import problem_unittests as tests\n",
    "import helper\n",
    "\n",
    "# Load the Preprocessed Validation data\n",
    "valid_features, valid_labels = pickle.load(open('preprocess_validation.p', mode='rb'))"
   ]
  },
  {
   "cell_type": "markdown",
   "metadata": {
    "deletable": true,
    "editable": true
   },
   "source": [
    "## Build the network\n",
    "For the neural network, you'll build each layer into a function.  Most of the code you've seen has been outside of functions. To test your code more thoroughly, we require that you put each layer in a function.  This allows us to give you better feedback and test for simple mistakes using our unittests before you submit your project.\n",
    "\n",
    ">**Note:** If you're finding it hard to dedicate enough time for this course each week, we've provided a small shortcut to this part of the project. In the next couple of problems, you'll have the option to use classes from the [TensorFlow Layers](https://www.tensorflow.org/api_docs/python/tf/layers) or [TensorFlow Layers (contrib)](https://www.tensorflow.org/api_guides/python/contrib.layers) packages to build each layer, except the layers you build in the \"Convolutional and Max Pooling Layer\" section.  TF Layers is similar to Keras's and TFLearn's abstraction to layers, so it's easy to pickup.\n",
    "\n",
    ">However, if you would like to get the most out of this course, try to solve all the problems _without_ using anything from the TF Layers packages. You **can** still use classes from other packages that happen to have the same name as ones you find in TF Layers! For example, instead of using the TF Layers version of the `conv2d` class, [tf.layers.conv2d](https://www.tensorflow.org/api_docs/python/tf/layers/conv2d), you would want to use the TF Neural Network version of `conv2d`, [tf.nn.conv2d](https://www.tensorflow.org/api_docs/python/tf/nn/conv2d). \n",
    "\n",
    "Let's begin!\n",
    "\n",
    "### Input\n",
    "The neural network needs to read the image data, one-hot encoded labels, and dropout keep probability. Implement the following functions\n",
    "* Implement `neural_net_image_input`\n",
    " * Return a [TF Placeholder](https://www.tensorflow.org/api_docs/python/tf/placeholder)\n",
    " * Set the shape using `image_shape` with batch size set to `None`.\n",
    " * Name the TensorFlow placeholder \"x\" using the TensorFlow `name` parameter in the [TF Placeholder](https://www.tensorflow.org/api_docs/python/tf/placeholder).\n",
    "* Implement `neural_net_label_input`\n",
    " * Return a [TF Placeholder](https://www.tensorflow.org/api_docs/python/tf/placeholder)\n",
    " * Set the shape using `n_classes` with batch size set to `None`.\n",
    " * Name the TensorFlow placeholder \"y\" using the TensorFlow `name` parameter in the [TF Placeholder](https://www.tensorflow.org/api_docs/python/tf/placeholder).\n",
    "* Implement `neural_net_keep_prob_input`\n",
    " * Return a [TF Placeholder](https://www.tensorflow.org/api_docs/python/tf/placeholder) for dropout keep probability.\n",
    " * Name the TensorFlow placeholder \"keep_prob\" using the TensorFlow `name` parameter in the [TF Placeholder](https://www.tensorflow.org/api_docs/python/tf/placeholder).\n",
    "\n",
    "These names will be used at the end of the project to load your saved model.\n",
    "\n",
    "Note: `None` for shapes in TensorFlow allow for a dynamic size."
   ]
  },
  {
   "cell_type": "code",
   "execution_count": 7,
   "metadata": {
    "collapsed": false,
    "deletable": true,
    "editable": true
   },
   "outputs": [
    {
     "name": "stdout",
     "output_type": "stream",
     "text": [
      "Image Input Tests Passed.\n",
      "Label Input Tests Passed.\n",
      "Keep Prob Tests Passed.\n"
     ]
    }
   ],
   "source": [
    "import tensorflow as tf\n",
    "\n",
    "def neural_net_image_input(image_shape):\n",
    "    \"\"\"\n",
    "    Return a Tensor for a batch of image input\n",
    "    : image_shape: Shape of the images\n",
    "    : return: Tensor for image input.\n",
    "    \"\"\"\n",
    "    # TODO: Implement Function\n",
    "    image = tf.placeholder(tf.float32, [None, image_shape[0], image_shape[1], image_shape[2]], name='x')\n",
    "    return image\n",
    "\n",
    "\n",
    "def neural_net_label_input(n_classes):\n",
    "    \"\"\"\n",
    "    Return a Tensor for a batch of label input\n",
    "    : n_classes: Number of classes\n",
    "    : return: Tensor for label input.\n",
    "    \"\"\"\n",
    "    # TODO: Implement Function\n",
    "    return tf.placeholder(tf.float32, [None, n_classes], name='y')\n",
    "\n",
    "\n",
    "def neural_net_keep_prob_input():\n",
    "    \"\"\"\n",
    "    Return a Tensor for keep probability\n",
    "    : return: Tensor for keep probability.\n",
    "    \"\"\"\n",
    "    # TODO: Implement Function\n",
    "    return tf.placeholder(tf.float32, name='keep_prob')\n",
    "\n",
    "\n",
    "\"\"\"\n",
    "DON'T MODIFY ANYTHING IN THIS CELL THAT IS BELOW THIS LINE\n",
    "\"\"\"\n",
    "tf.reset_default_graph()\n",
    "tests.test_nn_image_inputs(neural_net_image_input)\n",
    "tests.test_nn_label_inputs(neural_net_label_input)\n",
    "tests.test_nn_keep_prob_inputs(neural_net_keep_prob_input)"
   ]
  },
  {
   "cell_type": "markdown",
   "metadata": {
    "deletable": true,
    "editable": true
   },
   "source": [
    "### Convolution and Max Pooling Layer\n",
    "Convolution layers have a lot of success with images. For this code cell, you should implement the function `conv2d_maxpool` to apply convolution then max pooling:\n",
    "* Create the weight and bias using `conv_ksize`, `conv_num_outputs` and the shape of `x_tensor`.\n",
    "* Apply a convolution to `x_tensor` using weight and `conv_strides`.\n",
    " * We recommend you use same padding, but you're welcome to use any padding.\n",
    "* Add bias\n",
    "* Add a nonlinear activation to the convolution.\n",
    "* Apply Max Pooling using `pool_ksize` and `pool_strides`.\n",
    " * We recommend you use same padding, but you're welcome to use any padding.\n",
    "\n",
    "**Note:** You **can't** use [TensorFlow Layers](https://www.tensorflow.org/api_docs/python/tf/layers) or [TensorFlow Layers (contrib)](https://www.tensorflow.org/api_guides/python/contrib.layers) for **this** layer, but you can still use TensorFlow's [Neural Network](https://www.tensorflow.org/api_docs/python/tf/nn) package. You may still use the shortcut option for all the **other** layers.\n",
    "\n",
    "** Hint: **\n",
    "\n",
    "When unpacking values as an argument in Python, look into the [unpacking](https://docs.python.org/3/tutorial/controlflow.html#unpacking-argument-lists) operator. "
   ]
  },
  {
   "cell_type": "code",
   "execution_count": 8,
   "metadata": {
    "collapsed": false,
    "deletable": true,
    "editable": true
   },
   "outputs": [
    {
     "name": "stdout",
     "output_type": "stream",
     "text": [
      "Tests Passed\n"
     ]
    }
   ],
   "source": [
    "def conv2d_maxpool(x_tensor, conv_num_outputs, conv_ksize, conv_strides, pool_ksize, pool_strides):\n",
    "    \"\"\"\n",
    "    Apply convolution then max pooling to x_tensor\n",
    "    :param x_tensor: TensorFlow Tensor\n",
    "    :param conv_num_outputs: Number of outputs for the convolutional layer\n",
    "    :param conv_ksize: kernal size 2-D Tuple for the convolutional layer\n",
    "    :param conv_strides: Stride 2-D Tuple for convolution\n",
    "    :param pool_ksize: kernal size 2-D Tuple for pool\n",
    "    :param pool_strides: Stride 2-D Tuple for pool\n",
    "    : return: A tensor that represents convolution and max pooling of x_tensor\n",
    "    \"\"\"\n",
    "    # TODO: Implement Function\n",
    "    depth = int(x_tensor.shape[-1])\n",
    "    \n",
    "    W = tf.Variable(tf.truncated_normal([*conv_ksize, depth, conv_num_outputs], mean=0.0, stddev=0.05, dtype=tf.float32)) \n",
    "    bias = tf.Variable(tf.zeros([conv_num_outputs]))\n",
    "    \n",
    "    x_tensor = tf.nn.conv2d(x_tensor, W, strides=[1, *conv_strides, 1], padding='SAME')\n",
    "    x_tensor = tf.nn.bias_add(x_tensor, bias)\n",
    "    x_tensor = tf.nn.relu(x_tensor)\n",
    "    \n",
    "    return tf.nn.max_pool(x_tensor, ksize=[1, *pool_ksize, 1], strides=[1, *pool_strides, 1], padding='SAME') \n",
    "    \n",
    "\n",
    "    \n",
    "\n",
    "\n",
    "\"\"\"\n",
    "DON'T MODIFY ANYTHING IN THIS CELL THAT IS BELOW THIS LINE\n",
    "\"\"\"\n",
    "tests.test_con_pool(conv2d_maxpool)"
   ]
  },
  {
   "cell_type": "markdown",
   "metadata": {
    "deletable": true,
    "editable": true
   },
   "source": [
    "### Flatten Layer\n",
    "Implement the `flatten` function to change the dimension of `x_tensor` from a 4-D tensor to a 2-D tensor.  The output should be the shape (*Batch Size*, *Flattened Image Size*). Shortcut option: you can use classes from the [TensorFlow Layers](https://www.tensorflow.org/api_docs/python/tf/layers) or [TensorFlow Layers (contrib)](https://www.tensorflow.org/api_guides/python/contrib.layers) packages for this layer. For more of a challenge, only use other TensorFlow packages."
   ]
  },
  {
   "cell_type": "code",
   "execution_count": 9,
   "metadata": {
    "collapsed": false,
    "deletable": true,
    "editable": true
   },
   "outputs": [
    {
     "name": "stdout",
     "output_type": "stream",
     "text": [
      "Tests Passed\n"
     ]
    }
   ],
   "source": [
    "def flatten(x_tensor):\n",
    "    \"\"\"\n",
    "    Flatten x_tensor to (Batch Size, Flattened Image Size)\n",
    "    : x_tensor: A tensor of size (Batch Size, ...), where ... are the image dimensions.\n",
    "    : return: A tensor of size (Batch Size, Flattened Image Size).\n",
    "    \"\"\"\n",
    "    # TODO: Implement Function\n",
    "    dims = x_tensor.get_shape()[1:]\n",
    "    flattened_3dims = int(dims[0]) * int(dims[1]) * int(dims[2])\n",
    "    result = tf.reshape(x_tensor, [-1, flattened_3dims])\n",
    "    return result\n",
    "\n",
    "\n",
    "\"\"\"\n",
    "DON'T MODIFY ANYTHING IN THIS CELL THAT IS BELOW THIS LINE\n",
    "\"\"\"\n",
    "tests.test_flatten(flatten)"
   ]
  },
  {
   "cell_type": "markdown",
   "metadata": {
    "deletable": true,
    "editable": true
   },
   "source": [
    "### Fully-Connected Layer\n",
    "Implement the `fully_conn` function to apply a fully connected layer to `x_tensor` with the shape (*Batch Size*, *num_outputs*). Shortcut option: you can use classes from the [TensorFlow Layers](https://www.tensorflow.org/api_docs/python/tf/layers) or [TensorFlow Layers (contrib)](https://www.tensorflow.org/api_guides/python/contrib.layers) packages for this layer. For more of a challenge, only use other TensorFlow packages."
   ]
  },
  {
   "cell_type": "code",
   "execution_count": 10,
   "metadata": {
    "collapsed": false,
    "deletable": true,
    "editable": true
   },
   "outputs": [
    {
     "name": "stdout",
     "output_type": "stream",
     "text": [
      "Tests Passed\n"
     ]
    }
   ],
   "source": [
    "def fully_conn(x_tensor, num_outputs):\n",
    "    \"\"\"\n",
    "    Apply a fully connected layer to x_tensor using weight and bias\n",
    "    : x_tensor: A 2-D tensor where the first dimension is batch size.\n",
    "    : num_outputs: The number of output that the new tensor should be.\n",
    "    : return: A 2-D tensor where the second dimension is num_outputs.\n",
    "    \"\"\"\n",
    "    # TODO: Implement Function\n",
    "    W = tf.Variable(tf.truncated_normal([x_tensor.get_shape().as_list()[1], num_outputs], mean=0.0, stddev=0.05, dtype=tf.float32))\n",
    "    b = tf.Variable(tf.zeros([num_outputs]))\n",
    "    \n",
    "    fc = tf.add(tf.matmul(x_tensor, W), b)\n",
    "    fc = tf.nn.relu(fc)\n",
    "    return fc\n",
    "\n",
    "\n",
    "\"\"\"\n",
    "DON'T MODIFY ANYTHING IN THIS CELL THAT IS BELOW THIS LINE\n",
    "\"\"\"\n",
    "tests.test_fully_conn(fully_conn)"
   ]
  },
  {
   "cell_type": "markdown",
   "metadata": {
    "deletable": true,
    "editable": true
   },
   "source": [
    "### Output Layer\n",
    "Implement the `output` function to apply a fully connected layer to `x_tensor` with the shape (*Batch Size*, *num_outputs*). Shortcut option: you can use classes from the [TensorFlow Layers](https://www.tensorflow.org/api_docs/python/tf/layers) or [TensorFlow Layers (contrib)](https://www.tensorflow.org/api_guides/python/contrib.layers) packages for this layer. For more of a challenge, only use other TensorFlow packages.\n",
    "\n",
    "**Note:** Activation, softmax, or cross entropy should **not** be applied to this."
   ]
  },
  {
   "cell_type": "code",
   "execution_count": 11,
   "metadata": {
    "collapsed": false,
    "deletable": true,
    "editable": true
   },
   "outputs": [
    {
     "name": "stdout",
     "output_type": "stream",
     "text": [
      "Tests Passed\n"
     ]
    }
   ],
   "source": [
    "def output(x_tensor, num_outputs):\n",
    "    \"\"\"\n",
    "    Apply a output layer to x_tensor using weight and bias\n",
    "    : x_tensor: A 2-D tensor where the first dimension is batch size.\n",
    "    : num_outputs: The number of output that the new tensor should be.\n",
    "    : return: A 2-D tensor where the second dimension is num_outputs.\n",
    "    \"\"\"\n",
    "    # TODO: Implement Function\n",
    "    W = tf.Variable(tf.truncated_normal([x_tensor.get_shape().as_list()[1], num_outputs], mean=0.0, stddev=0.05, dtype=tf.float32))\n",
    "    b = tf.Variable(tf.zeros([num_outputs]))\n",
    "    \n",
    "    out = tf.add(tf.matmul(x_tensor, W), b)\n",
    "    return out\n",
    "\n",
    "\n",
    "\"\"\"\n",
    "DON'T MODIFY ANYTHING IN THIS CELL THAT IS BELOW THIS LINE\n",
    "\"\"\"\n",
    "tests.test_output(output)"
   ]
  },
  {
   "cell_type": "markdown",
   "metadata": {
    "deletable": true,
    "editable": true
   },
   "source": [
    "### Create Convolutional Model\n",
    "Implement the function `conv_net` to create a convolutional neural network model. The function takes in a batch of images, `x`, and outputs logits.  Use the layers you created above to create this model:\n",
    "\n",
    "* Apply 1, 2, or 3 Convolution and Max Pool layers\n",
    "* Apply a Flatten Layer\n",
    "* Apply 1, 2, or 3 Fully Connected Layers\n",
    "* Apply an Output Layer\n",
    "* Return the output\n",
    "* Apply [TensorFlow's Dropout](https://www.tensorflow.org/api_docs/python/tf/nn/dropout) to one or more layers in the model using `keep_prob`. "
   ]
  },
  {
   "cell_type": "code",
   "execution_count": 23,
   "metadata": {
    "collapsed": false,
    "deletable": true,
    "editable": true
   },
   "outputs": [
    {
     "name": "stdout",
     "output_type": "stream",
     "text": [
      "Neural Network Built!\n"
     ]
    }
   ],
   "source": [
    "def conv_net(x, keep_prob):\n",
    "    \"\"\"\n",
    "    Create a convolutional neural network model\n",
    "    : x: Placeholder tensor that holds image data.\n",
    "    : keep_prob: Placeholder tensor that hold dropout keep probability.\n",
    "    : return: Tensor that represents logits\n",
    "    \"\"\"\n",
    "    # TODO: Apply 1, 2, or 3 Convolution and Max Pool layers\n",
    "    #    Play around with different number of outputs, kernel size and stride\n",
    "    # Function Definition from Above:\n",
    "    # def conv2d_maxpool(x_tensor, conv_num_outputs, conv_ksize, conv_strides, pool_ksize, pool_strides)\n",
    "    \n",
    "    conv1 = conv2d_maxpool(x, 32, (5, 5), (2, 2), (2, 2), (2, 2))\n",
    "    conv2 = conv2d_maxpool(conv1, 96, (3, 3), (2, 2), (2, 2), (2, 2))\n",
    "    conv3 = conv2d_maxpool(conv2, 192, (3, 3), (2, 2), (2, 2), (2, 2))\n",
    "    \n",
    "\n",
    "    # TODO: Apply a Flatten Layer\n",
    "    # Function Definition from Above:\n",
    "    flattened = flatten(conv3)\n",
    "    \n",
    "\n",
    "    # TODO: Apply 1, 2, or 3 Fully Connected Layers\n",
    "    #    Play around with different number of outputs\n",
    "    # Function Definition from Above:\n",
    "    fc1 = fully_conn(flattened, 1024)\n",
    "    fc1 = tf.nn.dropout(fc1, keep_prob)\n",
    "    fc2 = fully_conn(fc1, 512)\n",
    "    fc2 = tf.nn.dropout(fc2, keep_prob)\n",
    "    \n",
    "    \n",
    "    \n",
    "    # TODO: Apply an Output Layer\n",
    "    #    Set this to the number of classes\n",
    "    # Function Definition from Above:\n",
    "    out = output(fc2, 10)\n",
    "    \n",
    "    \n",
    "    # TODO: return output\n",
    "    return out\n",
    "\n",
    "\n",
    "\"\"\"\n",
    "DON'T MODIFY ANYTHING IN THIS CELL THAT IS BELOW THIS LINE\n",
    "\"\"\"\n",
    "\n",
    "##############################\n",
    "## Build the Neural Network ##\n",
    "##############################\n",
    "\n",
    "# Remove previous weights, bias, inputs, etc..\n",
    "tf.reset_default_graph()\n",
    "\n",
    "# Inputs\n",
    "x = neural_net_image_input((32, 32, 3))\n",
    "y = neural_net_label_input(10)\n",
    "keep_prob = neural_net_keep_prob_input()\n",
    "\n",
    "# Model\n",
    "logits = conv_net(x, keep_prob)\n",
    "\n",
    "# Name logits Tensor, so that is can be loaded from disk after training\n",
    "logits = tf.identity(logits, name='logits')\n",
    "\n",
    "# Loss and Optimizer\n",
    "cost = tf.reduce_mean(tf.nn.softmax_cross_entropy_with_logits(logits=logits, labels=y))\n",
    "optimizer = tf.train.AdamOptimizer().minimize(cost)\n",
    "\n",
    "# Accuracy\n",
    "correct_pred = tf.equal(tf.argmax(logits, 1), tf.argmax(y, 1))\n",
    "accuracy = tf.reduce_mean(tf.cast(correct_pred, tf.float32), name='accuracy')\n",
    "\n",
    "tests.test_conv_net(conv_net)"
   ]
  },
  {
   "cell_type": "markdown",
   "metadata": {
    "deletable": true,
    "editable": true
   },
   "source": [
    "## Train the Neural Network\n",
    "### Single Optimization\n",
    "Implement the function `train_neural_network` to do a single optimization.  The optimization should use `optimizer` to optimize in `session` with a `feed_dict` of the following:\n",
    "* `x` for image input\n",
    "* `y` for labels\n",
    "* `keep_prob` for keep probability for dropout\n",
    "\n",
    "This function will be called for each batch, so `tf.global_variables_initializer()` has already been called.\n",
    "\n",
    "Note: Nothing needs to be returned. This function is only optimizing the neural network."
   ]
  },
  {
   "cell_type": "code",
   "execution_count": 24,
   "metadata": {
    "collapsed": false,
    "deletable": true,
    "editable": true
   },
   "outputs": [
    {
     "name": "stdout",
     "output_type": "stream",
     "text": [
      "Tests Passed\n"
     ]
    }
   ],
   "source": [
    "def train_neural_network(session, optimizer, keep_probability, feature_batch, label_batch):\n",
    "    \"\"\"\n",
    "    Optimize the session on a batch of images and labels\n",
    "    : session: Current TensorFlow session\n",
    "    : optimizer: TensorFlow optimizer function\n",
    "    : keep_probability: keep probability\n",
    "    : feature_batch: Batch of Numpy image data\n",
    "    : label_batch: Batch of Numpy label data\n",
    "    \"\"\"\n",
    "    # TODO: Implement Function\n",
    "    \n",
    "    session.run(optimizer, feed_dict={\n",
    "                x: feature_batch,\n",
    "                y: label_batch,\n",
    "                keep_prob: keep_probability})\n",
    "        \n",
    "        \n",
    "\"\"\"\n",
    "DON'T MODIFY ANYTHING IN THIS CELL THAT IS BELOW THIS LINE\n",
    "\"\"\"\n",
    "tests.test_train_nn(train_neural_network)"
   ]
  },
  {
   "cell_type": "markdown",
   "metadata": {
    "deletable": true,
    "editable": true
   },
   "source": [
    "### Show Stats\n",
    "Implement the function `print_stats` to print loss and validation accuracy.  Use the global variables `valid_features` and `valid_labels` to calculate validation accuracy.  Use a keep probability of `1.0` to calculate the loss and validation accuracy."
   ]
  },
  {
   "cell_type": "code",
   "execution_count": 25,
   "metadata": {
    "collapsed": false,
    "deletable": true,
    "editable": true
   },
   "outputs": [],
   "source": [
    "def print_stats(session, feature_batch, label_batch, cost, accuracy):\n",
    "    \"\"\"\n",
    "    Print information about loss and validation accuracy\n",
    "    : session: Current TensorFlow session\n",
    "    : feature_batch: Batch of Numpy image data\n",
    "    : label_batch: Batch of Numpy label data\n",
    "    : cost: TensorFlow cost function\n",
    "    : accuracy: TensorFlow accuracy function\n",
    "    \"\"\"\n",
    "    # TODO: Implement Function\n",
    "    loss = session.run(cost, feed_dict={\n",
    "                x: feature_batch,\n",
    "                y: label_batch,\n",
    "                keep_prob: 1.})\n",
    "\n",
    "    valid_acc = session.run(accuracy, feed_dict={\n",
    "                x: valid_features,\n",
    "                y: valid_labels,\n",
    "                keep_prob: 1.})\n",
    "    \n",
    "    \n",
    "    print('Loss: {:>10.4f}  Validation Accuracy: {:.6f}'.format(\n",
    "                loss,\n",
    "                valid_acc))"
   ]
  },
  {
   "cell_type": "markdown",
   "metadata": {
    "deletable": true,
    "editable": true
   },
   "source": [
    "### Hyperparameters\n",
    "Tune the following parameters:\n",
    "* Set `epochs` to the number of iterations until the network stops learning or start overfitting\n",
    "* Set `batch_size` to the highest number that your machine has memory for.  Most people set them to common sizes of memory:\n",
    " * 64\n",
    " * 128\n",
    " * 256\n",
    " * ...\n",
    "* Set `keep_probability` to the probability of keeping a node using dropout"
   ]
  },
  {
   "cell_type": "code",
   "execution_count": 28,
   "metadata": {
    "collapsed": true,
    "deletable": true,
    "editable": true
   },
   "outputs": [],
   "source": [
    "# TODO: Tune Parameters\n",
    "epochs = 75\n",
    "batch_size = 512\n",
    "keep_probability = 0.5"
   ]
  },
  {
   "cell_type": "markdown",
   "metadata": {
    "deletable": true,
    "editable": true
   },
   "source": [
    "### Train on a Single CIFAR-10 Batch\n",
    "Instead of training the neural network on all the CIFAR-10 batches of data, let's use a single batch. This should save time while you iterate on the model to get a better accuracy.  Once the final validation accuracy is 50% or greater, run the model on all the data in the next section."
   ]
  },
  {
   "cell_type": "code",
   "execution_count": 29,
   "metadata": {
    "collapsed": false,
    "deletable": true,
    "editable": true
   },
   "outputs": [
    {
     "name": "stdout",
     "output_type": "stream",
     "text": [
      "Checking the Training on a Single Batch...\n",
      "Epoch  1, CIFAR-10 Batch 1:  Loss:     2.0663  Validation Accuracy: 0.271200\n",
      "Epoch  2, CIFAR-10 Batch 1:  Loss:     1.9746  Validation Accuracy: 0.296200\n",
      "Epoch  3, CIFAR-10 Batch 1:  Loss:     1.8270  Validation Accuracy: 0.357400\n",
      "Epoch  4, CIFAR-10 Batch 1:  Loss:     1.8012  Validation Accuracy: 0.358000\n",
      "Epoch  5, CIFAR-10 Batch 1:  Loss:     1.6611  Validation Accuracy: 0.388400\n",
      "Epoch  6, CIFAR-10 Batch 1:  Loss:     1.5740  Validation Accuracy: 0.415600\n",
      "Epoch  7, CIFAR-10 Batch 1:  Loss:     1.4988  Validation Accuracy: 0.433200\n",
      "Epoch  8, CIFAR-10 Batch 1:  Loss:     1.4382  Validation Accuracy: 0.441600\n",
      "Epoch  9, CIFAR-10 Batch 1:  Loss:     1.3481  Validation Accuracy: 0.466000\n",
      "Epoch 10, CIFAR-10 Batch 1:  Loss:     1.2731  Validation Accuracy: 0.467600\n",
      "Epoch 11, CIFAR-10 Batch 1:  Loss:     1.2287  Validation Accuracy: 0.473000\n",
      "Epoch 12, CIFAR-10 Batch 1:  Loss:     1.1683  Validation Accuracy: 0.491400\n",
      "Epoch 13, CIFAR-10 Batch 1:  Loss:     1.0835  Validation Accuracy: 0.502200\n",
      "Epoch 14, CIFAR-10 Batch 1:  Loss:     1.0273  Validation Accuracy: 0.519400\n",
      "Epoch 15, CIFAR-10 Batch 1:  Loss:     0.9820  Validation Accuracy: 0.524800\n",
      "Epoch 16, CIFAR-10 Batch 1:  Loss:     0.9089  Validation Accuracy: 0.527600\n",
      "Epoch 17, CIFAR-10 Batch 1:  Loss:     0.8612  Validation Accuracy: 0.528400\n",
      "Epoch 18, CIFAR-10 Batch 1:  Loss:     0.8295  Validation Accuracy: 0.526400\n",
      "Epoch 19, CIFAR-10 Batch 1:  Loss:     0.8254  Validation Accuracy: 0.517600\n",
      "Epoch 20, CIFAR-10 Batch 1:  Loss:     0.7615  Validation Accuracy: 0.516600\n",
      "Epoch 21, CIFAR-10 Batch 1:  Loss:     0.7870  Validation Accuracy: 0.502600\n",
      "Epoch 22, CIFAR-10 Batch 1:  Loss:     0.7092  Validation Accuracy: 0.500000\n",
      "Epoch 23, CIFAR-10 Batch 1:  Loss:     0.6937  Validation Accuracy: 0.507400\n",
      "Epoch 24, CIFAR-10 Batch 1:  Loss:     0.6209  Validation Accuracy: 0.512800\n",
      "Epoch 25, CIFAR-10 Batch 1:  Loss:     0.5720  Validation Accuracy: 0.509800\n",
      "Epoch 26, CIFAR-10 Batch 1:  Loss:     0.5408  Validation Accuracy: 0.512000\n",
      "Epoch 27, CIFAR-10 Batch 1:  Loss:     0.5593  Validation Accuracy: 0.519400\n",
      "Epoch 28, CIFAR-10 Batch 1:  Loss:     0.5633  Validation Accuracy: 0.519600\n",
      "Epoch 29, CIFAR-10 Batch 1:  Loss:     0.4658  Validation Accuracy: 0.519200\n",
      "Epoch 30, CIFAR-10 Batch 1:  Loss:     0.4273  Validation Accuracy: 0.507000\n",
      "Epoch 31, CIFAR-10 Batch 1:  Loss:     0.4541  Validation Accuracy: 0.503600\n",
      "Epoch 32, CIFAR-10 Batch 1:  Loss:     0.3933  Validation Accuracy: 0.521400\n",
      "Epoch 33, CIFAR-10 Batch 1:  Loss:     0.3645  Validation Accuracy: 0.520000\n",
      "Epoch 34, CIFAR-10 Batch 1:  Loss:     0.3339  Validation Accuracy: 0.528000\n",
      "Epoch 35, CIFAR-10 Batch 1:  Loss:     0.3290  Validation Accuracy: 0.521200\n",
      "Epoch 36, CIFAR-10 Batch 1:  Loss:     0.3370  Validation Accuracy: 0.511000\n",
      "Epoch 37, CIFAR-10 Batch 1:  Loss:     0.2861  Validation Accuracy: 0.519400\n",
      "Epoch 38, CIFAR-10 Batch 1:  Loss:     0.2569  Validation Accuracy: 0.510000\n",
      "Epoch 39, CIFAR-10 Batch 1:  Loss:     0.3674  Validation Accuracy: 0.485600\n",
      "Epoch 40, CIFAR-10 Batch 1:  Loss:     0.2692  Validation Accuracy: 0.516000\n",
      "Epoch 41, CIFAR-10 Batch 1:  Loss:     0.3305  Validation Accuracy: 0.495200\n",
      "Epoch 42, CIFAR-10 Batch 1:  Loss:     0.2337  Validation Accuracy: 0.518000\n",
      "Epoch 43, CIFAR-10 Batch 1:  Loss:     0.2288  Validation Accuracy: 0.519000\n",
      "Epoch 44, CIFAR-10 Batch 1:  Loss:     0.2869  Validation Accuracy: 0.510600\n",
      "Epoch 45, CIFAR-10 Batch 1:  Loss:     0.2418  Validation Accuracy: 0.513400\n",
      "Epoch 46, CIFAR-10 Batch 1:  Loss:     0.2089  Validation Accuracy: 0.511600\n",
      "Epoch 47, CIFAR-10 Batch 1:  Loss:     0.1940  Validation Accuracy: 0.507600\n",
      "Epoch 48, CIFAR-10 Batch 1:  Loss:     0.1731  Validation Accuracy: 0.517400\n",
      "Epoch 49, CIFAR-10 Batch 1:  Loss:     0.1810  Validation Accuracy: 0.516800\n",
      "Epoch 50, CIFAR-10 Batch 1:  Loss:     0.1175  Validation Accuracy: 0.515600\n",
      "Epoch 51, CIFAR-10 Batch 1:  Loss:     0.1118  Validation Accuracy: 0.526800\n",
      "Epoch 52, CIFAR-10 Batch 1:  Loss:     0.1244  Validation Accuracy: 0.518000\n",
      "Epoch 53, CIFAR-10 Batch 1:  Loss:     0.2211  Validation Accuracy: 0.495200\n",
      "Epoch 54, CIFAR-10 Batch 1:  Loss:     0.1409  Validation Accuracy: 0.510600\n",
      "Epoch 55, CIFAR-10 Batch 1:  Loss:     0.1006  Validation Accuracy: 0.512200\n",
      "Epoch 56, CIFAR-10 Batch 1:  Loss:     0.1188  Validation Accuracy: 0.524400\n",
      "Epoch 57, CIFAR-10 Batch 1:  Loss:     0.1293  Validation Accuracy: 0.503200\n",
      "Epoch 58, CIFAR-10 Batch 1:  Loss:     0.1595  Validation Accuracy: 0.483400\n",
      "Epoch 59, CIFAR-10 Batch 1:  Loss:     0.2077  Validation Accuracy: 0.478800\n",
      "Epoch 60, CIFAR-10 Batch 1:  Loss:     0.1157  Validation Accuracy: 0.513600\n",
      "Epoch 61, CIFAR-10 Batch 1:  Loss:     0.1401  Validation Accuracy: 0.496600\n",
      "Epoch 62, CIFAR-10 Batch 1:  Loss:     0.1080  Validation Accuracy: 0.499200\n",
      "Epoch 63, CIFAR-10 Batch 1:  Loss:     0.1235  Validation Accuracy: 0.502200\n",
      "Epoch 64, CIFAR-10 Batch 1:  Loss:     0.1012  Validation Accuracy: 0.522400\n",
      "Epoch 65, CIFAR-10 Batch 1:  Loss:     0.1116  Validation Accuracy: 0.517400\n",
      "Epoch 66, CIFAR-10 Batch 1:  Loss:     0.0634  Validation Accuracy: 0.525400\n",
      "Epoch 67, CIFAR-10 Batch 1:  Loss:     0.0420  Validation Accuracy: 0.530000\n",
      "Epoch 68, CIFAR-10 Batch 1:  Loss:     0.0337  Validation Accuracy: 0.519200\n",
      "Epoch 69, CIFAR-10 Batch 1:  Loss:     0.0412  Validation Accuracy: 0.527600\n",
      "Epoch 70, CIFAR-10 Batch 1:  Loss:     0.0461  Validation Accuracy: 0.519400\n",
      "Epoch 71, CIFAR-10 Batch 1:  Loss:     0.0476  Validation Accuracy: 0.520800\n",
      "Epoch 72, CIFAR-10 Batch 1:  Loss:     0.1330  Validation Accuracy: 0.487000\n",
      "Epoch 73, CIFAR-10 Batch 1:  Loss:     0.0841  Validation Accuracy: 0.494800\n",
      "Epoch 74, CIFAR-10 Batch 1:  Loss:     0.0552  Validation Accuracy: 0.514400\n",
      "Epoch 75, CIFAR-10 Batch 1:  Loss:     0.0700  Validation Accuracy: 0.510400\n"
     ]
    }
   ],
   "source": [
    "\"\"\"\n",
    "DON'T MODIFY ANYTHING IN THIS CELL\n",
    "\"\"\"\n",
    "print('Checking the Training on a Single Batch...')\n",
    "with tf.Session() as sess:\n",
    "    # Initializing the variables\n",
    "    sess.run(tf.global_variables_initializer())\n",
    "    \n",
    "    # Training cycle\n",
    "    for epoch in range(epochs):\n",
    "        batch_i = 1\n",
    "        for batch_features, batch_labels in helper.load_preprocess_training_batch(batch_i, batch_size):\n",
    "            train_neural_network(sess, optimizer, keep_probability, batch_features, batch_labels)\n",
    "        print('Epoch {:>2}, CIFAR-10 Batch {}:  '.format(epoch + 1, batch_i), end='')\n",
    "        print_stats(sess, batch_features, batch_labels, cost, accuracy)"
   ]
  },
  {
   "cell_type": "markdown",
   "metadata": {
    "deletable": true,
    "editable": true
   },
   "source": [
    "### Fully Train the Model\n",
    "Now that you got a good accuracy with a single CIFAR-10 batch, try it with all five batches."
   ]
  },
  {
   "cell_type": "code",
   "execution_count": 17,
   "metadata": {
    "collapsed": false,
    "deletable": true,
    "editable": true
   },
   "outputs": [
    {
     "name": "stdout",
     "output_type": "stream",
     "text": [
      "Training...\n",
      "Epoch  1, CIFAR-10 Batch 1:  Loss:     2.0994  Validation Accuracy: 0.227200\n",
      "Epoch  1, CIFAR-10 Batch 2:  Loss:     1.9100  Validation Accuracy: 0.278200\n",
      "Epoch  1, CIFAR-10 Batch 3:  Loss:     1.7639  Validation Accuracy: 0.317200\n",
      "Epoch  1, CIFAR-10 Batch 4:  Loss:     1.6788  Validation Accuracy: 0.369800\n",
      "Epoch  1, CIFAR-10 Batch 5:  Loss:     1.7004  Validation Accuracy: 0.382400\n",
      "Epoch  2, CIFAR-10 Batch 1:  Loss:     1.7318  Validation Accuracy: 0.384800\n",
      "Epoch  2, CIFAR-10 Batch 2:  Loss:     1.5919  Validation Accuracy: 0.426200\n",
      "Epoch  2, CIFAR-10 Batch 3:  Loss:     1.3931  Validation Accuracy: 0.432600\n",
      "Epoch  2, CIFAR-10 Batch 4:  Loss:     1.3959  Validation Accuracy: 0.439600\n",
      "Epoch  2, CIFAR-10 Batch 5:  Loss:     1.4988  Validation Accuracy: 0.440200\n",
      "Epoch  3, CIFAR-10 Batch 1:  Loss:     1.5102  Validation Accuracy: 0.452600\n",
      "Epoch  3, CIFAR-10 Batch 2:  Loss:     1.4018  Validation Accuracy: 0.479200\n",
      "Epoch  3, CIFAR-10 Batch 3:  Loss:     1.2646  Validation Accuracy: 0.475400\n",
      "Epoch  3, CIFAR-10 Batch 4:  Loss:     1.2517  Validation Accuracy: 0.492400\n",
      "Epoch  3, CIFAR-10 Batch 5:  Loss:     1.3372  Validation Accuracy: 0.485600\n",
      "Epoch  4, CIFAR-10 Batch 1:  Loss:     1.3647  Validation Accuracy: 0.491400\n",
      "Epoch  4, CIFAR-10 Batch 2:  Loss:     1.2945  Validation Accuracy: 0.508400\n",
      "Epoch  4, CIFAR-10 Batch 3:  Loss:     1.1514  Validation Accuracy: 0.501200\n",
      "Epoch  4, CIFAR-10 Batch 4:  Loss:     1.1459  Validation Accuracy: 0.521400\n",
      "Epoch  4, CIFAR-10 Batch 5:  Loss:     1.2195  Validation Accuracy: 0.524800\n",
      "Epoch  5, CIFAR-10 Batch 1:  Loss:     1.2555  Validation Accuracy: 0.535000\n",
      "Epoch  5, CIFAR-10 Batch 2:  Loss:     1.2138  Validation Accuracy: 0.535200\n",
      "Epoch  5, CIFAR-10 Batch 3:  Loss:     1.0448  Validation Accuracy: 0.538800\n",
      "Epoch  5, CIFAR-10 Batch 4:  Loss:     1.0567  Validation Accuracy: 0.543000\n",
      "Epoch  5, CIFAR-10 Batch 5:  Loss:     1.1352  Validation Accuracy: 0.543000\n",
      "Epoch  6, CIFAR-10 Batch 1:  Loss:     1.1716  Validation Accuracy: 0.540600\n",
      "Epoch  6, CIFAR-10 Batch 2:  Loss:     1.1247  Validation Accuracy: 0.538600\n",
      "Epoch  6, CIFAR-10 Batch 3:  Loss:     1.0225  Validation Accuracy: 0.538800\n",
      "Epoch  6, CIFAR-10 Batch 4:  Loss:     0.9423  Validation Accuracy: 0.568000\n",
      "Epoch  6, CIFAR-10 Batch 5:  Loss:     1.0839  Validation Accuracy: 0.552600\n",
      "Epoch  7, CIFAR-10 Batch 1:  Loss:     1.0994  Validation Accuracy: 0.555000\n",
      "Epoch  7, CIFAR-10 Batch 2:  Loss:     1.0628  Validation Accuracy: 0.546800\n",
      "Epoch  7, CIFAR-10 Batch 3:  Loss:     0.9348  Validation Accuracy: 0.557800\n",
      "Epoch  7, CIFAR-10 Batch 4:  Loss:     0.8776  Validation Accuracy: 0.576400\n",
      "Epoch  7, CIFAR-10 Batch 5:  Loss:     0.9660  Validation Accuracy: 0.580400\n",
      "Epoch  8, CIFAR-10 Batch 1:  Loss:     1.0425  Validation Accuracy: 0.572400\n",
      "Epoch  8, CIFAR-10 Batch 2:  Loss:     0.9811  Validation Accuracy: 0.564000\n",
      "Epoch  8, CIFAR-10 Batch 3:  Loss:     0.8834  Validation Accuracy: 0.572400\n",
      "Epoch  8, CIFAR-10 Batch 4:  Loss:     0.8080  Validation Accuracy: 0.583800\n",
      "Epoch  8, CIFAR-10 Batch 5:  Loss:     0.9493  Validation Accuracy: 0.580400\n",
      "Epoch  9, CIFAR-10 Batch 1:  Loss:     1.0014  Validation Accuracy: 0.590000\n",
      "Epoch  9, CIFAR-10 Batch 2:  Loss:     0.9272  Validation Accuracy: 0.575000\n",
      "Epoch  9, CIFAR-10 Batch 3:  Loss:     0.8389  Validation Accuracy: 0.581800\n",
      "Epoch  9, CIFAR-10 Batch 4:  Loss:     0.7860  Validation Accuracy: 0.592400\n",
      "Epoch  9, CIFAR-10 Batch 5:  Loss:     0.8803  Validation Accuracy: 0.591000\n",
      "Epoch 10, CIFAR-10 Batch 1:  Loss:     0.9285  Validation Accuracy: 0.594200\n",
      "Epoch 10, CIFAR-10 Batch 2:  Loss:     0.9134  Validation Accuracy: 0.574000\n",
      "Epoch 10, CIFAR-10 Batch 3:  Loss:     0.8081  Validation Accuracy: 0.574200\n",
      "Epoch 10, CIFAR-10 Batch 4:  Loss:     0.7522  Validation Accuracy: 0.598800\n",
      "Epoch 10, CIFAR-10 Batch 5:  Loss:     0.8230  Validation Accuracy: 0.611000\n",
      "Epoch 11, CIFAR-10 Batch 1:  Loss:     0.8683  Validation Accuracy: 0.599400\n",
      "Epoch 11, CIFAR-10 Batch 2:  Loss:     0.8441  Validation Accuracy: 0.597600\n",
      "Epoch 11, CIFAR-10 Batch 3:  Loss:     0.8313  Validation Accuracy: 0.552600\n",
      "Epoch 11, CIFAR-10 Batch 4:  Loss:     0.7033  Validation Accuracy: 0.607600\n",
      "Epoch 11, CIFAR-10 Batch 5:  Loss:     0.8003  Validation Accuracy: 0.615000\n",
      "Epoch 12, CIFAR-10 Batch 1:  Loss:     0.8542  Validation Accuracy: 0.604400\n",
      "Epoch 12, CIFAR-10 Batch 2:  Loss:     0.8150  Validation Accuracy: 0.602200\n",
      "Epoch 12, CIFAR-10 Batch 3:  Loss:     0.7594  Validation Accuracy: 0.596400\n",
      "Epoch 12, CIFAR-10 Batch 4:  Loss:     0.6975  Validation Accuracy: 0.596400\n",
      "Epoch 12, CIFAR-10 Batch 5:  Loss:     0.7583  Validation Accuracy: 0.614800\n",
      "Epoch 13, CIFAR-10 Batch 1:  Loss:     0.8070  Validation Accuracy: 0.613200\n",
      "Epoch 13, CIFAR-10 Batch 2:  Loss:     0.8183  Validation Accuracy: 0.586600\n",
      "Epoch 13, CIFAR-10 Batch 3:  Loss:     0.7737  Validation Accuracy: 0.596800\n",
      "Epoch 13, CIFAR-10 Batch 4:  Loss:     0.6626  Validation Accuracy: 0.601400\n",
      "Epoch 13, CIFAR-10 Batch 5:  Loss:     0.7185  Validation Accuracy: 0.615800\n",
      "Epoch 14, CIFAR-10 Batch 1:  Loss:     0.8127  Validation Accuracy: 0.595000\n",
      "Epoch 14, CIFAR-10 Batch 2:  Loss:     0.7712  Validation Accuracy: 0.592000\n",
      "Epoch 14, CIFAR-10 Batch 3:  Loss:     0.7104  Validation Accuracy: 0.610200\n",
      "Epoch 14, CIFAR-10 Batch 4:  Loss:     0.6110  Validation Accuracy: 0.611000\n",
      "Epoch 14, CIFAR-10 Batch 5:  Loss:     0.7006  Validation Accuracy: 0.619800\n",
      "Epoch 15, CIFAR-10 Batch 1:  Loss:     0.8106  Validation Accuracy: 0.601400\n",
      "Epoch 15, CIFAR-10 Batch 2:  Loss:     0.7040  Validation Accuracy: 0.602200\n",
      "Epoch 15, CIFAR-10 Batch 3:  Loss:     0.6712  Validation Accuracy: 0.605800\n",
      "Epoch 15, CIFAR-10 Batch 4:  Loss:     0.5933  Validation Accuracy: 0.612000\n",
      "Epoch 15, CIFAR-10 Batch 5:  Loss:     0.6586  Validation Accuracy: 0.613800\n",
      "Epoch 16, CIFAR-10 Batch 1:  Loss:     0.7197  Validation Accuracy: 0.609000\n",
      "Epoch 16, CIFAR-10 Batch 2:  Loss:     0.6735  Validation Accuracy: 0.620200\n",
      "Epoch 16, CIFAR-10 Batch 3:  Loss:     0.6004  Validation Accuracy: 0.620800\n",
      "Epoch 16, CIFAR-10 Batch 4:  Loss:     0.5801  Validation Accuracy: 0.614200\n",
      "Epoch 16, CIFAR-10 Batch 5:  Loss:     0.6361  Validation Accuracy: 0.620800\n",
      "Epoch 17, CIFAR-10 Batch 1:  Loss:     0.6967  Validation Accuracy: 0.619600\n",
      "Epoch 17, CIFAR-10 Batch 2:  Loss:     0.6646  Validation Accuracy: 0.629200\n",
      "Epoch 17, CIFAR-10 Batch 3:  Loss:     0.6025  Validation Accuracy: 0.624200\n",
      "Epoch 17, CIFAR-10 Batch 4:  Loss:     0.5663  Validation Accuracy: 0.614600\n",
      "Epoch 17, CIFAR-10 Batch 5:  Loss:     0.5985  Validation Accuracy: 0.622800\n",
      "Epoch 18, CIFAR-10 Batch 1:  Loss:     0.6783  Validation Accuracy: 0.615000\n",
      "Epoch 18, CIFAR-10 Batch 2:  Loss:     0.6449  Validation Accuracy: 0.629000\n",
      "Epoch 18, CIFAR-10 Batch 3:  Loss:     0.5341  Validation Accuracy: 0.641800\n",
      "Epoch 18, CIFAR-10 Batch 4:  Loss:     0.5247  Validation Accuracy: 0.622800\n",
      "Epoch 18, CIFAR-10 Batch 5:  Loss:     0.5557  Validation Accuracy: 0.636400\n",
      "Epoch 19, CIFAR-10 Batch 1:  Loss:     0.6959  Validation Accuracy: 0.594600\n",
      "Epoch 19, CIFAR-10 Batch 2:  Loss:     0.5993  Validation Accuracy: 0.633400\n",
      "Epoch 19, CIFAR-10 Batch 3:  Loss:     0.5184  Validation Accuracy: 0.636200\n",
      "Epoch 19, CIFAR-10 Batch 4:  Loss:     0.4843  Validation Accuracy: 0.622600\n",
      "Epoch 19, CIFAR-10 Batch 5:  Loss:     0.5187  Validation Accuracy: 0.637200\n",
      "Epoch 20, CIFAR-10 Batch 1:  Loss:     0.5831  Validation Accuracy: 0.634400\n",
      "Epoch 20, CIFAR-10 Batch 2:  Loss:     0.5612  Validation Accuracy: 0.632400\n",
      "Epoch 20, CIFAR-10 Batch 3:  Loss:     0.5197  Validation Accuracy: 0.629600\n",
      "Epoch 20, CIFAR-10 Batch 4:  Loss:     0.4910  Validation Accuracy: 0.620800\n",
      "Epoch 20, CIFAR-10 Batch 5:  Loss:     0.5332  Validation Accuracy: 0.627800\n",
      "Epoch 21, CIFAR-10 Batch 1:  Loss:     0.5828  Validation Accuracy: 0.625200\n",
      "Epoch 21, CIFAR-10 Batch 2:  Loss:     0.5679  Validation Accuracy: 0.631000\n",
      "Epoch 21, CIFAR-10 Batch 3:  Loss:     0.4536  Validation Accuracy: 0.642800\n",
      "Epoch 21, CIFAR-10 Batch 4:  Loss:     0.4647  Validation Accuracy: 0.631000\n",
      "Epoch 21, CIFAR-10 Batch 5:  Loss:     0.4683  Validation Accuracy: 0.648400\n",
      "Epoch 22, CIFAR-10 Batch 1:  Loss:     0.5603  Validation Accuracy: 0.624000\n",
      "Epoch 22, CIFAR-10 Batch 2:  Loss:     0.5513  Validation Accuracy: 0.625800\n",
      "Epoch 22, CIFAR-10 Batch 3:  Loss:     0.4569  Validation Accuracy: 0.640600\n",
      "Epoch 22, CIFAR-10 Batch 4:  Loss:     0.4477  Validation Accuracy: 0.625200\n",
      "Epoch 22, CIFAR-10 Batch 5:  Loss:     0.4619  Validation Accuracy: 0.634200\n",
      "Epoch 23, CIFAR-10 Batch 1:  Loss:     0.5429  Validation Accuracy: 0.616800\n",
      "Epoch 23, CIFAR-10 Batch 2:  Loss:     0.5382  Validation Accuracy: 0.609400\n",
      "Epoch 23, CIFAR-10 Batch 3:  Loss:     0.4507  Validation Accuracy: 0.632800\n",
      "Epoch 23, CIFAR-10 Batch 4:  Loss:     0.4418  Validation Accuracy: 0.626000\n",
      "Epoch 23, CIFAR-10 Batch 5:  Loss:     0.4383  Validation Accuracy: 0.643600\n",
      "Epoch 24, CIFAR-10 Batch 1:  Loss:     0.5588  Validation Accuracy: 0.611000\n",
      "Epoch 24, CIFAR-10 Batch 2:  Loss:     0.5345  Validation Accuracy: 0.606000\n",
      "Epoch 24, CIFAR-10 Batch 3:  Loss:     0.4894  Validation Accuracy: 0.625800\n",
      "Epoch 24, CIFAR-10 Batch 4:  Loss:     0.4545  Validation Accuracy: 0.607800\n",
      "Epoch 24, CIFAR-10 Batch 5:  Loss:     0.4206  Validation Accuracy: 0.650800\n",
      "Epoch 25, CIFAR-10 Batch 1:  Loss:     0.5384  Validation Accuracy: 0.614800\n",
      "Epoch 25, CIFAR-10 Batch 2:  Loss:     0.5466  Validation Accuracy: 0.599400\n",
      "Epoch 25, CIFAR-10 Batch 3:  Loss:     0.4669  Validation Accuracy: 0.632000\n",
      "Epoch 25, CIFAR-10 Batch 4:  Loss:     0.3839  Validation Accuracy: 0.637000\n",
      "Epoch 25, CIFAR-10 Batch 5:  Loss:     0.5293  Validation Accuracy: 0.623600\n",
      "Epoch 26, CIFAR-10 Batch 1:  Loss:     0.4410  Validation Accuracy: 0.628200\n",
      "Epoch 26, CIFAR-10 Batch 2:  Loss:     0.4742  Validation Accuracy: 0.624800\n",
      "Epoch 26, CIFAR-10 Batch 3:  Loss:     0.4952  Validation Accuracy: 0.608000\n",
      "Epoch 26, CIFAR-10 Batch 4:  Loss:     0.3915  Validation Accuracy: 0.639800\n",
      "Epoch 26, CIFAR-10 Batch 5:  Loss:     0.4842  Validation Accuracy: 0.632400\n",
      "Epoch 27, CIFAR-10 Batch 1:  Loss:     0.4463  Validation Accuracy: 0.623200\n",
      "Epoch 27, CIFAR-10 Batch 2:  Loss:     0.4687  Validation Accuracy: 0.635400\n",
      "Epoch 27, CIFAR-10 Batch 3:  Loss:     0.4158  Validation Accuracy: 0.628200\n",
      "Epoch 27, CIFAR-10 Batch 4:  Loss:     0.3996  Validation Accuracy: 0.639200\n",
      "Epoch 27, CIFAR-10 Batch 5:  Loss:     0.4271  Validation Accuracy: 0.638600\n",
      "Epoch 28, CIFAR-10 Batch 1:  Loss:     0.4278  Validation Accuracy: 0.631400\n",
      "Epoch 28, CIFAR-10 Batch 2:  Loss:     0.4906  Validation Accuracy: 0.611400\n",
      "Epoch 28, CIFAR-10 Batch 3:  Loss:     0.3527  Validation Accuracy: 0.645800\n",
      "Epoch 28, CIFAR-10 Batch 4:  Loss:     0.3541  Validation Accuracy: 0.640200\n",
      "Epoch 28, CIFAR-10 Batch 5:  Loss:     0.3802  Validation Accuracy: 0.644600\n",
      "Epoch 29, CIFAR-10 Batch 1:  Loss:     0.4343  Validation Accuracy: 0.619000\n",
      "Epoch 29, CIFAR-10 Batch 2:  Loss:     0.5581  Validation Accuracy: 0.580400\n",
      "Epoch 29, CIFAR-10 Batch 3:  Loss:     0.4209  Validation Accuracy: 0.628600\n",
      "Epoch 29, CIFAR-10 Batch 4:  Loss:     0.3414  Validation Accuracy: 0.642600\n",
      "Epoch 29, CIFAR-10 Batch 5:  Loss:     0.4016  Validation Accuracy: 0.636800\n",
      "Epoch 30, CIFAR-10 Batch 1:  Loss:     0.4373  Validation Accuracy: 0.627600\n",
      "Epoch 30, CIFAR-10 Batch 2:  Loss:     0.5832  Validation Accuracy: 0.601200\n",
      "Epoch 30, CIFAR-10 Batch 3:  Loss:     0.3746  Validation Accuracy: 0.646800\n",
      "Epoch 30, CIFAR-10 Batch 4:  Loss:     0.3411  Validation Accuracy: 0.640800\n",
      "Epoch 30, CIFAR-10 Batch 5:  Loss:     0.3520  Validation Accuracy: 0.653400\n",
      "Epoch 31, CIFAR-10 Batch 1:  Loss:     0.4976  Validation Accuracy: 0.607800\n",
      "Epoch 31, CIFAR-10 Batch 2:  Loss:     0.4861  Validation Accuracy: 0.625600\n",
      "Epoch 31, CIFAR-10 Batch 3:  Loss:     0.3623  Validation Accuracy: 0.646600\n",
      "Epoch 31, CIFAR-10 Batch 4:  Loss:     0.3273  Validation Accuracy: 0.641600\n",
      "Epoch 31, CIFAR-10 Batch 5:  Loss:     0.3228  Validation Accuracy: 0.643800\n",
      "Epoch 32, CIFAR-10 Batch 1:  Loss:     0.4484  Validation Accuracy: 0.615400\n",
      "Epoch 32, CIFAR-10 Batch 2:  Loss:     0.4482  Validation Accuracy: 0.634400\n",
      "Epoch 32, CIFAR-10 Batch 3:  Loss:     0.3538  Validation Accuracy: 0.644200\n",
      "Epoch 32, CIFAR-10 Batch 4:  Loss:     0.3265  Validation Accuracy: 0.637600\n",
      "Epoch 32, CIFAR-10 Batch 5:  Loss:     0.3412  Validation Accuracy: 0.620600\n",
      "Epoch 33, CIFAR-10 Batch 1:  Loss:     0.3729  Validation Accuracy: 0.624400\n",
      "Epoch 33, CIFAR-10 Batch 2:  Loss:     0.4356  Validation Accuracy: 0.635400\n",
      "Epoch 33, CIFAR-10 Batch 3:  Loss:     0.3645  Validation Accuracy: 0.636800\n",
      "Epoch 33, CIFAR-10 Batch 4:  Loss:     0.3362  Validation Accuracy: 0.625600\n",
      "Epoch 33, CIFAR-10 Batch 5:  Loss:     0.2986  Validation Accuracy: 0.630800\n",
      "Epoch 34, CIFAR-10 Batch 1:  Loss:     0.3461  Validation Accuracy: 0.639000\n",
      "Epoch 34, CIFAR-10 Batch 2:  Loss:     0.3688  Validation Accuracy: 0.650000\n",
      "Epoch 34, CIFAR-10 Batch 3:  Loss:     0.3130  Validation Accuracy: 0.639200\n",
      "Epoch 34, CIFAR-10 Batch 4:  Loss:     0.3046  Validation Accuracy: 0.625600\n",
      "Epoch 34, CIFAR-10 Batch 5:  Loss:     0.2689  Validation Accuracy: 0.625000\n",
      "Epoch 35, CIFAR-10 Batch 1:  Loss:     0.3515  Validation Accuracy: 0.635400\n",
      "Epoch 35, CIFAR-10 Batch 2:  Loss:     0.3466  Validation Accuracy: 0.642600\n",
      "Epoch 35, CIFAR-10 Batch 3:  Loss:     0.3018  Validation Accuracy: 0.633800\n",
      "Epoch 35, CIFAR-10 Batch 4:  Loss:     0.2821  Validation Accuracy: 0.627800\n",
      "Epoch 35, CIFAR-10 Batch 5:  Loss:     0.2988  Validation Accuracy: 0.599000\n",
      "Epoch 36, CIFAR-10 Batch 1:  Loss:     0.3855  Validation Accuracy: 0.628000\n",
      "Epoch 36, CIFAR-10 Batch 2:  Loss:     0.4046  Validation Accuracy: 0.631600\n",
      "Epoch 36, CIFAR-10 Batch 3:  Loss:     0.2773  Validation Accuracy: 0.636000\n",
      "Epoch 36, CIFAR-10 Batch 4:  Loss:     0.2917  Validation Accuracy: 0.616600\n",
      "Epoch 36, CIFAR-10 Batch 5:  Loss:     0.2863  Validation Accuracy: 0.613000\n",
      "Epoch 37, CIFAR-10 Batch 1:  Loss:     0.3474  Validation Accuracy: 0.647200\n",
      "Epoch 37, CIFAR-10 Batch 2:  Loss:     0.3197  Validation Accuracy: 0.646800\n",
      "Epoch 37, CIFAR-10 Batch 3:  Loss:     0.2330  Validation Accuracy: 0.647400\n",
      "Epoch 37, CIFAR-10 Batch 4:  Loss:     0.2621  Validation Accuracy: 0.625200\n",
      "Epoch 37, CIFAR-10 Batch 5:  Loss:     0.2798  Validation Accuracy: 0.622200\n",
      "Epoch 38, CIFAR-10 Batch 1:  Loss:     0.3836  Validation Accuracy: 0.637000\n",
      "Epoch 38, CIFAR-10 Batch 2:  Loss:     0.3180  Validation Accuracy: 0.647800\n",
      "Epoch 38, CIFAR-10 Batch 3:  Loss:     0.2146  Validation Accuracy: 0.648400\n",
      "Epoch 38, CIFAR-10 Batch 4:  Loss:     0.2548  Validation Accuracy: 0.632400\n",
      "Epoch 38, CIFAR-10 Batch 5:  Loss:     0.2614  Validation Accuracy: 0.637800\n",
      "Epoch 39, CIFAR-10 Batch 1:  Loss:     0.3401  Validation Accuracy: 0.648000\n",
      "Epoch 39, CIFAR-10 Batch 2:  Loss:     0.2935  Validation Accuracy: 0.640800\n",
      "Epoch 39, CIFAR-10 Batch 3:  Loss:     0.2027  Validation Accuracy: 0.643600\n",
      "Epoch 39, CIFAR-10 Batch 4:  Loss:     0.2348  Validation Accuracy: 0.640600\n",
      "Epoch 39, CIFAR-10 Batch 5:  Loss:     0.2692  Validation Accuracy: 0.643200\n",
      "Epoch 40, CIFAR-10 Batch 1:  Loss:     0.2674  Validation Accuracy: 0.654000\n",
      "Epoch 40, CIFAR-10 Batch 2:  Loss:     0.2648  Validation Accuracy: 0.638800\n",
      "Epoch 40, CIFAR-10 Batch 3:  Loss:     0.2171  Validation Accuracy: 0.635200\n",
      "Epoch 40, CIFAR-10 Batch 4:  Loss:     0.2454  Validation Accuracy: 0.626400\n",
      "Epoch 40, CIFAR-10 Batch 5:  Loss:     0.2537  Validation Accuracy: 0.624600\n",
      "Epoch 41, CIFAR-10 Batch 1:  Loss:     0.2459  Validation Accuracy: 0.652000\n",
      "Epoch 41, CIFAR-10 Batch 2:  Loss:     0.2553  Validation Accuracy: 0.636400\n",
      "Epoch 41, CIFAR-10 Batch 3:  Loss:     0.2398  Validation Accuracy: 0.640400\n",
      "Epoch 41, CIFAR-10 Batch 4:  Loss:     0.2749  Validation Accuracy: 0.606200\n",
      "Epoch 41, CIFAR-10 Batch 5:  Loss:     0.2564  Validation Accuracy: 0.608200\n",
      "Epoch 42, CIFAR-10 Batch 1:  Loss:     0.2371  Validation Accuracy: 0.647400\n",
      "Epoch 42, CIFAR-10 Batch 2:  Loss:     0.2437  Validation Accuracy: 0.635200\n",
      "Epoch 42, CIFAR-10 Batch 3:  Loss:     0.2219  Validation Accuracy: 0.643400\n",
      "Epoch 42, CIFAR-10 Batch 4:  Loss:     0.2260  Validation Accuracy: 0.613800\n",
      "Epoch 42, CIFAR-10 Batch 5:  Loss:     0.2651  Validation Accuracy: 0.621800\n",
      "Epoch 43, CIFAR-10 Batch 1:  Loss:     0.2435  Validation Accuracy: 0.656000\n",
      "Epoch 43, CIFAR-10 Batch 2:  Loss:     0.2704  Validation Accuracy: 0.623400\n",
      "Epoch 43, CIFAR-10 Batch 3:  Loss:     0.2199  Validation Accuracy: 0.644600\n",
      "Epoch 43, CIFAR-10 Batch 4:  Loss:     0.2880  Validation Accuracy: 0.604400\n",
      "Epoch 43, CIFAR-10 Batch 5:  Loss:     0.2735  Validation Accuracy: 0.625200\n",
      "Epoch 44, CIFAR-10 Batch 1:  Loss:     0.2438  Validation Accuracy: 0.642600\n",
      "Epoch 44, CIFAR-10 Batch 2:  Loss:     0.2632  Validation Accuracy: 0.628800\n",
      "Epoch 44, CIFAR-10 Batch 3:  Loss:     0.1984  Validation Accuracy: 0.640600\n",
      "Epoch 44, CIFAR-10 Batch 4:  Loss:     0.2410  Validation Accuracy: 0.616800\n",
      "Epoch 44, CIFAR-10 Batch 5:  Loss:     0.3104  Validation Accuracy: 0.609000\n",
      "Epoch 45, CIFAR-10 Batch 1:  Loss:     0.2229  Validation Accuracy: 0.650800\n",
      "Epoch 45, CIFAR-10 Batch 2:  Loss:     0.2132  Validation Accuracy: 0.637400\n",
      "Epoch 45, CIFAR-10 Batch 3:  Loss:     0.2512  Validation Accuracy: 0.620800\n",
      "Epoch 45, CIFAR-10 Batch 4:  Loss:     0.1941  Validation Accuracy: 0.639800\n",
      "Epoch 45, CIFAR-10 Batch 5:  Loss:     0.2014  Validation Accuracy: 0.636600\n",
      "Epoch 46, CIFAR-10 Batch 1:  Loss:     0.2203  Validation Accuracy: 0.637800\n",
      "Epoch 46, CIFAR-10 Batch 2:  Loss:     0.1959  Validation Accuracy: 0.647800\n",
      "Epoch 46, CIFAR-10 Batch 3:  Loss:     0.1892  Validation Accuracy: 0.635000\n",
      "Epoch 46, CIFAR-10 Batch 4:  Loss:     0.2340  Validation Accuracy: 0.608200\n",
      "Epoch 46, CIFAR-10 Batch 5:  Loss:     0.2024  Validation Accuracy: 0.635000\n",
      "Epoch 47, CIFAR-10 Batch 1:  Loss:     0.2074  Validation Accuracy: 0.634400\n",
      "Epoch 47, CIFAR-10 Batch 2:  Loss:     0.1738  Validation Accuracy: 0.652200\n",
      "Epoch 47, CIFAR-10 Batch 3:  Loss:     0.1775  Validation Accuracy: 0.641000\n",
      "Epoch 47, CIFAR-10 Batch 4:  Loss:     0.2055  Validation Accuracy: 0.610600\n",
      "Epoch 47, CIFAR-10 Batch 5:  Loss:     0.1980  Validation Accuracy: 0.632000\n",
      "Epoch 48, CIFAR-10 Batch 1:  Loss:     0.1749  Validation Accuracy: 0.641800\n",
      "Epoch 48, CIFAR-10 Batch 2:  Loss:     0.1847  Validation Accuracy: 0.630400\n",
      "Epoch 48, CIFAR-10 Batch 3:  Loss:     0.1439  Validation Accuracy: 0.652400\n",
      "Epoch 48, CIFAR-10 Batch 4:  Loss:     0.1737  Validation Accuracy: 0.615800\n",
      "Epoch 48, CIFAR-10 Batch 5:  Loss:     0.1913  Validation Accuracy: 0.621200\n",
      "Epoch 49, CIFAR-10 Batch 1:  Loss:     0.1638  Validation Accuracy: 0.648800\n",
      "Epoch 49, CIFAR-10 Batch 2:  Loss:     0.1780  Validation Accuracy: 0.633000\n",
      "Epoch 49, CIFAR-10 Batch 3:  Loss:     0.1294  Validation Accuracy: 0.640800\n",
      "Epoch 49, CIFAR-10 Batch 4:  Loss:     0.2048  Validation Accuracy: 0.603000\n",
      "Epoch 49, CIFAR-10 Batch 5:  Loss:     0.2055  Validation Accuracy: 0.616400\n",
      "Epoch 50, CIFAR-10 Batch 1:  Loss:     0.2124  Validation Accuracy: 0.634400\n",
      "Epoch 50, CIFAR-10 Batch 2:  Loss:     0.1760  Validation Accuracy: 0.633400\n",
      "Epoch 50, CIFAR-10 Batch 3:  Loss:     0.1567  Validation Accuracy: 0.627600\n",
      "Epoch 50, CIFAR-10 Batch 4:  Loss:     0.2196  Validation Accuracy: 0.588600\n",
      "Epoch 50, CIFAR-10 Batch 5:  Loss:     0.2282  Validation Accuracy: 0.618400\n",
      "Epoch 51, CIFAR-10 Batch 1:  Loss:     0.2162  Validation Accuracy: 0.641200\n",
      "Epoch 51, CIFAR-10 Batch 2:  Loss:     0.1919  Validation Accuracy: 0.620800\n",
      "Epoch 51, CIFAR-10 Batch 3:  Loss:     0.1712  Validation Accuracy: 0.619400\n",
      "Epoch 51, CIFAR-10 Batch 4:  Loss:     0.2171  Validation Accuracy: 0.602600\n",
      "Epoch 51, CIFAR-10 Batch 5:  Loss:     0.3188  Validation Accuracy: 0.613400\n",
      "Epoch 52, CIFAR-10 Batch 1:  Loss:     0.2047  Validation Accuracy: 0.640200\n",
      "Epoch 52, CIFAR-10 Batch 2:  Loss:     0.1750  Validation Accuracy: 0.625000\n",
      "Epoch 52, CIFAR-10 Batch 3:  Loss:     0.1842  Validation Accuracy: 0.632800\n",
      "Epoch 52, CIFAR-10 Batch 4:  Loss:     0.1787  Validation Accuracy: 0.628400\n",
      "Epoch 52, CIFAR-10 Batch 5:  Loss:     0.1854  Validation Accuracy: 0.632000\n",
      "Epoch 53, CIFAR-10 Batch 1:  Loss:     0.1899  Validation Accuracy: 0.636200\n",
      "Epoch 53, CIFAR-10 Batch 2:  Loss:     0.1693  Validation Accuracy: 0.621400\n",
      "Epoch 53, CIFAR-10 Batch 3:  Loss:     0.1279  Validation Accuracy: 0.643000\n",
      "Epoch 53, CIFAR-10 Batch 4:  Loss:     0.1349  Validation Accuracy: 0.638400\n",
      "Epoch 53, CIFAR-10 Batch 5:  Loss:     0.1377  Validation Accuracy: 0.630400\n",
      "Epoch 54, CIFAR-10 Batch 1:  Loss:     0.1260  Validation Accuracy: 0.641400\n",
      "Epoch 54, CIFAR-10 Batch 2:  Loss:     0.1394  Validation Accuracy: 0.629800\n",
      "Epoch 54, CIFAR-10 Batch 3:  Loss:     0.1522  Validation Accuracy: 0.641400\n",
      "Epoch 54, CIFAR-10 Batch 4:  Loss:     0.1242  Validation Accuracy: 0.627200\n",
      "Epoch 54, CIFAR-10 Batch 5:  Loss:     0.1087  Validation Accuracy: 0.629400\n",
      "Epoch 55, CIFAR-10 Batch 1:  Loss:     0.1263  Validation Accuracy: 0.629400\n",
      "Epoch 55, CIFAR-10 Batch 2:  Loss:     0.1144  Validation Accuracy: 0.637400\n",
      "Epoch 55, CIFAR-10 Batch 3:  Loss:     0.1674  Validation Accuracy: 0.616600\n",
      "Epoch 55, CIFAR-10 Batch 4:  Loss:     0.1473  Validation Accuracy: 0.618600\n",
      "Epoch 55, CIFAR-10 Batch 5:  Loss:     0.1341  Validation Accuracy: 0.629600\n",
      "Epoch 56, CIFAR-10 Batch 1:  Loss:     0.1095  Validation Accuracy: 0.640600\n",
      "Epoch 56, CIFAR-10 Batch 2:  Loss:     0.1192  Validation Accuracy: 0.631200\n",
      "Epoch 56, CIFAR-10 Batch 3:  Loss:     0.1597  Validation Accuracy: 0.622200\n",
      "Epoch 56, CIFAR-10 Batch 4:  Loss:     0.1647  Validation Accuracy: 0.619200\n",
      "Epoch 56, CIFAR-10 Batch 5:  Loss:     0.1213  Validation Accuracy: 0.641800\n",
      "Epoch 57, CIFAR-10 Batch 1:  Loss:     0.1255  Validation Accuracy: 0.640400\n",
      "Epoch 57, CIFAR-10 Batch 2:  Loss:     0.0817  Validation Accuracy: 0.642200\n",
      "Epoch 57, CIFAR-10 Batch 3:  Loss:     0.1272  Validation Accuracy: 0.631200\n",
      "Epoch 57, CIFAR-10 Batch 4:  Loss:     0.1724  Validation Accuracy: 0.606000\n",
      "Epoch 57, CIFAR-10 Batch 5:  Loss:     0.1364  Validation Accuracy: 0.627600\n",
      "Epoch 58, CIFAR-10 Batch 1:  Loss:     0.1048  Validation Accuracy: 0.643400\n",
      "Epoch 58, CIFAR-10 Batch 2:  Loss:     0.1260  Validation Accuracy: 0.633800\n",
      "Epoch 58, CIFAR-10 Batch 3:  Loss:     0.1564  Validation Accuracy: 0.623200\n",
      "Epoch 58, CIFAR-10 Batch 4:  Loss:     0.1411  Validation Accuracy: 0.605000\n",
      "Epoch 58, CIFAR-10 Batch 5:  Loss:     0.1619  Validation Accuracy: 0.639000\n",
      "Epoch 59, CIFAR-10 Batch 1:  Loss:     0.0974  Validation Accuracy: 0.635800\n",
      "Epoch 59, CIFAR-10 Batch 2:  Loss:     0.1354  Validation Accuracy: 0.636600\n",
      "Epoch 59, CIFAR-10 Batch 3:  Loss:     0.1436  Validation Accuracy: 0.615600\n",
      "Epoch 59, CIFAR-10 Batch 4:  Loss:     0.0961  Validation Accuracy: 0.626400\n",
      "Epoch 59, CIFAR-10 Batch 5:  Loss:     0.1071  Validation Accuracy: 0.642600\n",
      "Epoch 60, CIFAR-10 Batch 1:  Loss:     0.0920  Validation Accuracy: 0.638400\n",
      "Epoch 60, CIFAR-10 Batch 2:  Loss:     0.1088  Validation Accuracy: 0.633800\n",
      "Epoch 60, CIFAR-10 Batch 3:  Loss:     0.1158  Validation Accuracy: 0.614600\n",
      "Epoch 60, CIFAR-10 Batch 4:  Loss:     0.1081  Validation Accuracy: 0.627600\n",
      "Epoch 60, CIFAR-10 Batch 5:  Loss:     0.1313  Validation Accuracy: 0.624000\n",
      "Epoch 61, CIFAR-10 Batch 1:  Loss:     0.0853  Validation Accuracy: 0.642200\n",
      "Epoch 61, CIFAR-10 Batch 2:  Loss:     0.0984  Validation Accuracy: 0.639600\n",
      "Epoch 61, CIFAR-10 Batch 3:  Loss:     0.1084  Validation Accuracy: 0.609200\n",
      "Epoch 61, CIFAR-10 Batch 4:  Loss:     0.1504  Validation Accuracy: 0.624800\n",
      "Epoch 61, CIFAR-10 Batch 5:  Loss:     0.1122  Validation Accuracy: 0.614600\n",
      "Epoch 62, CIFAR-10 Batch 1:  Loss:     0.0757  Validation Accuracy: 0.643200\n",
      "Epoch 62, CIFAR-10 Batch 2:  Loss:     0.0927  Validation Accuracy: 0.635000\n",
      "Epoch 62, CIFAR-10 Batch 3:  Loss:     0.1368  Validation Accuracy: 0.604200\n",
      "Epoch 62, CIFAR-10 Batch 4:  Loss:     0.1401  Validation Accuracy: 0.631800\n",
      "Epoch 62, CIFAR-10 Batch 5:  Loss:     0.0782  Validation Accuracy: 0.621800\n",
      "Epoch 63, CIFAR-10 Batch 1:  Loss:     0.0849  Validation Accuracy: 0.639200\n",
      "Epoch 63, CIFAR-10 Batch 2:  Loss:     0.0769  Validation Accuracy: 0.621800\n",
      "Epoch 63, CIFAR-10 Batch 3:  Loss:     0.0934  Validation Accuracy: 0.625600\n",
      "Epoch 63, CIFAR-10 Batch 4:  Loss:     0.1037  Validation Accuracy: 0.621200\n",
      "Epoch 63, CIFAR-10 Batch 5:  Loss:     0.0874  Validation Accuracy: 0.628400\n",
      "Epoch 64, CIFAR-10 Batch 1:  Loss:     0.0560  Validation Accuracy: 0.651800\n",
      "Epoch 64, CIFAR-10 Batch 2:  Loss:     0.0775  Validation Accuracy: 0.623600\n",
      "Epoch 64, CIFAR-10 Batch 3:  Loss:     0.0812  Validation Accuracy: 0.625400\n",
      "Epoch 64, CIFAR-10 Batch 4:  Loss:     0.1066  Validation Accuracy: 0.614800\n",
      "Epoch 64, CIFAR-10 Batch 5:  Loss:     0.0818  Validation Accuracy: 0.616600\n",
      "Epoch 65, CIFAR-10 Batch 1:  Loss:     0.0727  Validation Accuracy: 0.640800\n",
      "Epoch 65, CIFAR-10 Batch 2:  Loss:     0.1077  Validation Accuracy: 0.614600\n",
      "Epoch 65, CIFAR-10 Batch 3:  Loss:     0.0727  Validation Accuracy: 0.623600\n",
      "Epoch 65, CIFAR-10 Batch 4:  Loss:     0.0786  Validation Accuracy: 0.622200\n",
      "Epoch 65, CIFAR-10 Batch 5:  Loss:     0.0945  Validation Accuracy: 0.608400\n",
      "Epoch 66, CIFAR-10 Batch 1:  Loss:     0.1071  Validation Accuracy: 0.623400\n",
      "Epoch 66, CIFAR-10 Batch 2:  Loss:     0.1090  Validation Accuracy: 0.621800\n",
      "Epoch 66, CIFAR-10 Batch 3:  Loss:     0.0893  Validation Accuracy: 0.627000\n",
      "Epoch 66, CIFAR-10 Batch 4:  Loss:     0.0748  Validation Accuracy: 0.623600\n",
      "Epoch 66, CIFAR-10 Batch 5:  Loss:     0.0827  Validation Accuracy: 0.610400\n",
      "Epoch 67, CIFAR-10 Batch 1:  Loss:     0.0847  Validation Accuracy: 0.618600\n",
      "Epoch 67, CIFAR-10 Batch 2:  Loss:     0.0994  Validation Accuracy: 0.623000\n",
      "Epoch 67, CIFAR-10 Batch 3:  Loss:     0.0796  Validation Accuracy: 0.618400\n",
      "Epoch 67, CIFAR-10 Batch 4:  Loss:     0.0719  Validation Accuracy: 0.632800\n",
      "Epoch 67, CIFAR-10 Batch 5:  Loss:     0.0736  Validation Accuracy: 0.622600\n",
      "Epoch 68, CIFAR-10 Batch 1:  Loss:     0.0889  Validation Accuracy: 0.627200\n",
      "Epoch 68, CIFAR-10 Batch 2:  Loss:     0.1004  Validation Accuracy: 0.626400\n",
      "Epoch 68, CIFAR-10 Batch 3:  Loss:     0.0689  Validation Accuracy: 0.622600\n",
      "Epoch 68, CIFAR-10 Batch 4:  Loss:     0.0830  Validation Accuracy: 0.628600\n",
      "Epoch 68, CIFAR-10 Batch 5:  Loss:     0.0811  Validation Accuracy: 0.615800\n",
      "Epoch 69, CIFAR-10 Batch 1:  Loss:     0.0700  Validation Accuracy: 0.625800\n",
      "Epoch 69, CIFAR-10 Batch 2:  Loss:     0.1035  Validation Accuracy: 0.617000\n",
      "Epoch 69, CIFAR-10 Batch 3:  Loss:     0.0970  Validation Accuracy: 0.616600\n",
      "Epoch 69, CIFAR-10 Batch 4:  Loss:     0.0906  Validation Accuracy: 0.613000\n",
      "Epoch 69, CIFAR-10 Batch 5:  Loss:     0.0742  Validation Accuracy: 0.601400\n",
      "Epoch 70, CIFAR-10 Batch 1:  Loss:     0.0698  Validation Accuracy: 0.620400\n",
      "Epoch 70, CIFAR-10 Batch 2:  Loss:     0.0960  Validation Accuracy: 0.631400\n",
      "Epoch 70, CIFAR-10 Batch 3:  Loss:     0.0716  Validation Accuracy: 0.621200\n",
      "Epoch 70, CIFAR-10 Batch 4:  Loss:     0.0685  Validation Accuracy: 0.626200\n",
      "Epoch 70, CIFAR-10 Batch 5:  Loss:     0.0852  Validation Accuracy: 0.614600\n",
      "Epoch 71, CIFAR-10 Batch 1:  Loss:     0.0673  Validation Accuracy: 0.628600\n",
      "Epoch 71, CIFAR-10 Batch 2:  Loss:     0.0907  Validation Accuracy: 0.631600\n",
      "Epoch 71, CIFAR-10 Batch 3:  Loss:     0.0598  Validation Accuracy: 0.617400\n",
      "Epoch 71, CIFAR-10 Batch 4:  Loss:     0.0815  Validation Accuracy: 0.619200\n",
      "Epoch 71, CIFAR-10 Batch 5:  Loss:     0.0730  Validation Accuracy: 0.626400\n",
      "Epoch 72, CIFAR-10 Batch 1:  Loss:     0.0800  Validation Accuracy: 0.624800\n",
      "Epoch 72, CIFAR-10 Batch 2:  Loss:     0.1155  Validation Accuracy: 0.620600\n",
      "Epoch 72, CIFAR-10 Batch 3:  Loss:     0.0735  Validation Accuracy: 0.628200\n",
      "Epoch 72, CIFAR-10 Batch 4:  Loss:     0.0479  Validation Accuracy: 0.649600\n",
      "Epoch 72, CIFAR-10 Batch 5:  Loss:     0.0505  Validation Accuracy: 0.628800\n",
      "Epoch 73, CIFAR-10 Batch 1:  Loss:     0.0783  Validation Accuracy: 0.623600\n",
      "Epoch 73, CIFAR-10 Batch 2:  Loss:     0.0860  Validation Accuracy: 0.628600\n",
      "Epoch 73, CIFAR-10 Batch 3:  Loss:     0.0462  Validation Accuracy: 0.625600\n",
      "Epoch 73, CIFAR-10 Batch 4:  Loss:     0.0418  Validation Accuracy: 0.638800\n",
      "Epoch 73, CIFAR-10 Batch 5:  Loss:     0.0343  Validation Accuracy: 0.639400\n",
      "Epoch 74, CIFAR-10 Batch 1:  Loss:     0.0592  Validation Accuracy: 0.616000\n",
      "Epoch 74, CIFAR-10 Batch 2:  Loss:     0.0692  Validation Accuracy: 0.611800\n",
      "Epoch 74, CIFAR-10 Batch 3:  Loss:     0.0431  Validation Accuracy: 0.632600\n",
      "Epoch 74, CIFAR-10 Batch 4:  Loss:     0.0404  Validation Accuracy: 0.636200\n",
      "Epoch 74, CIFAR-10 Batch 5:  Loss:     0.0383  Validation Accuracy: 0.642600\n",
      "Epoch 75, CIFAR-10 Batch 1:  Loss:     0.0740  Validation Accuracy: 0.595800\n",
      "Epoch 75, CIFAR-10 Batch 2:  Loss:     0.0972  Validation Accuracy: 0.617800\n",
      "Epoch 75, CIFAR-10 Batch 3:  Loss:     0.0530  Validation Accuracy: 0.631000\n",
      "Epoch 75, CIFAR-10 Batch 4:  Loss:     0.0452  Validation Accuracy: 0.630800\n",
      "Epoch 75, CIFAR-10 Batch 5:  Loss:     0.0418  Validation Accuracy: 0.634800\n",
      "Epoch 76, CIFAR-10 Batch 1:  Loss:     0.0371  Validation Accuracy: 0.615200\n",
      "Epoch 76, CIFAR-10 Batch 2:  Loss:     0.0871  Validation Accuracy: 0.622400\n",
      "Epoch 76, CIFAR-10 Batch 3:  Loss:     0.0674  Validation Accuracy: 0.626600\n",
      "Epoch 76, CIFAR-10 Batch 4:  Loss:     0.0351  Validation Accuracy: 0.636000\n",
      "Epoch 76, CIFAR-10 Batch 5:  Loss:     0.0308  Validation Accuracy: 0.637800\n",
      "Epoch 77, CIFAR-10 Batch 1:  Loss:     0.0332  Validation Accuracy: 0.629800\n",
      "Epoch 77, CIFAR-10 Batch 2:  Loss:     0.0804  Validation Accuracy: 0.625200\n",
      "Epoch 77, CIFAR-10 Batch 3:  Loss:     0.0566  Validation Accuracy: 0.631400\n",
      "Epoch 77, CIFAR-10 Batch 4:  Loss:     0.0398  Validation Accuracy: 0.636600\n",
      "Epoch 77, CIFAR-10 Batch 5:  Loss:     0.0351  Validation Accuracy: 0.627000\n",
      "Epoch 78, CIFAR-10 Batch 1:  Loss:     0.0275  Validation Accuracy: 0.637200\n",
      "Epoch 78, CIFAR-10 Batch 2:  Loss:     0.1002  Validation Accuracy: 0.612000\n",
      "Epoch 78, CIFAR-10 Batch 3:  Loss:     0.0335  Validation Accuracy: 0.634800\n",
      "Epoch 78, CIFAR-10 Batch 4:  Loss:     0.0244  Validation Accuracy: 0.633600\n",
      "Epoch 78, CIFAR-10 Batch 5:  Loss:     0.0230  Validation Accuracy: 0.633000\n",
      "Epoch 79, CIFAR-10 Batch 1:  Loss:     0.0255  Validation Accuracy: 0.634800\n",
      "Epoch 79, CIFAR-10 Batch 2:  Loss:     0.0501  Validation Accuracy: 0.613600\n",
      "Epoch 79, CIFAR-10 Batch 3:  Loss:     0.0315  Validation Accuracy: 0.629000\n",
      "Epoch 79, CIFAR-10 Batch 4:  Loss:     0.0321  Validation Accuracy: 0.624400\n",
      "Epoch 79, CIFAR-10 Batch 5:  Loss:     0.0257  Validation Accuracy: 0.631000\n",
      "Epoch 80, CIFAR-10 Batch 1:  Loss:     0.0355  Validation Accuracy: 0.634400\n",
      "Epoch 80, CIFAR-10 Batch 2:  Loss:     0.0602  Validation Accuracy: 0.618400\n",
      "Epoch 80, CIFAR-10 Batch 3:  Loss:     0.0411  Validation Accuracy: 0.639800\n",
      "Epoch 80, CIFAR-10 Batch 4:  Loss:     0.0337  Validation Accuracy: 0.616600\n",
      "Epoch 80, CIFAR-10 Batch 5:  Loss:     0.0281  Validation Accuracy: 0.636200\n"
     ]
    }
   ],
   "source": [
    "\"\"\"\n",
    "DON'T MODIFY ANYTHING IN THIS CELL\n",
    "\"\"\"\n",
    "save_model_path = './image_classification'\n",
    "\n",
    "print('Training...')\n",
    "with tf.Session() as sess:\n",
    "    # Initializing the variables\n",
    "    sess.run(tf.global_variables_initializer())\n",
    "    \n",
    "    # Training cycle\n",
    "    for epoch in range(epochs):\n",
    "        # Loop over all batches\n",
    "        n_batches = 5\n",
    "        for batch_i in range(1, n_batches + 1):\n",
    "            for batch_features, batch_labels in helper.load_preprocess_training_batch(batch_i, batch_size):\n",
    "                train_neural_network(sess, optimizer, keep_probability, batch_features, batch_labels)\n",
    "            print('Epoch {:>2}, CIFAR-10 Batch {}:  '.format(epoch + 1, batch_i), end='')\n",
    "            print_stats(sess, batch_features, batch_labels, cost, accuracy)\n",
    "            \n",
    "    # Save Model\n",
    "    saver = tf.train.Saver()\n",
    "    save_path = saver.save(sess, save_model_path)"
   ]
  },
  {
   "cell_type": "markdown",
   "metadata": {
    "deletable": true,
    "editable": true
   },
   "source": [
    "# Checkpoint\n",
    "The model has been saved to disk.\n",
    "## Test Model\n",
    "Test your model against the test dataset.  This will be your final accuracy. You should have an accuracy greater than 50%. If you don't, keep tweaking the model architecture and parameters."
   ]
  },
  {
   "cell_type": "code",
   "execution_count": 30,
   "metadata": {
    "collapsed": false,
    "deletable": true,
    "editable": true
   },
   "outputs": [
    {
     "name": "stdout",
     "output_type": "stream",
     "text": [
      "Testing Accuracy: 0.6395680129528045\n",
      "\n"
     ]
    },
    {
     "data": {
      "image/png": "[encoded data removed]",
      "text/plain": [
       "<matplotlib.figure.Figure at 0x7fb927d7df60>"
      ]
     },
     "metadata": {
      "image/png": {
       "height": 319,
       "width": 355
      }
     },
     "output_type": "display_data"
    }
   ],
   "source": [
    "\"\"\"\n",
    "DON'T MODIFY ANYTHING IN THIS CELL\n",
    "\"\"\"\n",
    "%matplotlib inline\n",
    "%config InlineBackend.figure_format = 'retina'\n",
    "\n",
    "import tensorflow as tf\n",
    "import pickle\n",
    "import helper\n",
    "import random\n",
    "\n",
    "# Set batch size if not already set\n",
    "try:\n",
    "    if batch_size:\n",
    "        pass\n",
    "except NameError:\n",
    "    batch_size = 64\n",
    "\n",
    "save_model_path = './image_classification'\n",
    "n_samples = 4\n",
    "top_n_predictions = 3\n",
    "\n",
    "def test_model():\n",
    "    \"\"\"\n",
    "    Test the saved model against the test dataset\n",
    "    \"\"\"\n",
    "\n",
    "    test_features, test_labels = pickle.load(open('preprocess_training.p', mode='rb'))\n",
    "    loaded_graph = tf.Graph()\n",
    "\n",
    "    with tf.Session(graph=loaded_graph) as sess:\n",
    "        # Load model\n",
    "        loader = tf.train.import_meta_graph(save_model_path + '.meta')\n",
    "        loader.restore(sess, save_model_path)\n",
    "\n",
    "        # Get Tensors from loaded model\n",
    "        loaded_x = loaded_graph.get_tensor_by_name('x:0')\n",
    "        loaded_y = loaded_graph.get_tensor_by_name('y:0')\n",
    "        loaded_keep_prob = loaded_graph.get_tensor_by_name('keep_prob:0')\n",
    "        loaded_logits = loaded_graph.get_tensor_by_name('logits:0')\n",
    "        loaded_acc = loaded_graph.get_tensor_by_name('accuracy:0')\n",
    "        \n",
    "        # Get accuracy in batches for memory limitations\n",
    "        test_batch_acc_total = 0\n",
    "        test_batch_count = 0\n",
    "        \n",
    "        for train_feature_batch, train_label_batch in helper.batch_features_labels(test_features, test_labels, batch_size):\n",
    "            test_batch_acc_total += sess.run(\n",
    "                loaded_acc,\n",
    "                feed_dict={loaded_x: train_feature_batch, loaded_y: train_label_batch, loaded_keep_prob: 1.0})\n",
    "            test_batch_count += 1\n",
    "\n",
    "        print('Testing Accuracy: {}\\n'.format(test_batch_acc_total/test_batch_count))\n",
    "\n",
    "        # Print Random Samples\n",
    "        random_test_features, random_test_labels = tuple(zip(*random.sample(list(zip(test_features, test_labels)), n_samples)))\n",
    "        random_test_predictions = sess.run(\n",
    "            tf.nn.top_k(tf.nn.softmax(loaded_logits), top_n_predictions),\n",
    "            feed_dict={loaded_x: random_test_features, loaded_y: random_test_labels, loaded_keep_prob: 1.0})\n",
    "        helper.display_image_predictions(random_test_features, random_test_labels, random_test_predictions)\n",
    "\n",
    "\n",
    "test_model()"
   ]
  },
  {
   "cell_type": "markdown",
   "metadata": {
    "deletable": true,
    "editable": true
   },
   "source": [
    "## Why 50-80% Accuracy?\n",
    "You might be wondering why you can't get an accuracy any higher. First things first, 50% isn't bad for a simple CNN.  Pure guessing would get you 10% accuracy. That's because there are many more techniques that can be applied to your model and we recemmond that once you are done with this project, you explore!\n",
    "\n",
    "## Submitting This Project\n",
    "When submitting this project, make sure to run all the cells before saving the notebook.  Save the notebook file as \"image_classification.ipynb\" and save it as a HTML file under \"File\" -> \"Download as\".  Include the \"helper.py\" and \"problem_unittests.py\" files in your submission."
   ]
  }
 ],
 "metadata": {
  "anaconda-cloud": {},
  "kernelspec": {
   "display_name": "Python 3",
   "language": "python",
   "name": "python3"
  },
  "language_info": {
   "codemirror_mode": {
    "name": "ipython",
    "version": 3
   },
   "file_extension": ".py",
   "mimetype": "text/x-python",
   "name": "python",
   "nbconvert_exporter": "python",
   "pygments_lexer": "ipython3",
   "version": "3.5.3"
  }
 },
 "nbformat": 4,
 "nbformat_minor": 0
}
